{
 "cells": [
  {
   "cell_type": "markdown",
   "metadata": {},
   "source": [
    "INSTALAÇÃO DE DEPENDÊNCIAS E BIBLIOTECAS QUE SERÃO NECESSÁRIAS"
   ]
  },
  {
   "cell_type": "code",
   "execution_count": null,
   "metadata": {},
   "outputs": [],
   "source": [
    "!pip install pydantic\n",
    "!pip install pydantic[email]"
   ]
  },
  {
   "cell_type": "markdown",
   "metadata": {},
   "source": [
    "IMPORTAÇÕES DAS BIBLIOTECAS QUE SERÃO UTILIZADAS NO CÓDIGO"
   ]
  },
  {
   "cell_type": "code",
   "execution_count": 6,
   "metadata": {},
   "outputs": [],
   "source": [
    "from enum import auto, IntFlag\n",
    "from typing import Any\n",
    "from pydantic import (\n",
    "    BaseModel,\n",
    "    EmailStr,\n",
    "    Field,\n",
    "    SecretStr,\n",
    "    ValidationError,\n",
    ")"
   ]
  },
  {
   "cell_type": "markdown",
   "metadata": {},
   "source": [
    "CRIAÇÃO DE UMA CLASSE DE CLASSIFICAÇÃO DE PERMISSÕES"
   ]
  },
  {
   "cell_type": "code",
   "execution_count": null,
   "metadata": {},
   "outputs": [],
   "source": [
    "# Essa classe serve para designar uma função para o Usuário\n",
    "# O ordem de \"importância\" segue a ordem de declaração\n",
    "# Ou seja, Author < Editor < Developer < Admin\n",
    "# O auto serve para dar uma valor associado à uma potência de 2 para cada função\n",
    "class Role(IntFlag):\n",
    "    Author = auto()\n",
    "    Editor = auto()\n",
    "    Developer = auto()\n",
    "    Admin = Author | Editor | Developer"
   ]
  },
  {
   "cell_type": "markdown",
   "metadata": {},
   "source": [
    "CRIAÇÃO DA CLASSE USUÁRIO"
   ]
  },
  {
   "cell_type": "code",
   "execution_count": null,
   "metadata": {},
   "outputs": [],
   "source": [
    "class User(BaseModel):\n",
    "    # O uso do 'str' é para garantir que o campo seja uma string, além disso ele oferce um exemplo de um valor válido para essa variável\n",
    "    name: str = Field(examples=[\"Arjan\"])\n",
    "    # O uso do 'EmailStr' é para garantir que o campo seja um email\n",
    "    # O 'Field' é utilizado para adicionar metadados e resrições ao campo, servindo como uma indicação do formato esperado para esse campo\n",
    "    email: EmailStr = Field(\n",
    "        # Ele oferce um exemplo de um valor válido para essa variável\n",
    "        examples=[\"example@arjancodes.com\"],\n",
    "        # Aqui é feita uma descrição do que é esperado para esse campo\n",
    "        description=\"The email address of the user\",\n",
    "        #O parâmetro Frozen é utilizado para garantir que o objeto não seja alterado após a sua criação\n",
    "        frozen=True,\n",
    "    )\n",
    "    # O uso do 'SecretStr' é para garantir que o campo seja uma senha, ou seja, caso ela seja exibida em algum lugar, ela será exibida como '********'\n",
    "    password: SecretStr = Field(\n",
    "        examples=[\"Password123\"], description=\"The password of the user\"\n",
    "    )\n",
    "    # O atributo role é utilizado para designar a função do usuário\n",
    "    role: Role = Field(default=None, description=\"The role of the user\")"
   ]
  },
  {
   "cell_type": "markdown",
   "metadata": {},
   "source": [
    "CRIAÇÃO DE UMA FUNÇÃO DE VALIDAÇÃO"
   ]
  },
  {
   "cell_type": "code",
   "execution_count": 9,
   "metadata": {},
   "outputs": [],
   "source": [
    "# A criação da função 'model_validate' é criada com um parametro 'data' que é do tipo 'dict' e não retorna nada\n",
    "def validate(data: dict[str, Any]) -> None:\n",
    "    try:\n",
    "        # Aqui é feita a validação do modelo 'User', se os dados estão de acordo com a estrutura do User\n",
    "        user = User.model_validate(data)\n",
    "        # Caso os dados estejam corretos, o usuário é exibido\n",
    "        print(user)\n",
    "    except ValidationError as e:\n",
    "        print('User is invalid')\n",
    "        # Caso os dados estejam incorretos, os erros são exibidos e é mostrado que o usuário é inválido\n",
    "        for error in e.errors():\n",
    "            print(error)"
   ]
  },
  {
   "cell_type": "markdown",
   "metadata": {},
   "source": [
    "CRIAÇÃO DA FUNÇÃO MAIN (PRINCIPAL)"
   ]
  },
  {
   "cell_type": "code",
   "execution_count": null,
   "metadata": {},
   "outputs": [],
   "source": [
    "def main() -> None:\n",
    "    \"\"\"\n",
    "    Essa função é responsável por chamar a função 'validate' com dados corretos e incorretos\n",
    "    Ela possui dados de acordo com o que foi pedido e\n",
    "    dados que não estão de acordo com o que foi pedido\n",
    "    Exemplo:\n",
    "     good_data = {\n",
    "        \"name\": \"Arjan\",\n",
    "        \"email\": \"example@arjancodes.com\",\n",
    "        \"password\": \"Password123\",\n",
    "    }\n",
    "     validate(good_data)\n",
    "\n",
    "\n",
    "    main() -> name='Arjan' email='example@arjancodes.com' password=SecretStr('**********') role=None\n",
    "    \n",
    "    \"\"\"\n",
    "    good_data = {\n",
    "        \"name\": \"Arjan\",\n",
    "        \"email\": \"example@arjancodes.com\",\n",
    "        \"password\": \"Password123\",\n",
    "    }\n",
    "    bad_data = {\"email\": \"<bad data>\", \"password\": \"<bad data>\"}\n",
    "\n",
    "    # Aqui é chamado a função 'validate' com os dados corretos e incorretos\n",
    "    validate(good_data)\n",
    "    validate(bad_data)"
   ]
  },
  {
   "cell_type": "markdown",
   "metadata": {},
   "source": [
    "EXECUÇÃO DA FUNÇÃO MAIN "
   ]
  },
  {
   "cell_type": "code",
   "execution_count": 11,
   "metadata": {},
   "outputs": [
    {
     "name": "stdout",
     "output_type": "stream",
     "text": [
      "name='Arjan' email='example@arjancodes.com' password=SecretStr('**********') role=None\n",
      "User is invalid\n",
      "{'type': 'missing', 'loc': ('name',), 'msg': 'Field required', 'input': {'email': '<bad data>', 'password': '<bad data>'}, 'url': 'https://errors.pydantic.dev/2.8/v/missing'}\n",
      "{'type': 'value_error', 'loc': ('email',), 'msg': 'value is not a valid email address: An email address must have an @-sign.', 'input': '<bad data>', 'ctx': {'reason': 'An email address must have an @-sign.'}}\n"
     ]
    }
   ],
   "source": [
    "if __name__ == \"__main__\":\n",
    "    main()"
   ]
  }
 ],
 "metadata": {
  "kernelspec": {
   "display_name": "base",
   "language": "python",
   "name": "python3"
  },
  "language_info": {
   "codemirror_mode": {
    "name": "ipython",
    "version": 3
   },
   "file_extension": ".py",
   "mimetype": "text/x-python",
   "name": "python",
   "nbconvert_exporter": "python",
   "pygments_lexer": "ipython3",
   "version": "3.12.7"
  }
 },
 "nbformat": 4,
 "nbformat_minor": 2
}
