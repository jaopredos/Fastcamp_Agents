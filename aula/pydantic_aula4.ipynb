{
 "cells": [
  {
   "cell_type": "markdown",
   "metadata": {},
   "source": [
    "INSTALAÇÃO DE DEPENDÊNCIAS E BIBLIOTECAS QUE SERÃO NECESSÁRIAS"
   ]
  },
  {
   "cell_type": "code",
   "execution_count": null,
   "metadata": {},
   "outputs": [],
   "source": [
    "!pip install pydantic\n",
    "!pip install pydantic[email]\n",
    "!pip install fastapi"
   ]
  },
  {
   "cell_type": "markdown",
   "metadata": {},
   "source": [
    "IMPORTAÇÕES DAS BIBLIOTECAS QUE SERÃO UTILIZADAS NO CÓDIGO"
   ]
  },
  {
   "cell_type": "code",
   "execution_count": 20,
   "metadata": {},
   "outputs": [],
   "source": [
    "from datetime import datetime\n",
    "from typing import Optional\n",
    "from uuid import uuid4\n",
    "\n",
    "from fastapi import FastAPI\n",
    "from fastapi.responses import JSONResponse\n",
    "from fastapi.testclient import TestClient\n",
    "from pydantic import BaseModel, EmailStr, Field, field_serializer, UUID4"
   ]
  },
  {
   "cell_type": "markdown",
   "metadata": {},
   "source": [
    "CRIAÇÃO DE UM OBJETO FASTAPI"
   ]
  },
  {
   "cell_type": "code",
   "execution_count": 21,
   "metadata": {},
   "outputs": [],
   "source": [
    "app = FastAPI()"
   ]
  },
  {
   "cell_type": "markdown",
   "metadata": {},
   "source": [
    "CRIAÇÃO DA CLASSE USUÁRIO COM VALIDAÇÕES E SERIALIZAÇÃO PERSONALIZADAS PARA OS DADOS"
   ]
  },
  {
   "cell_type": "code",
   "execution_count": null,
   "metadata": {},
   "outputs": [],
   "source": [
    "class User(BaseModel):\n",
    "    # Isso proíbe que atributos extras sejam adicionados ao modelo\n",
    "    model_config = {\n",
    "        \"extra\": \"forbid\",\n",
    "    }\n",
    "\n",
    "    __users__ = []\n",
    "    \n",
    "    # O uso do 'str' é para garantir que o campo seja uma string, \n",
    "    # além disso ele oferce um exemplo de um valor válido para essa variável\n",
    "    name: str = Field(examples=[\"Example\"])\n",
    "    \n",
    "    # O uso do 'EmailStr' é para garantir que o campo seja um email\n",
    "    # O 'Field' é utilizado para adicionar metadados e resrições ao campo, \n",
    "    # servindo como uma indicação do formato esperado para esse campo\n",
    "    email: EmailStr = Field(\n",
    "        # Ele oferce um exemplo de um valor válido para essa variável\n",
    "        examples=[\"user@arjancodes.com\"],\n",
    "        # Aqui é feita uma descrição do que é esperado para esse campo\n",
    "        description=\"The email address of the user\",\n",
    "        #O parâmetro Frozen é utilizado para garantir que o objeto não seja alterado após a sua criação\n",
    "        frozen=True,\n",
    "    )\n",
    "\n",
    "    # Criação de uma lista de amigos, com um limite de 500 amigos \n",
    "    friends: list[UUID4] = Field(\n",
    "        default_factory=list, max_items=500, description=\"List of friends\"\n",
    "    )\n",
    "\n",
    "    # Criação de uma lista de usuários bloqueados, com um limite de 500 usuários\n",
    "    blocked: list[UUID4] = Field(\n",
    "        default_factory=list, max_items=500, description=\"List of blocked users\"\n",
    "    )\n",
    "\n",
    "    # Criação de um campo de data de registro, com um valor padrão de agora\n",
    "    # O 'Optional' é utilizado para indicar que o campo é opcional\n",
    "    signup_ts: Optional[datetime] = Field(\n",
    "        default_factory=datetime.now, description=\"Signup timestamp\", kw_only=True\n",
    "    )\n",
    "\n",
    "    # Criação de um campo de identificação, com um valor padrão de um UUID4\n",
    "    # Esse valor será utilizado para identificar o usuário de forma única\n",
    "    id: UUID4 = Field(\n",
    "        default_factory=uuid4, description=\"Unique identifier\", kw_only=True\n",
    "    )\n",
    "    \n",
    "    # A função será responsável por serializar o campo 'id' para o formato 'json'\n",
    "    @field_serializer(\"id\", when_used=\"json\")\n",
    "    def serialize_id(self, id: UUID4) -> str:\n",
    "        return str(id)"
   ]
  },
  {
   "cell_type": "markdown",
   "metadata": {},
   "source": [
    "DEFINIÇÃO DE UMA API REST"
   ]
  },
  {
   "cell_type": "code",
   "execution_count": 23,
   "metadata": {},
   "outputs": [],
   "source": [
    "# Endpoint responsável por retornar a lista de usuários\n",
    "@app.get(\"/users\", response_model=list[User])\n",
    "async def get_users() -> list[User]:\n",
    "    return list(User.__users__)\n",
    "\n",
    "# Endpoint responsável por criar um novo usuário\n",
    "@app.post(\"/users\", response_model=User)\n",
    "async def create_user(user: User):\n",
    "    User.__users__.append(user)\n",
    "    return user\n",
    "\n",
    "# Endpoint responsável por retornar um usuário específico, por meio do seu id\n",
    "@app.get(\"/users/{user_id}\", response_model=User)\n",
    "async def get_user(user_id: UUID4) -> User | JSONResponse:\n",
    "    try:\n",
    "        return next((user for user in User.__users__ if user.id == user_id))\n",
    "    except StopIteration:\n",
    "        return JSONResponse(status_code=404, content={\"message\": \"User not found\"})\n"
   ]
  },
  {
   "cell_type": "markdown",
   "metadata": {},
   "source": [
    "CRIAÇÃO DA FUNÇÃO MAIN (PRINCIPAL)"
   ]
  },
  {
   "cell_type": "code",
   "execution_count": 24,
   "metadata": {},
   "outputs": [],
   "source": [
    "def main() -> None:\n",
    "    # Criação de um cliente de teste para testar a aplicação, sem precisar rodar o servidor\n",
    "    with TestClient(app) as client:\n",
    "        # Teste de criação de 5 usuários\n",
    "        for i in range(5):\n",
    "            response = client.post(\n",
    "                \"/users\",\n",
    "                json={\"name\": f\"User {i}\", \"email\": f\"example{i}@arjancodes.com\"},\n",
    "            )\n",
    "\n",
    "            # Verificação de que o código de resposta é 200\n",
    "            assert response.status_code == 200\n",
    "            \n",
    "            # Verificação de que o nome do usuário é \"User {i}\"\n",
    "            assert response.json()[\"name\"] == f\"User {i}\", (\n",
    "                \"The name of the user should be User {i}\"\n",
    "            )\n",
    "            \n",
    "            # Verificação de que o usuário tem um id\n",
    "            assert response.json()[\"id\"], \"The user should have an id\"\n",
    "\n",
    "            # Conversão do json para um objeto do tipo User e validação do modelo\n",
    "            user = User.model_validate(response.json())\n",
    "\n",
    "            # Verificação de que o id do usuário é o mesmo do json\n",
    "            assert str(user.id) == response.json()[\"id\"], \"The id should be the same\"\n",
    "\n",
    "            # Verificação de que o timestamp de registro foi definido\n",
    "            assert user.signup_ts, \"The signup timestamp should be set\"\n",
    "\n",
    "            # Verificação de que a lista de amigos está vazia\n",
    "            assert user.friends == [], \"The friends list should be empty\"\n",
    "\n",
    "            # Verificação de que a lista de bloqueados está vazia\n",
    "            assert user.blocked == [], \"The blocked list should be empty\"\n",
    "\n",
    "        # Teste de obtenção da lista de usuários criados anteriormente\n",
    "        response = client.get(\"/users\")\n",
    "\n",
    "        # Verificação de que o código de resposta é 200\n",
    "        assert response.status_code == 200, \"Response code should be 200\"\n",
    "\n",
    "        # Verificação de que a lista de usuários tem 5 usuários\n",
    "        assert len(response.json()) == 5, \"There should be 5 users\"\n",
    "\n",
    "        # Criação de um novo usuário\n",
    "        response = client.post(\n",
    "            \"/users\", json={\"name\": \"User 5\", \"email\": \"example5@arjancodes.com\"}\n",
    "        )\n",
    "\n",
    "        # Verificação de que o código de resposta é 200\n",
    "        assert response.status_code == 200\n",
    "        \n",
    "        # Verificação de que o nome do usuário é \"User 5\"\n",
    "        assert response.json()[\"name\"] == \"User 5\", (\n",
    "            \"The name of the user should be User 5\"\n",
    "        )\n",
    "        \n",
    "        # Verificação de que o usuário tem um id\n",
    "        assert response.json()[\"id\"], \"The user should have an id\"\n",
    "        \n",
    "        # Conversão do json para um objeto do tipo User e validação do modelo\n",
    "        user = User.model_validate(response.json())\n",
    "\n",
    "        # Verificação de que o id do usuário é o mesmo do json\n",
    "        assert str(user.id) == response.json()[\"id\"], \"The id should be the same\"\n",
    "        # Verificação de que o timestamp de registro foi definido\n",
    "        assert user.signup_ts, \"The signup timestamp should be set\"\n",
    "        # Verificação de que a lista de amigos está vazia\n",
    "        assert user.friends == [], \"The friends list should be empty\"\n",
    "        # Verificação de que a lista de bloqueados está vazia\n",
    "        assert user.blocked == [], \"The blocked list should be empty\"\n",
    "\n",
    "        # Teste de obtenção de um usuário específico, que nesse caso é o último usuário criado\n",
    "        response = client.get(f\"/users/{response.json()['id']}\")\n",
    "        assert response.status_code == 200\n",
    "        assert response.json()[\"name\"] == \"User 5\", (\n",
    "            \"This should be the newly created user\"\n",
    "        )\n",
    "\n",
    "        # Teste de obtenção de um usuário específico, que nesse caso é um usuário que não existe\n",
    "        response = client.get(f\"/users/{uuid4()}\")\n",
    "        assert response.status_code == 404\n",
    "        assert response.json()[\"message\"] == \"User not found\", (\n",
    "            \"We technically should not find this user\"\n",
    "        )\n",
    "\n",
    "        # Teste de criação de um usuário com um email inválido\n",
    "        response = client.post(\"/users\", json={\"name\": \"User 6\", \"email\": \"wrong\"})\n",
    "        assert response.status_code == 422, \"The email address is should be invalid\""
   ]
  },
  {
   "cell_type": "markdown",
   "metadata": {},
   "source": [
    "EXECUÇÃO DA FUNÇÃO MAIN "
   ]
  },
  {
   "cell_type": "code",
   "execution_count": 25,
   "metadata": {},
   "outputs": [],
   "source": [
    "if __name__ == \"__main__\":\n",
    "    main()"
   ]
  }
 ],
 "metadata": {
  "kernelspec": {
   "display_name": "base",
   "language": "python",
   "name": "python3"
  },
  "language_info": {
   "codemirror_mode": {
    "name": "ipython",
    "version": 3
   },
   "file_extension": ".py",
   "mimetype": "text/x-python",
   "name": "python",
   "nbconvert_exporter": "python",
   "pygments_lexer": "ipython3",
   "version": "3.12.7"
  }
 },
 "nbformat": 4,
 "nbformat_minor": 2
}
