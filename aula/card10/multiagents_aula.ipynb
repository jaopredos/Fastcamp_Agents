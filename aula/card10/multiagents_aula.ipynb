{
 "cells": [
  {
   "cell_type": "markdown",
   "metadata": {},
   "source": [
    "CONTROLE DE AVISOS"
   ]
  },
  {
   "cell_type": "code",
   "execution_count": 2,
   "metadata": {},
   "outputs": [],
   "source": [
    "import warnings\n",
    "#Essa linha serve para ignorar os avisos que aparecem no código\n",
    "warnings.filterwarnings(\"ignore\")"
   ]
  },
  {
   "cell_type": "markdown",
   "metadata": {},
   "source": [
    "INSTALAÇÃO DAS BIBLIOTECAS NECESSÁRIAS"
   ]
  },
  {
   "cell_type": "code",
   "execution_count": null,
   "metadata": {},
   "outputs": [],
   "source": [
    "%pip install crewai_tools"
   ]
  },
  {
   "cell_type": "markdown",
   "metadata": {},
   "source": [
    "IMPORTAÇÃO DAS BIBLIOTECAS NECESSÁRIAS"
   ]
  },
  {
   "cell_type": "code",
   "execution_count": null,
   "metadata": {},
   "outputs": [],
   "source": [
    "from crewai import Agent, Task, Crew\n",
    "from crewai_tools import SerperDevTool, ScrapeWebsiteTool, WebsiteSearchTool\n",
    "import os"
   ]
  },
  {
   "cell_type": "code",
   "execution_count": 2,
   "metadata": {},
   "outputs": [],
   "source": [
    "#Definindo a chave de API do OpenAI\n",
    "OPENAI_API_KEY = os.getenv('OPENAI_API_KEY')\n",
    "#Definindo o modelo do ChatGPT que será usado\n",
    "os.environ[\"OPENAI_MODEL_NAME\"] = 'gpt-3.5-turbo'"
   ]
  },
  {
   "cell_type": "markdown",
   "metadata": {},
   "source": [
    "CRIAÇÃO DE AGENTES"
   ]
  },
  {
   "cell_type": "code",
   "execution_count": null,
   "metadata": {},
   "outputs": [],
   "source": [
    "#Definindo o agente de suporte\n",
    "support_agent = Agent(\n",
    "    #Definindo a função do agente\n",
    "    role=\"Senior Support Representative\",\n",
    "    #Definindo o objetivo do agente\n",
    "    goal=\"Be the most friendly and helpful support representative in your team\",\n",
    "    #Aqui é definida a \"identidade\" do agente,\n",
    "    #ou seja, o modo como ele irá agir\n",
    "    backstory=(\n",
    "        \"You work at crewAI (https://crewai.com) and are now working on providing\"\n",
    "        \"support to {customer}, a super important costumer for your company.\"\n",
    "        \"You need to make sure that you provide the best support!\"\n",
    "        \"Make sure to provide full complete answers, and make no assumptions.\"\n",
    "    ),\n",
    "    #Esse agente não podera delegar tarefas para outros\n",
    "    allow_delegation=False,\n",
    "    #Parâmetro que define se as mensagens sobre as \n",
    "    #ações realizadas pelos agentes serão exibidas\n",
    "    verbose=True\n",
    ")"
   ]
  },
  {
   "cell_type": "code",
   "execution_count": null,
   "metadata": {},
   "outputs": [],
   "source": [
    "#Definindo o agente de qualidade de suporte, esse agente pode delegar tarefas\n",
    "support_quality_assurance_agent = Agent(\n",
    "    #Definindo a função do agente\n",
    "    role=\"Support Quality Assurance Specialist\",\n",
    "    #Definindo o objetivo do agente\n",
    "    goal=\"Get recognition for providing the best support quality assurance in your team\",\n",
    "    #Aqui é definida a \"identidade\" do agente,\n",
    "    #ou seja, o modo como ele irá agir\n",
    "    backstory=(\n",
    "        \"You work at crewAI (https://crewai.com) and are now working with your team on\"\n",
    "        \"a request from {customer} ensuring that the support representative\"\n",
    "        \"is providing the best support possible.\\n\"\n",
    "        \"You need to make sure that the support representative is providing\"\n",
    "        \"full complete answers, and make no assumptions.\"\n",
    "    ),\n",
    "    #Parâmetro que define se as mensagens sobre as \n",
    "    #ações realizadas pelos agentes serão exibidas\n",
    "    verbose=True\n",
    ")"
   ]
  },
  {
   "cell_type": "markdown",
   "metadata": {},
   "source": [
    "Possible Custom Tools\n",
    "- Load customer data\n",
    "- Tap into previous conversations\n",
    "- Load data from a CRM\n",
    "- Checking existing bug reports\n",
    "- Checking existing feature requests\n",
    "- Checking ongoing tickets\n",
    "- ... and more"
   ]
  },
  {
   "cell_type": "markdown",
   "metadata": {},
   "source": [
    "DEFINIÇÃO DAS FERRAMENTAS"
   ]
  },
  {
   "cell_type": "code",
   "execution_count": null,
   "metadata": {},
   "outputs": [],
   "source": [
    "#Definindo uma ferramenta para fazer buscas no Google\n",
    "search_tool = SerperDevTool()\n",
    "#Definindo uma ferramenta para retirar as informações de um site\n",
    "scrape_tool = ScrapeWebsiteTool()\n",
    "#Definindo uma ferramenta para fazer buscas em um site\n",
    "docs_scrape_tool = ScrapeWebsiteTool(\n",
    "    website_url=\"https://docs.crewai.com/how-to/Creating-a-Crew-and-kick-it-off/\"\n",
    ")"
   ]
  },
  {
   "cell_type": "markdown",
   "metadata": {},
   "source": [
    "Different Ways to Give Agents Tools\n",
    "- Agent Level: The Agent can use the Tool(s) on any Task it performs.\n",
    "- Task Level: The Agent will only use the Tool(s) when performing that specific task\n",
    "\n",
    "Note: Tasks Tools override the Agent Tools"
   ]
  },
  {
   "cell_type": "markdown",
   "metadata": {},
   "source": [
    "CRIAÇÃO DAS TASKS"
   ]
  },
  {
   "cell_type": "code",
   "execution_count": null,
   "metadata": {},
   "outputs": [],
   "source": [
    "inquiry_resolution = Task(\n",
    "    #Aqui é definida a descrição da tarefa, o que esperamos que o agente faça, a tarefa planejada\n",
    "    #Nesse caso, o agente deve responder a uma pergunta de um cliente\n",
    "    description=(\n",
    "        \"{customer} just reached out with a super important ask:\\n\"\n",
    "        \"{inquiry}\\n\\n\"\n",
    "        \"{person} from {customer} is the one that reached out. Make sure \"\n",
    "        \"to use everything you know to provide the best support possible.\"\n",
    "        \"You must strive to provide a complete and accurate response to the costumer's  inquiry.\"\n",
    "    ),\n",
    "    #Aqui é definido o output esperado, o que esperamos que o agente retorne\n",
    "    expected_output=(\n",
    "        \"A detailed, informative response to the costumer's \"\n",
    "        \"inquiry that addresses all aspects of their question.\\n\"\n",
    "        \"The response should include references to everything \"\n",
    "        \"you used to find the answer, including external data or solutions.\"\n",
    "        \"Ensure the answer is complete, leaving no questions unanswered,\"\n",
    "        \"and maitain a helpful and friendly tone throughout.\"\n",
    "    ),\n",
    "    #Aqui é definida as ferramentas que o agente pode usar para realizar a tarefa\n",
    "    tools=[docs_scrape_tool],\n",
    "    #Aqui é definido o agente que irá realizar a tarefa\n",
    "    agent=support_agent,\n",
    ")"
   ]
  },
  {
   "cell_type": "code",
   "execution_count": null,
   "metadata": {},
   "outputs": [],
   "source": [
    "quality_assurance_review = Task(\n",
    "    #Aqui é definida a descrição da tarefa, o que esperamos que o agente faça, a tarefa planejada\n",
    "    #Nesse caso, o agente deve revisar a resposta feita pelo Representante de Suporte Sênior\n",
    "    description=(\n",
    "        \"Review the response drafted by the Senior Support Representative\"\n",
    "        \"Ensure that the answer is comprehensive, accurate, and adheres to the\"\n",
    "        \"high-quality standards expected for customer support.\\n\"\n",
    "        \"Verify that all parts of the customer's inquiry have been addressed \"\n",
    "        \"thoroughly, with a helful and friendly tone.\\n\"\n",
    "        \"Check for references and sources used to find the information,\"\n",
    "        \"ensuring the response is well-supported and leaves no questions unanswered.\"\n",
    "    ),\n",
    "    #Aqui é definido o resultado esperado da tarefa, o que esperamos que o agente entregue\n",
    "    expected_output=(\n",
    "        \"A final, detailed, and informative response ready to be sent to the costumer.\\n\"\n",
    "        \"This response should fully address the costumer's inquiry,\"\n",
    "        \"incoporating all relevant feedback and improvements.\\n\"\n",
    "        \"Don't be too formal, we are a chill and cool company, \"\n",
    "        \"but maintain a professional and friendly tone throughout.\"\n",
    "    ),\n",
    "    #Aqui é a atribuição da tarefa para o respectivo agente \n",
    "    agent=support_quality_assurance_agent,\n",
    ")"
   ]
  },
  {
   "cell_type": "markdown",
   "metadata": {},
   "source": [
    "CRIAÇÃO DO CREW (GRUPO DOS AGENTES QUE TRABALHAM JUNTOS)"
   ]
  },
  {
   "cell_type": "code",
   "execution_count": null,
   "metadata": {},
   "outputs": [],
   "source": [
    "crew = Crew(\n",
    "    #Adicionando os agentes ao Crew\n",
    "    agents=[support_agent, support_quality_assurance_agent],\n",
    "    #Adicionando as tarefas ao Crew\n",
    "    tasks=[inquiry_resolution, quality_assurance_review],\n",
    "    #Parâmetro que define se as mensagens sobre as \n",
    "    #ações realizadas pelos agentes serão exibidas\n",
    "    verbose=True,\n",
    "    #Ativa todas as memórias disponíveis no CrewAI\n",
    "    memory=True,\n",
    ")"
   ]
  },
  {
   "cell_type": "markdown",
   "metadata": {},
   "source": [
    "CHAMANDO A FUNÇÃO CREW PARA QUE O SISTEMA SEJA REALIZADO"
   ]
  },
  {
   "cell_type": "code",
   "execution_count": null,
   "metadata": {},
   "outputs": [],
   "source": [
    "#Definindo os valores de entrada para o Crew, \n",
    "#os valores que preencheram os campos/variáveis dos \"prompts\"\n",
    "inputs = {\n",
    "    \"customer\": \"DeepLearningAI\",\n",
    "    \"person\": \"Andrew Ng\",\n",
    "    \"inquiry\": \"I need help with setting up a Crew and kicking it off,\"\n",
    "    \" specifically how can I add memory to my crew? Can you provide guidance?\"\n",
    "}\n",
    "#Iniciando o Crew\n",
    "result = crew.kickoff(inputs=inputs)"
   ]
  }
 ],
 "metadata": {
  "kernelspec": {
   "display_name": "Python 3",
   "language": "python",
   "name": "python3"
  },
  "language_info": {
   "codemirror_mode": {
    "name": "ipython",
    "version": 3
   },
   "file_extension": ".py",
   "mimetype": "text/x-python",
   "name": "python",
   "nbconvert_exporter": "python",
   "pygments_lexer": "ipython3",
   "version": "3.12.7"
  }
 },
 "nbformat": 4,
 "nbformat_minor": 2
}
