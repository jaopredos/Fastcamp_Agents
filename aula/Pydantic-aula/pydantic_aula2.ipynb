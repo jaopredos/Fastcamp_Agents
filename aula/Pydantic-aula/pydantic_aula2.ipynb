{
 "cells": [
  {
   "cell_type": "markdown",
   "metadata": {},
   "source": [
    "INSTALAÇÃO DE DEPENDÊNCIAS E BIBLIOTECAS QUE SERÃO NECESSÁRIAS"
   ]
  },
  {
   "cell_type": "code",
   "execution_count": 30,
   "metadata": {},
   "outputs": [
    {
     "name": "stdout",
     "output_type": "stream",
     "text": [
      "Requirement already satisfied: pydantic in c:\\users\\joão pedro\\anaconda3\\lib\\site-packages (2.8.2)\n",
      "Requirement already satisfied: annotated-types>=0.4.0 in c:\\users\\joão pedro\\anaconda3\\lib\\site-packages (from pydantic) (0.6.0)\n",
      "Requirement already satisfied: pydantic-core==2.20.1 in c:\\users\\joão pedro\\anaconda3\\lib\\site-packages (from pydantic) (2.20.1)\n",
      "Requirement already satisfied: typing-extensions>=4.6.1 in c:\\users\\joão pedro\\anaconda3\\lib\\site-packages (from pydantic) (4.11.0)\n",
      "Requirement already satisfied: pydantic[email] in c:\\users\\joão pedro\\anaconda3\\lib\\site-packages (2.8.2)\n",
      "Requirement already satisfied: annotated-types>=0.4.0 in c:\\users\\joão pedro\\anaconda3\\lib\\site-packages (from pydantic[email]) (0.6.0)\n",
      "Requirement already satisfied: pydantic-core==2.20.1 in c:\\users\\joão pedro\\anaconda3\\lib\\site-packages (from pydantic[email]) (2.20.1)\n",
      "Requirement already satisfied: typing-extensions>=4.6.1 in c:\\users\\joão pedro\\anaconda3\\lib\\site-packages (from pydantic[email]) (4.11.0)\n",
      "Requirement already satisfied: email-validator>=2.0.0 in c:\\users\\joão pedro\\anaconda3\\lib\\site-packages (from pydantic[email]) (2.2.0)\n",
      "Requirement already satisfied: dnspython>=2.0.0 in c:\\users\\joão pedro\\anaconda3\\lib\\site-packages (from email-validator>=2.0.0->pydantic[email]) (2.7.0)\n",
      "Requirement already satisfied: idna>=2.0.0 in c:\\users\\joão pedro\\anaconda3\\lib\\site-packages (from email-validator>=2.0.0->pydantic[email]) (3.7)\n"
     ]
    }
   ],
   "source": [
    "!pip install pydantic\n",
    "!pip install pydantic[email]"
   ]
  },
  {
   "cell_type": "markdown",
   "metadata": {},
   "source": [
    "IMPORTAÇÕES DAS BIBLIOTECAS QUE SERÃO UTILIZADAS NO CÓDIGO"
   ]
  },
  {
   "cell_type": "code",
   "execution_count": 31,
   "metadata": {},
   "outputs": [],
   "source": [
    "import enum\n",
    "import hashlib\n",
    "import re\n",
    "from typing import Any\n",
    "from pydantic import (\n",
    "    BaseModel,\n",
    "    EmailStr,\n",
    "    Field,\n",
    "    field_validator,\n",
    "    model_validator,\n",
    "    SecretStr,\n",
    "    ValidationError,\n",
    ")"
   ]
  },
  {
   "cell_type": "markdown",
   "metadata": {},
   "source": [
    "CRIAÇÃO DE EXPRESSÕES REGULARES PARA VALIDAR NOMES E SENHAS"
   ]
  },
  {
   "cell_type": "code",
   "execution_count": null,
   "metadata": {},
   "outputs": [],
   "source": [
    "# Define uma regra para as senhas, a senha deve possuir no mínimo 8 caracteres,\n",
    "# sendo pelo menos 1 letra maiúscula, 1 letra minúscula e 1 número.\n",
    "VALID_PASSWORD_REGEX = re.compile(r\"^(?=.*[A-Z])(?=.*[a-z])(?=.*\\d).{8,}$\")\n",
    "# Define uma regra para os nomes, o nome deve possuir no mínimo 2 caracteres.\n",
    "VALID_NAME_REGEX = re.compile(r\"^[A-Za-z]{2,}$\")"
   ]
  },
  {
   "cell_type": "markdown",
   "metadata": {},
   "source": [
    "CRIAÇÃO DE UMA CLASSE DE CLASSIFICAÇÃO DE PERMISSÕES"
   ]
  },
  {
   "cell_type": "code",
   "execution_count": null,
   "metadata": {},
   "outputs": [],
   "source": [
    "# Essa classe serve para designar uma função para o Usuário\n",
    "# O ordem de \"importância\" segue a ordem de declaração\n",
    "# Ou seja, Author < Editor < Admin < SuperAdmin\n",
    "class Role(enum.IntFlag):\n",
    "    Author = 1\n",
    "    Editor = 2\n",
    "    Admin = 4\n",
    "    SuperAdmin = 8"
   ]
  },
  {
   "cell_type": "markdown",
   "metadata": {},
   "source": [
    "CRIAÇÃO DA CLASSE USUÁRIO COM VALIDAÇÕES PERSONALIZADAS PARA OS DADOS"
   ]
  },
  {
   "cell_type": "code",
   "execution_count": null,
   "metadata": {},
   "outputs": [],
   "source": [
    "class User(BaseModel):\n",
    "    # O uso do 'str' é para garantir que o campo seja uma string, além disso ele oferce um exemplo de um valor válido para essa variável\n",
    "    name: str = Field(examples=[\"Arjan\"])\n",
    "    # O uso do 'EmailStr' é para garantir que o campo seja um email\n",
    "    # O 'Field' é utilizado para adicionar metadados e resrições ao campo, servindo como uma indicação do formato esperado para esse campo\n",
    "    email: EmailStr = Field(\n",
    "        # Ele oferce um exemplo de um valor válido para essa variável\n",
    "        examples=[\"user@arjancodes.com\"],\n",
    "        # Aqui é feita uma descrição do que é esperado para esse campo\n",
    "        description=\"The email address of the user\",\n",
    "        #O parâmetro Frozen é utilizado para garantir que o objeto não seja alterado após a sua criação\n",
    "        frozen=True,\n",
    "    )\n",
    "    #O uso do 'SecretStr' é para garantir que o campo seja uma senha, ou seja, caso ela seja exibida em algum lugar, ela será exibida como '********'\n",
    "    password: SecretStr = Field(\n",
    "        examples=[\"Password123\"], description=\"The password of the user\"\n",
    "    )\n",
    "    #O atributo role é utilizado para designar a função do usuário\n",
    "    role: Role = Field(default=None, description=\"The role of the user\", examples=[1,2,4,8])\n",
    "    \n",
    "    #Esses 'fields_validator' são validações personalizadas feitas para garantir que os dados inseridos sejam válidos\n",
    "    @field_validator(\"name\")\n",
    "    @classmethod\n",
    "    #Como é um método de classe, ele recebe a classe como primeiro argumento e o valor a ser validado como segundo argumento\n",
    "    #O retorno desse método é uma string\n",
    "    def validate_name(cls, v: str) -> str:\n",
    "        # Aqui é feita uma verificação, a partir de correspondência com a \"regra\" da REGEX imposta, \n",
    "        # para garantir que o nome inserido seja válido\n",
    "        if not VALID_NAME_REGEX.match(v):\n",
    "            raise ValueError(\n",
    "                \"Name is invalid, must contain only letter and be at least 2 characters long\"\n",
    "            )\n",
    "        return v\n",
    "\n",
    "\n",
    "    #Aqui é feita uma validação para garantir que o valor inserido para o usuário seja válido\n",
    "    #Como o mode dessa validação é 'before', ela é feita antes da validação padrão do Pydantic\n",
    "    @field_validator(\"role\", mode=\"before\")\n",
    "    @classmethod\n",
    "    #Como é um método de classe, ele recebe a classe como primeiro argumento \n",
    "    #e o segundo parâmetro é o valor a ser validado, que pode ser um inteiro, uma string ou um Role\n",
    "    #O retorno desse método é um Role, ou seja, um valor de função \n",
    "    def validate_role(cls, v: int | str | Role) -> Role:\n",
    "        #Esse dicionário é utilizado para mapear os valores possíveis para a função\n",
    "        #Se v for um inteiro, ele é convertido para um Role, se for uma string, \n",
    "        #ele é convertido para um Role - por meio do nome da role -, se for um Role, ele é retornado\n",
    "        op = {int: lambda x: Role(x), str: lambda x: Role[x], Role: lambda x: x}\n",
    "        try:\n",
    "            #Aqui é feita a conversão do valor inserido para um Role\n",
    "            return op[type(v)](v)\n",
    "        except (KeyError, ValueError):\n",
    "            raise ValueError(\n",
    "                f\"Role is invalid, please use one of the following: {\",\".join([x.name for x in Role])}\"\n",
    "                )\n",
    "        \n",
    "    #Aqui é feita uma validação para garantir que o valor inserido para o usuário seja válido\n",
    "    #Como o mode dessa validação é 'before', ela é feita antes da validação padrão do Pydantic\n",
    "    @model_validator(mode=\"before\")\n",
    "    @classmethod\n",
    "     #Como é um método de classe, ele recebe a classe como primeiro argumento \n",
    "     #e o valor a ser validado como segundo argumento, em forma de dicionário  \n",
    "     #contendo  os dados do usuário- onde \n",
    "     #as chaves são strings e os valores podem ser de qualquer tipo.\n",
    "    def validate_user(cls, v: dict[str, Any]) -> dict[str, Any]:\n",
    "        #Aqui é feita uma verificação para garantir que o nome e a senha foram inseridos\n",
    "        if \"name\" not in v or \"password\" not in v:\n",
    "            raise ValueError(\"Name and password are required\")\n",
    "        #Aqui é feita uma verificação para garantir que a senha não contenha o nome do usuário\n",
    "        if v[\"name\"].casefold() in v[\"password\"].casefold():\n",
    "            raise ValueError(\"Password cannot contain name\")\n",
    "        #Aqui é feita uma verificação para garantir que a senha inserida seja\n",
    "        #válida, ou seja, contenha 8 caracteres, 1 maiúscula, 1 minúscula e 1 número\n",
    "        if not VALID_PASSWORD_REGEX.match(v[\"password\"]):\n",
    "            raise ValueError(\n",
    "                \"Password is invalid, must contain 8 characters, 1 uppercase, 1 lowercase, 1 number\"\n",
    "            )\n",
    "        #Aqui é feita uma criptografia da senha inserida, para melhorar a segurança\n",
    "        v[\"password\"] = hashlib.sha256(v[\"password\"].encode()).hexdigest()\n",
    "        return v"
   ]
  },
  {
   "cell_type": "markdown",
   "metadata": {},
   "source": [
    "CRIAÇÃO DE UMA FUNÇÃO DE VALIDAÇÃO"
   ]
  },
  {
   "cell_type": "code",
   "execution_count": 35,
   "metadata": {},
   "outputs": [],
   "source": [
    "# A criação da função 'model_validate' é criada com um parametro 'data' que é do tipo 'dict' e não retorna nada\n",
    "def validate(data: dict[str, Any]) -> None:\n",
    "    try:\n",
    "        # Aqui é feita a validação do modelo 'User', se os dados estão de acordo com a estrutura do User\n",
    "        user = User.model_validate(data)\n",
    "        # Caso os dados estejam corretos, o usuário é exibido\n",
    "        print(user)\n",
    "    except ValidationError as e:\n",
    "        print('User is invalid')\n",
    "        # Caso os dados estejam incorretos, o erro será exibido e é mostrado que o usuário é inválido\n",
    "        print(e)"
   ]
  },
  {
   "cell_type": "markdown",
   "metadata": {},
   "source": [
    "CRIAÇÃO DA FUNÇÃO MAIN (PRINCIPAL)"
   ]
  },
  {
   "cell_type": "code",
   "execution_count": 36,
   "metadata": {},
   "outputs": [],
   "source": [
    "def main() -> None:\n",
    "    \"\"\"\n",
    "    Essa função é responsável por chamar a função 'validate' com dados corretos e incorretos\n",
    "    Ela possui dados de acordo com o que foi pedido e\n",
    "    dados que não estão de acordo com o que foi pedido\n",
    "    Exemplo:\n",
    "     good_data = {\n",
    "        \"name\": \"Arjan\",\n",
    "        \"email\": \"example@arjancodes.com\",\n",
    "        \"password\": \"Password123\",\n",
    "    }\n",
    "     validate(good_data)\n",
    "\n",
    "\n",
    "    main() -> name='Arjan' email='example@arjancodes.com' password=SecretStr('**********') role=None\n",
    "    \n",
    "    \"\"\"\n",
    "    test_data = dict(\n",
    "        good_data={\n",
    "            \"name\": \"Arjan\",\n",
    "            \"email\": \"example@arjancodes.com\",\n",
    "            \"password\": \"Password123\",\n",
    "            \"role\": \"Admin\",\n",
    "        },\n",
    "        bad_role={\n",
    "            \"name\": \"Arjan\",\n",
    "            \"email\": \"example@arjancodes.com\",\n",
    "            \"password\": \"Password123\",\n",
    "            \"role\": \"Programmer\",\n",
    "        },\n",
    "        bad_data={\n",
    "            \"name\": \"Arjan\",\n",
    "            \"email\": \"bad email\",\n",
    "            \"password\": \"bad password\",\n",
    "        },\n",
    "        bad_name={\n",
    "            \"name\": \"Arjan<-_->\",\n",
    "            \"email\": \"example@arjancodes.com\",\n",
    "            \"password\": \"Password123\",\n",
    "        },\n",
    "        duplicate={\n",
    "            \"name\": \"Arjan\",\n",
    "            \"email\": \"example@arjancodes.com\",\n",
    "            \"password\": \"Arjan123\",\n",
    "        },\n",
    "        missing_data={\n",
    "            \"email\": \"<bad data>\",\n",
    "            \"password\": \"<bad data>\",\n",
    "        },\n",
    "    )\n",
    "\n",
    "    # Aqui é chamada a função 'validate' com os dados corretos e incorretos\n",
    "    # Para cada exemplo, é exibido o nome do exemplo e o resultado da validação\n",
    "    for example_name, data in test_data.items():\n",
    "        print(example_name)\n",
    "        validate(data)\n",
    "        print()"
   ]
  },
  {
   "cell_type": "markdown",
   "metadata": {},
   "source": [
    "EXECUÇÃO DA FUNÇÃO MAIN "
   ]
  },
  {
   "cell_type": "code",
   "execution_count": 37,
   "metadata": {},
   "outputs": [
    {
     "name": "stdout",
     "output_type": "stream",
     "text": [
      "good_data\n",
      "name='Arjan' email='example@arjancodes.com' password=SecretStr('**********') role=<Role.Admin: 4>\n",
      "\n",
      "bad_role\n",
      "User is invalid\n",
      "1 validation error for User\n",
      "role\n",
      "  Value error, Role is invalid, please use one of the following: Author,Editor,Admin,SuperAdmin [type=value_error, input_value='Programmer', input_type=str]\n",
      "    For further information visit https://errors.pydantic.dev/2.8/v/value_error\n",
      "\n",
      "bad_data\n",
      "User is invalid\n",
      "1 validation error for User\n",
      "  Value error, Password is invalid, must contain 8 characters, 1 uppercase, 1 lowercase, 1 number [type=value_error, input_value={'name': 'Arjan', 'email'...ssword': 'bad password'}, input_type=dict]\n",
      "    For further information visit https://errors.pydantic.dev/2.8/v/value_error\n",
      "\n",
      "bad_name\n",
      "User is invalid\n",
      "1 validation error for User\n",
      "name\n",
      "  Value error, Name is invalid, must contain only letter and be at least 2 characters long [type=value_error, input_value='Arjan<-_->', input_type=str]\n",
      "    For further information visit https://errors.pydantic.dev/2.8/v/value_error\n",
      "\n",
      "duplicate\n",
      "User is invalid\n",
      "1 validation error for User\n",
      "  Value error, Password cannot contain name [type=value_error, input_value={'name': 'Arjan', 'email'... 'password': 'Arjan123'}, input_type=dict]\n",
      "    For further information visit https://errors.pydantic.dev/2.8/v/value_error\n",
      "\n",
      "missing_data\n",
      "User is invalid\n",
      "1 validation error for User\n",
      "  Value error, Name and password are required [type=value_error, input_value={'email': '<bad data>', 'password': '<bad data>'}, input_type=dict]\n",
      "    For further information visit https://errors.pydantic.dev/2.8/v/value_error\n",
      "\n"
     ]
    }
   ],
   "source": [
    "if __name__ == \"__main__\":\n",
    "    main()"
   ]
  }
 ],
 "metadata": {
  "kernelspec": {
   "display_name": "base",
   "language": "python",
   "name": "python3"
  },
  "language_info": {
   "codemirror_mode": {
    "name": "ipython",
    "version": 3
   },
   "file_extension": ".py",
   "mimetype": "text/x-python",
   "name": "python",
   "nbconvert_exporter": "python",
   "pygments_lexer": "ipython3",
   "version": "3.12.7"
  }
 },
 "nbformat": 4,
 "nbformat_minor": 2
}
