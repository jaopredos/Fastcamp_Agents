{
 "cells": [
  {
   "cell_type": "markdown",
   "metadata": {},
   "source": [
    "CONTROLE DE AVISOS"
   ]
  },
  {
   "cell_type": "code",
   "execution_count": 2,
   "metadata": {},
   "outputs": [],
   "source": [
    "import warnings\n",
    "#Essa linha serve para ignorar os avisos que aparecem no código\n",
    "warnings.filterwarnings(\"ignore\")"
   ]
  },
  {
   "cell_type": "markdown",
   "metadata": {},
   "source": [
    "INSTALAÇÃO DAS BIBLIOTECAS NECESSÁRIAS"
   ]
  },
  {
   "cell_type": "code",
   "execution_count": null,
   "metadata": {},
   "outputs": [],
   "source": [
    "%pip install crewai_tools"
   ]
  },
  {
   "cell_type": "markdown",
   "metadata": {},
   "source": [
    "IMPORTAÇÃO DAS BIBLIOTECAS NECESSÁRIAS"
   ]
  },
  {
   "cell_type": "code",
   "execution_count": null,
   "metadata": {},
   "outputs": [],
   "source": [
    "from crewai import Agent, Task, Crew\n",
    "from crewai_tools import SerperDevTool, ScrapeWebsiteTool, WebsiteSearchTool\n",
    "import os"
   ]
  },
  {
   "cell_type": "code",
   "execution_count": 5,
   "metadata": {},
   "outputs": [],
   "source": [
    "#Definindo a chave de API do OpenAI\n",
    "OPENAI_API_KEY = os.getenv('OPENAI_API_KEY')\n",
    "#Definindo o modelo do ChatGPT que será usado\n",
    "os.environ[\"OPENAI_MODEL_NAME\"] = 'gpt-3.5-turbo'"
   ]
  },
  {
   "cell_type": "markdown",
   "metadata": {},
   "source": [
    "CRIAÇÃO DE AGENTES"
   ]
  },
  {
   "cell_type": "code",
   "execution_count": 6,
   "metadata": {},
   "outputs": [],
   "source": [
    "#Definindo o agente de suporte\n",
    "support_agent = Agent(\n",
    "    #Definindo a função do agente\n",
    "    role=\"Senior Support Representative\",\n",
    "    #Definindo o objetivo do agente\n",
    "    goal=\"Be the most friendly and helpful support representative in your team\",\n",
    "    #Aqui é definida a \"identidade\" do agente,\n",
    "    #ou seja, o modo como ele irá agir\n",
    "    backstory=(\n",
    "        \"You work at crewAI (https://crewai.com) and are now working on providing\"\n",
    "        \"support to {customer}, a super important costumer for your company.\"\n",
    "        \"You need to make sure that you provide the best support!\"\n",
    "        \"Make sure to provide full complete answers, and make no assumptions.\"\n",
    "    ),\n",
    "    #Esse agente não podera delegar tarefas para outros\n",
    "    allow_delegation=False,\n",
    "    #Parâmetro que define se as mensagens sobre as \n",
    "    #ações realizadas pelos agentes serão exibidas\n",
    "    verbose=True\n",
    ")"
   ]
  },
  {
   "cell_type": "code",
   "execution_count": 7,
   "metadata": {},
   "outputs": [],
   "source": [
    "#Definindo o agente de qualidade de suporte, esse agente pode delegar tarefas\n",
    "support_quality_assurance_agent = Agent(\n",
    "    #Definindo a função do agente\n",
    "    role=\"Support Quality Assurance Specialist\",\n",
    "    #Definindo o objetivo do agente\n",
    "    goal=\"Get recognition for providing the best support quality assurance in your team\",\n",
    "    #Aqui é definida a \"identidade\" do agente,\n",
    "    #ou seja, o modo como ele irá agir\n",
    "    backstory=(\n",
    "        \"You work at crewAI (https://crewai.com) and are now working with your team on\"\n",
    "        \"a request from {customer} ensuring that the support representative\"\n",
    "        \"is providing the best support possible.\\n\"\n",
    "        \"You need to make sure that the support representative is providing\"\n",
    "        \"full complete answers, and make no assumptions.\"\n",
    "    ),\n",
    "    #Parâmetro que define se as mensagens sobre as \n",
    "    #ações realizadas pelos agentes serão exibidas\n",
    "    verbose=True\n",
    ")"
   ]
  },
  {
   "cell_type": "markdown",
   "metadata": {},
   "source": [
    "Possible Custom Tools\n",
    "- Load customer data\n",
    "- Tap into previous conversations\n",
    "- Load data from a CRM\n",
    "- Checking existing bug reports\n",
    "- Checking existing feature requests\n",
    "- Checking ongoing tickets\n",
    "- ... and more"
   ]
  },
  {
   "cell_type": "markdown",
   "metadata": {},
   "source": [
    "DEFINIÇÃO DAS FERRAMENTAS"
   ]
  },
  {
   "cell_type": "code",
   "execution_count": 8,
   "metadata": {},
   "outputs": [],
   "source": [
    "#Definindo uma ferramenta para fazer buscas no Google\n",
    "search_tool = SerperDevTool()\n",
    "#Definindo uma ferramenta para retirar as informações de um site\n",
    "scrape_tool = ScrapeWebsiteTool()\n",
    "#Definindo uma ferramenta para fazer buscas em um site\n",
    "docs_scrape_tool = ScrapeWebsiteTool(\n",
    "    website_url=\"https://docs.crewai.com/how-to/Creating-a-Crew-and-kick-it-off/\"\n",
    ")"
   ]
  },
  {
   "cell_type": "markdown",
   "metadata": {},
   "source": [
    "Different Ways to Give Agents Tools\n",
    "- Agent Level: The Agent can use the Tool(s) on any Task it performs.\n",
    "- Task Level: The Agent will only use the Tool(s) when performing that specific task\n",
    "\n",
    "Note: Tasks Tools override the Agent Tools"
   ]
  },
  {
   "cell_type": "markdown",
   "metadata": {},
   "source": [
    "CRIAÇÃO DAS TASKS"
   ]
  },
  {
   "cell_type": "code",
   "execution_count": 9,
   "metadata": {},
   "outputs": [],
   "source": [
    "inquiry_resolution = Task(\n",
    "    #Aqui é definida a descrição da tarefa, o que esperamos que o agente faça, a tarefa planejada\n",
    "    #Nesse caso, o agente deve responder a uma pergunta de um cliente\n",
    "    description=(\n",
    "        \"{customer} just reached out with a super important ask:\\n\"\n",
    "        \"{inquiry}\\n\\n\"\n",
    "        \"{person} from {customer} is the one that reached out. Make sure \"\n",
    "        \"to use everything you know to provide the best support possible.\"\n",
    "        \"You must strive to provide a complete and accurate response to the costumer's  inquiry.\"\n",
    "    ),\n",
    "    #Aqui é definido o output esperado, o que esperamos que o agente retorne\n",
    "    expected_output=(\n",
    "        \"A detailed, informative response to the costumer's \"\n",
    "        \"inquiry that addresses all aspects of their question.\\n\"\n",
    "        \"The response should include references to everything \"\n",
    "        \"you used to find the answer, including external data or solutions.\"\n",
    "        \"Ensure the answer is complete, leaving no questions unanswered,\"\n",
    "        \"and maitain a helpful and friendly tone throughout.\"\n",
    "    ),\n",
    "    #Aqui é definida as ferramentas que o agente pode usar para realizar a tarefa\n",
    "    tools=[docs_scrape_tool],\n",
    "    #Aqui é definido o agente que irá realizar a tarefa\n",
    "    agent=support_agent,\n",
    ")"
   ]
  },
  {
   "cell_type": "code",
   "execution_count": 10,
   "metadata": {},
   "outputs": [],
   "source": [
    "quality_assurance_review = Task(\n",
    "    #Aqui é definida a descrição da tarefa, o que esperamos que o agente faça, a tarefa planejada\n",
    "    #Nesse caso, o agente deve revisar a resposta feita pelo Representante de Suporte Sênior\n",
    "    description=(\n",
    "        \"Review the response drafted by the Senior Support Representative\"\n",
    "        \"Ensure that the answer is comprehensive, accurate, and adheres to the\"\n",
    "        \"high-quality standards expected for customer support.\\n\"\n",
    "        \"Verify that all parts of the customer's inquiry have been addressed \"\n",
    "        \"thoroughly, with a helful and friendly tone.\\n\"\n",
    "        \"Check for references and sources used to find the information,\"\n",
    "        \"ensuring the response is well-supported and leaves no questions unanswered.\"\n",
    "    ),\n",
    "    #Aqui é definido o resultado esperado da tarefa, o que esperamos que o agente entregue\n",
    "    expected_output=(\n",
    "        \"A final, detailed, and informative response ready to be sent to the costumer.\\n\"\n",
    "        \"This response should fully address the costumer's inquiry,\"\n",
    "        \"incoporating all relevant feedback and improvements.\\n\"\n",
    "        \"Don't be too formal, we are a chill and cool company, \"\n",
    "        \"but maintain a professional and friendly tone throughout.\"\n",
    "    ),\n",
    "    #Aqui é a atribuição da tarefa para o respectivo agente \n",
    "    agent=support_quality_assurance_agent,\n",
    ")"
   ]
  },
  {
   "cell_type": "markdown",
   "metadata": {},
   "source": [
    "CRIAÇÃO DO CREW (GRUPO DOS AGENTES QUE TRABALHAM JUNTOS)"
   ]
  },
  {
   "cell_type": "code",
   "execution_count": 11,
   "metadata": {},
   "outputs": [],
   "source": [
    "crew = Crew(\n",
    "    #Adicionando os agentes ao Crew\n",
    "    agents=[support_agent, support_quality_assurance_agent],\n",
    "    #Adicionando as tarefas ao Crew\n",
    "    tasks=[inquiry_resolution, quality_assurance_review],\n",
    "    #Parâmetro que define se as mensagens sobre as \n",
    "    #ações realizadas pelos agentes serão exibidas\n",
    "    verbose=True,\n",
    "    #Ativa todas as memórias disponíveis no CrewAI\n",
    "    memory=True,\n",
    ")"
   ]
  },
  {
   "cell_type": "markdown",
   "metadata": {},
   "source": [
    "CHAMANDO A FUNÇÃO CREW PARA QUE O SISTEMA SEJA REALIZADO"
   ]
  },
  {
   "cell_type": "code",
   "execution_count": 12,
   "metadata": {},
   "outputs": [
    {
     "name": "stdout",
     "output_type": "stream",
     "text": [
      "\u001b[1m\u001b[94m \n",
      "[2025-03-18 21:20:25][🚀 CREW 'CREW' STARTED, 3BC2E973-72DB-4289-BF57-2B28ABDE5F31]: 2025-03-18 21:20:25.990491\u001b[00m\n",
      "\u001b[1m\u001b[94m \n",
      "[2025-03-18 21:20:26][📋 TASK STARTED: DEEPLEARNINGAI JUST REACHED OUT WITH A SUPER IMPORTANT ASK:\n",
      "I NEED HELP WITH SETTING UP A CREW AND KICKING IT OFF, SPECIFICALLY HOW CAN I ADD MEMORY TO MY CREW? CAN YOU PROVIDE GUIDANCE?\n",
      "\n",
      "ANDREW NG FROM DEEPLEARNINGAI IS THE ONE THAT REACHED OUT. MAKE SURE TO USE EVERYTHING YOU KNOW TO PROVIDE THE BEST SUPPORT POSSIBLE.YOU MUST STRIVE TO PROVIDE A COMPLETE AND ACCURATE RESPONSE TO THE COSTUMER'S  INQUIRY.]: 2025-03-18 21:20:26.015139\u001b[00m\n",
      "\u001b[1m\u001b[94m \n",
      "[2025-03-18 21:20:27][🤖 AGENT 'SENIOR SUPPORT REPRESENTATIVE' STARTED TASK]: 2025-03-18 21:20:27.947759\u001b[00m\n",
      "\u001b[1m\u001b[95m# Agent:\u001b[00m \u001b[1m\u001b[92mSenior Support Representative\u001b[00m\n",
      "\u001b[95m## Task:\u001b[00m \u001b[92mDeepLearningAI just reached out with a super important ask:\n",
      "I need help with setting up a Crew and kicking it off, specifically how can I add memory to my crew? Can you provide guidance?\n",
      "\n",
      "Andrew Ng from DeepLearningAI is the one that reached out. Make sure to use everything you know to provide the best support possible.You must strive to provide a complete and accurate response to the costumer's  inquiry.\u001b[00m\n",
      "\u001b[1m\u001b[94m \n",
      "[2025-03-18 21:20:27][🤖 LLM CALL STARTED]: 2025-03-18 21:20:27.947759\u001b[00m\n",
      "\u001b[1m\u001b[94m \n",
      "[2025-03-18 21:20:29][✅ LLM CALL COMPLETED]: 2025-03-18 21:20:29.356476\u001b[00m\n",
      "\u001b[1m\u001b[94m \n",
      "[2025-03-18 21:20:29][🤖 TOOL USAGE STARTED: '[READ WEBSITE CONTENT]']: 2025-03-18 21:20:29.356476\u001b[00m\n",
      "\u001b[1m\u001b[94m \n",
      "[2025-03-18 21:20:31][✅ TOOL USAGE FINISHED: 'READ WEBSITE CONTENT']: 2025-03-18 21:20:31.044755\u001b[00m\n",
      "\n",
      "\n",
      "\u001b[1m\u001b[95m# Agent:\u001b[00m \u001b[1m\u001b[92mSenior Support Representative\u001b[00m\n",
      "\u001b[95m## Using tool:\u001b[00m \u001b[92m[Read website content]\u001b[00m\n",
      "\u001b[95m## Tool Input:\u001b[00m \u001b[92m\n",
      "\"{}\"\u001b[00m\n",
      "\u001b[95m## Tool Output:\u001b[00m \u001b[92m\n",
      "Introduction - CrewAI CrewAI home page Search CrewAI docs crewAIInc / crewAI crewAIInc / crewAI Search... Navigation Get Started Introduction Get Started Examples CrewAI home page Community Changelog Get Started Introduction Installation Quickstart Guides Concepts Agents Crews Flows Advanced Core Concepts Agents Tasks Crews Flows Knowledge LLMs Processes Collaboration Training Memory Planning Testing CLI Tools Using LangChain Tools Using LlamaIndex Tools How to Guides Create Custom Tools Sequential Processes Hierarchical Process Create Your Own Manager Agent Connect to any LLM Customize Agents Using Multimodal Agents Coding Agents Force Tool Output as Result Human Input on Execution Kickoff Crew Asynchronously Kickoff Crew for Each Replay Tasks from Latest Crew Kickoff Conditional Tasks Agent Monitoring with AgentOps Agent Monitoring with Langtrace Agent Monitoring with MLflow Agent Monitoring with OpenLIT Agent Monitoring with Portkey Agent Monitoring with Langfuse Tools AI Mind Tool Apify Actors Brave Search Browserbase Web Loader Code Docs RAG Search Code Interpreter Composio Tool CSV RAG Search DALL-E Tool Directory RAG Search Directory Read DOCX RAG Search EXA Search Web Loader File Read File Write Firecrawl Crawl Website Firecrawl Scrape Website Firecrawl Search Github Search Hyperbrowser Load Tool Linkup Search Tool LlamaIndex Tool Google Serper Search S3 Reader Tool S3 Writer Tool Scrapegraph Scrape Tool Scrape Element From Website Tool JSON RAG Search MDX RAG Search MySQL RAG Search MultiOn Tool NL2SQL Tool Patronus Evaluation Tools PDF RAG Search PG RAG Search Qdrant Vector Search Tool RAG Tool Scrape Website Scrapfly Scrape Website Tool Selenium Scraper Snowflake Search Tool Spider Scraper TXT RAG Search Vision Tool Weaviate Vector Search Website RAG Search XML RAG Search YouTube Channel RAG Search YouTube Video RAG Search Telemetry Telemetry Get Started Introduction Build AI agent teams that work together to tackle complex tasks â€‹ What is CrewAI?\n",
      "CrewAI is a lean, lightning-fast Python framework built entirely from scratchâ€”completely independent of LangChain or other agent frameworks.\n",
      "CrewAI empowers developers with both high-level simplicity and precise low-level control, ideal for creating autonomous AI agents tailored to any scenario:\n",
      "CrewAI Crews : Optimize for autonomy and collaborative intelligence, enabling you to create AI teams where each agent has specific roles, tools, and goals.\n",
      "CrewAI Flows : Enable granular, event-driven control, single LLM calls for precise task orchestration and supports Crews natively.\n",
      "With over 100,000 developers certified through our community courses, CrewAI is rapidly becoming the standard for enterprise-ready AI automation.\n",
      "â€‹ How Crews Work\n",
      "Just like a company has departments (Sales, Engineering, Marketing) working together under leadership to achieve business goals, CrewAI helps you create an organization of AI agents with specialized roles collaborating to accomplish complex tasks.\n",
      "CrewAI Framework Overview\n",
      "Component Description Key Features Crew The top-level organization â€¢ Manages AI agent teams â€¢ Oversees workflows â€¢ Ensures collaboration â€¢ Delivers outcomes AI Agents Specialized team members â€¢ Have specific roles (researcher, writer) â€¢ Use designated tools â€¢ Can delegate tasks â€¢ Make autonomous decisions Process Workflow management system â€¢ Defines collaboration patterns â€¢ Controls task assignments â€¢ Manages interactions â€¢ Ensures efficient execution Tasks Individual assignments â€¢ Have clear objectives â€¢ Use specific tools â€¢ Feed into larger process â€¢ Produce actionable results\n",
      "â€‹ How It All Works Together\n",
      "The Crew organizes the overall operation\n",
      "AI Agents work on their specialized tasks\n",
      "The Process ensures smooth collaboration\n",
      "Tasks get completed to achieve the goal\n",
      "â€‹ Key Features\n",
      "Role-Based Agents Create specialized agents with defined roles, expertise, and goals - from researchers to analysts to writers Flexible Tools Equip agents with custom tools and APIs to interact with external services and data sources Intelligent Collaboration Agents work together, sharing insights and coordinating tasks to achieve complex objectives Task Management Define sequential or parallel workflows, with agents automatically handling task dependencies\n",
      "â€‹ How Flows Work\n",
      "While Crews excel at autonomous collaboration, Flows provide structured automations, offering granular control over workflow execution. Flows ensure tasks are executed reliably, securely, and efficiently, handling conditional logic, loops, and dynamic state management with precision. Flows integrate seamlessly with Crews, enabling you to balance high autonomy with exacting control.\n",
      "CrewAI Framework Overview\n",
      "Component Description Key Features Flow Structured workflow orchestration â€¢ Manages execution paths â€¢ Handles state transitions â€¢ Controls task sequencing â€¢ Ensures reliable execution Events Triggers for workflow actions â€¢ Initiate specific processes â€¢ Enable dynamic responses â€¢ Support conditional branching â€¢ Allow for real-time adaptation States Workflow execution contexts â€¢ Maintain execution data â€¢ Enable persistence â€¢ Support resumability â€¢ Ensure execution integrity Crew Support Enhances workflow automation â€¢ Injects pockets of agency when needed â€¢ Complements structured workflows â€¢ Balances automation with intelligence â€¢ Enables adaptive decision-making\n",
      "â€‹ Key Capabilities\n",
      "Event-Driven Orchestration Define precise execution paths responding dynamically to events Fine-Grained Control Manage workflow states and conditional execution securely and efficiently Native Crew Integration Effortlessly combine with Crews for enhanced autonomy and intelligence Deterministic Execution Ensure predictable outcomes with explicit control flow and error handling\n",
      "â€‹ When to Use Crews vs. Flows\n",
      "Understanding when to use Crews versus Flows is key to maximizing the potential of CrewAI in your applications.\n",
      "Use Case Recommended Approach Why? Open-ended research Crews When tasks require creative thinking, exploration, and adaptation Content generation Crews For collaborative creation of articles, reports, or marketing materials Decision workflows Flows When you need predictable, auditable decision paths with precise control API orchestration Flows For reliable integration with multiple external services in a specific sequence Hybrid applications Combined approach Use Flows to orchestrate overall process with Crews handling complex subtasks\n",
      "â€‹ Decision Framework\n",
      "Choose Crews when: You need autonomous problem-solving, creative collaboration, or exploratory tasks\n",
      "Choose Flows when: You require deterministic outcomes, auditability, or precise control over execution\n",
      "Combine both when: Your application needs both structured processes and pockets of autonomous intelligence\n",
      "â€‹ Why Choose CrewAI?\n",
      "ğŸ§  Autonomous Operation : Agents make intelligent decisions based on their roles and available tools\n",
      "ğŸ“� Natural Interaction : Agents communicate and collaborate like human team members\n",
      "ğŸ› ï¸� Extensible Design : Easy to add new tools, roles, and capabilities\n",
      "ğŸš€ Production Ready : Built for reliability and scalability in real-world applications\n",
      "ğŸ”’ Security-Focused : Designed with enterprise security requirements in mind\n",
      "ğŸ’° Cost-Efficient : Optimized to minimize token usage and API calls\n",
      "â€‹ Ready to Start Building?\n",
      "Build Your First Crew Step-by-step tutorial to create a collaborative AI team that works together to solve complex problems. Build Your First Flow Learn how to create structured, event-driven workflows with precise control over execution.\n",
      "Install CrewAI Get started with CrewAI in your development environment. Quick Start Follow our quickstart guide to create your first CrewAI agent and get hands-on experience. Join the Community Connect with other developers, get help, and share your CrewAI experiences. Was this page helpful? Yes No Installation website x github linkedin youtube Powered by Mintlify On this page What is CrewAI? How Crews Work How It All Works Together Key Features How Flows Work Key Capabilities When to Use Crews vs. Flows Decision Framework Why Choose CrewAI? Ready to Start Building?\u001b[00m\n",
      "\u001b[1m\u001b[94m \n",
      "[2025-03-18 21:20:31][🤖 LLM CALL STARTED]: 2025-03-18 21:20:31.044755\u001b[00m\n",
      "\u001b[1m\u001b[94m \n",
      "[2025-03-18 21:20:33][✅ LLM CALL COMPLETED]: 2025-03-18 21:20:33.815229\u001b[00m\n",
      "\n",
      "\n",
      "\u001b[1m\u001b[95m# Agent:\u001b[00m \u001b[1m\u001b[92mSenior Support Representative\u001b[00m\n",
      "\u001b[95m## Final Answer:\u001b[00m \u001b[92m\n",
      "To add memory to your Crew in CrewAI, you can leverage the capabilities of CrewAI Framework. CrewAI empowers developers to create AI teams where each agent has specialized roles, tools, and goals. The Components of CrewAI Framework that can help in adding memory to your crew include:\n",
      "\n",
      "1. Crew: The top-level organization that manages AI agent teams, oversees workflows, ensures collaboration, and delivers outcomes.\n",
      "2. AI Agents: Specialized team members that have specific roles, use designated tools, can delegate tasks, make autonomous decisions, and contribute to achieving the crew's goals.\n",
      "3. Process: A workflow management system that defines collaboration patterns, controls task assignments, manages interactions, and ensures efficient execution.\n",
      "4. Tasks: Individual assignments with clear objectives, specific tools, that feed into larger processes and produce actionable results.\n",
      "\n",
      "By utilizing these components effectively, you can create a structured system where AI agents can store and recall information to improve their decision-making processes. Additionally, you can incorporate event-driven orchestration using Flows in CrewAI to handle memory-related tasks reliably and securely, ensuring that your crew operates efficiently with access to relevant memory.\n",
      "\n",
      "If you encounter any specific challenges or require further guidance on implementing memory in your Crew using CrewAI, feel free to reach out for more detailed assistance.\u001b[00m\n",
      "\n",
      "\n",
      "\u001b[1m\u001b[94m \n",
      "[2025-03-18 21:20:40][✅ AGENT 'SENIOR SUPPORT REPRESENTATIVE' COMPLETED TASK]: 2025-03-18 21:20:40.294734\u001b[00m\n",
      "\u001b[1m\u001b[94m \n",
      "[2025-03-18 21:20:40][✅ TASK COMPLETED: DEEPLEARNINGAI JUST REACHED OUT WITH A SUPER IMPORTANT ASK:\n",
      "I NEED HELP WITH SETTING UP A CREW AND KICKING IT OFF, SPECIFICALLY HOW CAN I ADD MEMORY TO MY CREW? CAN YOU PROVIDE GUIDANCE?\n",
      "\n",
      "ANDREW NG FROM DEEPLEARNINGAI IS THE ONE THAT REACHED OUT. MAKE SURE TO USE EVERYTHING YOU KNOW TO PROVIDE THE BEST SUPPORT POSSIBLE.YOU MUST STRIVE TO PROVIDE A COMPLETE AND ACCURATE RESPONSE TO THE COSTUMER'S  INQUIRY.]: 2025-03-18 21:20:40.295764\u001b[00m\n",
      "\u001b[1m\u001b[94m \n",
      "[2025-03-18 21:20:40][📋 TASK STARTED: REVIEW THE RESPONSE DRAFTED BY THE SENIOR SUPPORT REPRESENTATIVEENSURE THAT THE ANSWER IS COMPREHENSIVE, ACCURATE, AND ADHERES TO THEHIGH-QUALITY STANDARDS EXPECTED FOR CUSTOMER SUPPORT.\n",
      "VERIFY THAT ALL PARTS OF THE CUSTOMER'S INQUIRY HAVE BEEN ADDRESSED THOROUGHLY, WITH A HELFUL AND FRIENDLY TONE.\n",
      "CHECK FOR REFERENCES AND SOURCES USED TO FIND THE INFORMATION,ENSURING THE RESPONSE IS WELL-SUPPORTED AND LEAVES NO QUESTIONS UNANSWERED.]: 2025-03-18 21:20:40.305838\u001b[00m\n",
      "\u001b[1m\u001b[94m \n",
      "[2025-03-18 21:20:41][🤖 AGENT 'SUPPORT QUALITY ASSURANCE SPECIALIST' STARTED TASK]: 2025-03-18 21:20:41.590145\u001b[00m\n",
      "\u001b[1m\u001b[95m# Agent:\u001b[00m \u001b[1m\u001b[92mSupport Quality Assurance Specialist\u001b[00m\n",
      "\u001b[95m## Task:\u001b[00m \u001b[92mReview the response drafted by the Senior Support RepresentativeEnsure that the answer is comprehensive, accurate, and adheres to thehigh-quality standards expected for customer support.\n",
      "Verify that all parts of the customer's inquiry have been addressed thoroughly, with a helful and friendly tone.\n",
      "Check for references and sources used to find the information,ensuring the response is well-supported and leaves no questions unanswered.\u001b[00m\n",
      "\u001b[1m\u001b[94m \n",
      "[2025-03-18 21:20:41][🤖 LLM CALL STARTED]: 2025-03-18 21:20:41.590145\u001b[00m\n",
      "\u001b[1m\u001b[94m \n",
      "[2025-03-18 21:20:45][✅ LLM CALL COMPLETED]: 2025-03-18 21:20:45.609078\u001b[00m\n",
      "\n",
      "\n",
      "\u001b[1m\u001b[95m# Agent:\u001b[00m \u001b[1m\u001b[92mSupport Quality Assurance Specialist\u001b[00m\n",
      "\u001b[95m## Final Answer:\u001b[00m \u001b[92m\n",
      "Hello,\n",
      "\n",
      "Thank you for reaching out with your inquiry regarding adding memory to your Crew in CrewAI. To enhance the memory capabilities of your Crew, you can leverage the functionalities provided by the CrewAI Framework. The components within the CrewAI Framework play crucial roles in enabling AI agents to store and recall information effectively for improved decision-making processes.\n",
      "\n",
      "1. Crew: The Crew serves as the top-level organizational entity that oversees AI agent teams. It manages workflows, promotes collaboration, and ensures the delivery of successful outcomes. By utilizing the Crew effectively, you can establish a structured environment for information storage and retrieval.\n",
      "\n",
      "2. AI Agents: These are specialized team members within the Crew who possess specific roles, utilize designated tools, and contribute to accomplishing the crew's objectives. AI Agents can delegate tasks, make autonomous decisions, and play a key role in enriching the memory capabilities of the Crew.\n",
      "\n",
      "3. Process: The Process component of CrewAI Framework acts as a workflow management system that defines collaboration patterns, controls task assignments, manages interactions, and ensures the efficient execution of operations. By integrating processes effectively, AI agents can store and retrieve information seamlessly.\n",
      "\n",
      "4. Tasks: Individual assignments within the CrewAI framework come with clear objectives, specific tools, and contribute to larger processes. Tasks are essential in feeding information into the memory storage system of AI agents, enabling them to make informed decisions based on the stored data.\n",
      "\n",
      "By leveraging these components synergistically, you can create a system where AI agents have the ability to store and recall information efficiently, thereby enhancing their decision-making capabilities. Additionally, incorporating event-driven orchestration through Flows in CrewAI ensures reliable and secure management of memory-related tasks, allowing your crew to operate efficiently with access to relevant information.\n",
      "\n",
      "If you encounter any challenges during the implementation process or require further guidance on maximizing memory capabilities using CrewAI, please feel free to reach out for detailed assistance. We are here to support you in optimizing your Crew's memory functionalities within the CrewAI Framework.\n",
      "\n",
      "Best regards,\n",
      "[Your Name]\n",
      "CrewAI Support Specialist\u001b[00m\n",
      "\n",
      "\n",
      "\u001b[1m\u001b[94m \n",
      "[2025-03-18 21:20:52][✅ AGENT 'SUPPORT QUALITY ASSURANCE SPECIALIST' COMPLETED TASK]: 2025-03-18 21:20:52.382550\u001b[00m\n",
      "\u001b[1m\u001b[94m \n",
      "[2025-03-18 21:20:52][✅ TASK COMPLETED: REVIEW THE RESPONSE DRAFTED BY THE SENIOR SUPPORT REPRESENTATIVEENSURE THAT THE ANSWER IS COMPREHENSIVE, ACCURATE, AND ADHERES TO THEHIGH-QUALITY STANDARDS EXPECTED FOR CUSTOMER SUPPORT.\n",
      "VERIFY THAT ALL PARTS OF THE CUSTOMER'S INQUIRY HAVE BEEN ADDRESSED THOROUGHLY, WITH A HELFUL AND FRIENDLY TONE.\n",
      "CHECK FOR REFERENCES AND SOURCES USED TO FIND THE INFORMATION,ENSURING THE RESPONSE IS WELL-SUPPORTED AND LEAVES NO QUESTIONS UNANSWERED.]: 2025-03-18 21:20:52.383149\u001b[00m\n",
      "\u001b[1m\u001b[94m \n",
      "[2025-03-18 21:20:52][✅ CREW 'CREW' COMPLETED, 3BC2E973-72DB-4289-BF57-2B28ABDE5F31]: 2025-03-18 21:20:52.392417\u001b[00m\n"
     ]
    }
   ],
   "source": [
    "#Definindo os valores de entrada para o Crew, \n",
    "#os valores que preencheram os campos/variáveis dos \"prompts\"\n",
    "inputs = {\n",
    "    \"customer\": \"DeepLearningAI\",\n",
    "    \"person\": \"Andrew Ng\",\n",
    "    \"inquiry\": \"I need help with setting up a Crew and kicking it off,\"\n",
    "    \" specifically how can I add memory to my crew? Can you provide guidance?\"\n",
    "}\n",
    "#Iniciando o Crew\n",
    "result = crew.kickoff(inputs=inputs)"
   ]
  }
 ],
 "metadata": {
  "kernelspec": {
   "display_name": "Python 3",
   "language": "python",
   "name": "python3"
  },
  "language_info": {
   "codemirror_mode": {
    "name": "ipython",
    "version": 3
   },
   "file_extension": ".py",
   "mimetype": "text/x-python",
   "name": "python",
   "nbconvert_exporter": "python",
   "pygments_lexer": "ipython3",
   "version": "3.12.7"
  }
 },
 "nbformat": 4,
 "nbformat_minor": 2
}
