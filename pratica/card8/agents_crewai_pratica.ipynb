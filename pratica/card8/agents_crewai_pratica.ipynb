{
 "cells": [
  {
   "cell_type": "markdown",
   "metadata": {},
   "source": [
    "CONTROLE DE AVISOS"
   ]
  },
  {
   "cell_type": "code",
   "execution_count": 12,
   "metadata": {},
   "outputs": [],
   "source": [
    "import warnings\n",
    "#Essa linha serve para ignorar os avisos que aparecem no código\n",
    "warnings.filterwarnings(\"ignore\")"
   ]
  },
  {
   "cell_type": "markdown",
   "metadata": {},
   "source": [
    "INSTALAÇÃO DAS BIBLIOTECAS NECESSÁRIAS PARA A APLICAÇÃO"
   ]
  },
  {
   "cell_type": "code",
   "execution_count": null,
   "metadata": {},
   "outputs": [],
   "source": [
    "!python -m pip install crewai"
   ]
  },
  {
   "cell_type": "markdown",
   "metadata": {},
   "source": [
    "IMPORTAÇÃO DAS BIBLIOTECAS NECESSÁRIAS E DEFINIÇÃO DE VARIÁVEIS DE AMBIENTE"
   ]
  },
  {
   "cell_type": "code",
   "execution_count": 14,
   "metadata": {},
   "outputs": [],
   "source": [
    "from crewai import Agent, Task, Crew\n",
    "import os \n",
    "from IPython.display import Markdown\n",
    "\n",
    "#Definindo a chave de API do OpenAI\n",
    "OPENAI_API_KEY = os.getenv('OPENAI_API_KEY')\n",
    "#Definindo o modelo do ChatGPT que será usado\n",
    "os.environ[\"OPENAI_MODEL_NAME\"] = 'gpt-3.5-turbo'"
   ]
  },
  {
   "cell_type": "markdown",
   "metadata": {},
   "source": [
    "CRIAÇÃO DOS AGENTES"
   ]
  },
  {
   "cell_type": "code",
   "execution_count": 15,
   "metadata": {},
   "outputs": [],
   "source": [
    "#Criação do Agente por meio de uma instanciação da classe Agent\n",
    "searcher = Agent(\n",
    "    #Aqui é definido o nome/função do agente\n",
    "    role=\"Content Searcher\",\n",
    "    #Aqui é definido o objetivo do agente\n",
    "    goal=\"Conduct comprehensive research on the given list of symptoms: {sintomas}, identifying all possible related diseases.\"\n",
    "    \"Ensure that the findings are insightful, factually accurate, and cover a wide range of potential conditions.\",\n",
    "    #Aqui é definida a \"identidade\" do agente,\n",
    "    #ou seja, o modo como ele irá agir\n",
    "    backstory=\"You're working on researching possible diseases related to the given symptoms: {sintomas}.\"\n",
    "    \"You base your research on reliable medical sources and databases, ensuring a comprehensive and factually accurate analysis.\"\n",
    "    \"You follow the main objectives and direction provided, ensuring that all possible conditions related to the symptoms are explored.\"\n",
    "    \"You provide objective and impartial insights, always backing them up with medically verified information.\"\n",
    "    \"You acknowledge when certain correlations between symptoms and diseases are speculative or not fully confirmed by medical consensus.\",\n",
    "    #Aqui é definido que ele não pode delegar tarefas\n",
    "    allow_delegation=False,\n",
    "    #Parâmetro que define se as mensagens sobre as \n",
    "    #ações realizadas pelos agentes serão exibidas\n",
    "    verbose=True\n",
    ")"
   ]
  },
  {
   "cell_type": "code",
   "execution_count": null,
   "metadata": {},
   "outputs": [],
   "source": [
    "#Criação do Agente por meio de uma instanciação da classe Agent\n",
    "editor = Agent(\n",
    "    #Aqui é definido o nome/função do agente\n",
    "    role=\"Editor\",\n",
    "    #Aqui é definido o objetivo do agente\n",
    "    goal=\"Analyze possible diseases and identify the three most probable conditions based on medical data and diagnostic likelihood.\",\n",
    "    #Aqui é definida a \"identidade\" do agente,\n",
    "    #ou seja, o modo como ele irá agir\n",
    "    backstory=\"You are an editor who receives a list of possible diseases from the Research Agent.\"\n",
    "    \"Your goal is to review the findings to ensure they are medically relevant, factually accurate, and based on reliable diagnostic criteria.\"\n",
    "    \"You analyze the probabilities of each condition and refine the list to highlight the three most likely diseases.\"\n",
    "    \"You ensure that the final selection maintains an objective, data-driven approach, avoiding speculation and unreliable sources.\",\n",
    "    #Aqui é definido que ele não pode delegar tarefas\n",
    "    allow_delegation=False,\n",
    "    #Parâmetro que define se as mensagens sobre as \n",
    "    #ações realizadas pelos agentes serão exibidas\n",
    "    verbose=True\n",
    ")"
   ]
  },
  {
   "cell_type": "markdown",
   "metadata": {},
   "source": [
    "CRIAÇÃO DAS TASKS"
   ]
  },
  {
   "cell_type": "code",
   "execution_count": null,
   "metadata": {},
   "outputs": [],
   "source": [
    "#Criação da task de pesquisa das doenças relacionadas aos sintomas\n",
    "search = Task(\n",
    "    #Aqui é definida a descrição da tarefa, o que esperamos que o agente faça, a tarefa planejada\n",
    "    #Nesse caso, a tarefa é pesquisar doenças relacionadas aos sintomas\n",
    "    description=(\n",
    "        \"1. Gather comprehensive information on all possible diseases related to {sintomas}.\\n\"\n",
    "        \"2. Prioritize medically verified sources and established diagnostic criteria.\\n\"\n",
    "        \"3. Organize findings into a structured list, ensuring clarity and accuracy.\\n\"\n",
    "        \"4. Provide references or supporting data to substantiate the research.\"\n",
    "    ),\n",
    "    #Aqui é definido a saída esperada, o que esperamos que o agente entregue\n",
    "    expected_output=\"A comprehensive research document listing all possible diseases, including their likelihood, medical references, and supporting data.\",\n",
    "    #Aqui é definido o Agente responsável pela tarefa, que, \n",
    "    #nesse caso, será o que irá pesquisar as doenças\n",
    "    agent=searcher\n",
    ")"
   ]
  },
  {
   "cell_type": "code",
   "execution_count": null,
   "metadata": {},
   "outputs": [],
   "source": [
    "#Criação da task de edição das doenças mais prováveis\n",
    "edit = Task(\n",
    "    #Aqui é definida a descrição da tarefa, o que esperamos que o agente faça, a tarefa planejada\n",
    "    #Nesse caso, editar e escolher quais são as doenças mais prováveis\n",
    "    description=(\n",
    "        \"1. Review the list of diseases related to the given symptoms.\\n\"\n",
    "        \"2. Analyze the medical data and diagnostic criteria for each condition.\\n\"\n",
    "        \"3. Identify the three most probable diseases based on the research.\\n\"\n",
    "        \"4. Ensure that the final selection is objective, data-driven, and medically relevant.\"\n",
    "    ),\n",
    "    #Aqui é definido a saída esperada, o que esperamos que o agente entregue\n",
    "    #Nesse caso, um documento editado com as três doenças mais prováveis\n",
    "    expected_output=\"An edited research document highlighting the three most probable diseases related to the symptoms, supported by medical data and diagnostic criteria.\",\n",
    "    #Aqui é definido o Agente responsável pela tarefa, que,\n",
    "    #nesse caso, será o que irá editar as doenças\n",
    "    agent=editor\n",
    ")"
   ]
  },
  {
   "cell_type": "markdown",
   "metadata": {},
   "source": [
    "CRIAÇÃO DO CREW (GRUPO DOS AGENTES QUE TRABALHAM JUNTOS)"
   ]
  },
  {
   "cell_type": "code",
   "execution_count": 19,
   "metadata": {},
   "outputs": [],
   "source": [
    "crew = Crew(\n",
    "    #Definição da lista dos agentes que irão participar do processo\n",
    "    agents=[searcher, editor],\n",
    "    #Definição da lista das tarefas que irão participar, \n",
    "    #as tarefas serão realizadas na sequência que estão nessa lista\n",
    "    #ou seja, primeiro o search e depois o edit\n",
    "    tasks=[search, edit],\n",
    "    #Parâmetro que define se as mensagens sobre as \n",
    "    #ações realizadas pelos agentes serão exibidas\n",
    "    verbose=True\n",
    ")"
   ]
  },
  {
   "cell_type": "markdown",
   "metadata": {},
   "source": [
    "CHAMANDO A FUNÇÃO CREW PARA QUE O SISTEMA SEJA REALIZADO"
   ]
  },
  {
   "cell_type": "code",
   "execution_count": 20,
   "metadata": {},
   "outputs": [
    {
     "name": "stdout",
     "output_type": "stream",
     "text": [
      "\u001b[1m\u001b[94m \n",
      "[2025-03-12 22:42:34][🚀 CREW 'CREW' STARTED, 56B5316E-0DCE-47D3-A598-AEFA1D39EE28]: 2025-03-12 22:42:34.010572\u001b[00m\n",
      "\u001b[1m\u001b[94m \n",
      "[2025-03-12 22:42:34][📋 TASK STARTED: 1. GATHER COMPREHENSIVE INFORMATION ON ALL POSSIBLE DISEASES RELATED TO FEVER, COUGH, HEADACHE.\n",
      "2. PRIORITIZE MEDICALLY VERIFIED SOURCES AND ESTABLISHED DIAGNOSTIC CRITERIA.\n",
      "3. ORGANIZE FINDINGS INTO A STRUCTURED LIST, ENSURING CLARITY AND ACCURACY.\n",
      "4. PROVIDE REFERENCES OR SUPPORTING DATA TO SUBSTANTIATE THE RESEARCH.]: 2025-03-12 22:42:34.038483\u001b[00m\n",
      "\u001b[1m\u001b[94m \n",
      "[2025-03-12 22:42:34][🤖 AGENT 'CONTENT SEARCHER' STARTED TASK]: 2025-03-12 22:42:34.044717\u001b[00m\n",
      "\u001b[1m\u001b[95m# Agent:\u001b[00m \u001b[1m\u001b[92mContent Searcher\u001b[00m\n",
      "\u001b[95m## Task:\u001b[00m \u001b[92m1. Gather comprehensive information on all possible diseases related to fever, cough, headache.\n",
      "2. Prioritize medically verified sources and established diagnostic criteria.\n",
      "3. Organize findings into a structured list, ensuring clarity and accuracy.\n",
      "4. Provide references or supporting data to substantiate the research.\u001b[00m\n",
      "\u001b[1m\u001b[94m \n",
      "[2025-03-12 22:42:34][🤖 LLM CALL STARTED]: 2025-03-12 22:42:34.044717\u001b[00m\n",
      "\u001b[1m\u001b[94m \n",
      "[2025-03-12 22:42:40][✅ LLM CALL COMPLETED]: 2025-03-12 22:42:40.644973\u001b[00m\n",
      "\n",
      "\n",
      "\u001b[1m\u001b[95m# Agent:\u001b[00m \u001b[1m\u001b[92mContent Searcher\u001b[00m\n",
      "\u001b[95m## Final Answer:\u001b[00m \u001b[92m\n",
      "**Possible Diseases Related to Fever, Cough, Headache:**\n",
      "\n",
      "1. **Influenza (Flu)**\n",
      "   - **Symptoms:** Fever, cough, headache, muscle aches, fatigue.\n",
      "   - **Likelihood:** High during flu season.\n",
      "   - **Reference:** Centers for Disease Control and Prevention (CDC).\n",
      "\n",
      "2. **Common Cold**\n",
      "   - **Symptoms:** Mild fever, cough, headache, runny or stuffy nose.\n",
      "   - **Likelihood:** Common viral infection.\n",
      "   - **Reference:** National Institute of Allergy and Infectious Diseases (NIAID).\n",
      "\n",
      "3. **COVID-19**\n",
      "   - **Symptoms:** Fever, cough, headache, loss of taste or smell, shortness of breath.\n",
      "   - **Likelihood:** Pandemic status, especially during outbreaks.\n",
      "   - **Reference:** World Health Organization (WHO).\n",
      "\n",
      "4. **Pneumonia**\n",
      "   - **Symptoms:** High fever, persistent cough, headache, chest pain, shortness of breath.\n",
      "   - **Likelihood:** Can be caused by bacteria, viruses, or fungi.\n",
      "   - **Reference:** American Thoracic Society.\n",
      "\n",
      "5. **Sinusitis**\n",
      "   - **Symptoms:** Fever, cough, headache (especially with facial pain or pressure), nasal congestion.\n",
      "   - **Likelihood:** Common condition, usually viral or bacterial.\n",
      "   - **Reference:** American Academy of Otolaryngology-Head and Neck Surgery.\n",
      "\n",
      "6. **Strep Throat**\n",
      "   - **Symptoms:** Fever, sore throat, headache, swollen lymph nodes.\n",
      "   - **Likelihood:** Bacterial infection.\n",
      "   - **Reference:** Centers for Disease Control and Prevention (CDC).\n",
      "\n",
      "7. **Meningitis**\n",
      "   - **Symptoms:** High fever, severe headache, stiff neck, nausea, sensitivity to light.\n",
      "   - **Likelihood:** Can be bacterial, viral, or fungal.\n",
      "   - **Reference:** National Institute of Neurological Disorders and Stroke.\n",
      "\n",
      "8. **Lyme Disease**\n",
      "   - **Symptoms:** Fever, headache, fatigue, characteristic skin rash (bullseye rash).\n",
      "   - **Likelihood:** Tick-borne disease.\n",
      "   - **Reference:** Centers for Disease Control and Prevention (CDC).\n",
      "\n",
      "9. **Acute Bronchitis**\n",
      "   - **Symptoms:** Low-grade fever, persistent cough, chest discomfort, headache.\n",
      "   - **Likelihood:** Often follows a viral upper respiratory infection.\n",
      "   - **Reference:** American Lung Association.\n",
      "\n",
      "10. **COVID-19 Complications**\n",
      "    - **Symptoms:** Fever, cough, headache, along with more severe symptoms like respiratory distress.\n",
      "    - **Likelihood:** In severe cases of COVID-19 infection.\n",
      "    - **Reference:** National Institutes of Health (NIH).\n",
      "\n",
      "It is crucial to consult a healthcare professional for an accurate diagnosis and treatment based on individual symptoms and medical history.\u001b[00m\n",
      "\n",
      "\n",
      "\u001b[1m\u001b[94m \n",
      "[2025-03-12 22:42:40][✅ AGENT 'CONTENT SEARCHER' COMPLETED TASK]: 2025-03-12 22:42:40.645944\u001b[00m\n",
      "\u001b[1m\u001b[94m \n",
      "[2025-03-12 22:42:40][✅ TASK COMPLETED: 1. GATHER COMPREHENSIVE INFORMATION ON ALL POSSIBLE DISEASES RELATED TO FEVER, COUGH, HEADACHE.\n",
      "2. PRIORITIZE MEDICALLY VERIFIED SOURCES AND ESTABLISHED DIAGNOSTIC CRITERIA.\n",
      "3. ORGANIZE FINDINGS INTO A STRUCTURED LIST, ENSURING CLARITY AND ACCURACY.\n",
      "4. PROVIDE REFERENCES OR SUPPORTING DATA TO SUBSTANTIATE THE RESEARCH.]: 2025-03-12 22:42:40.645944\u001b[00m\n",
      "\u001b[1m\u001b[94m \n",
      "[2025-03-12 22:42:40][📋 TASK STARTED: 1. REVIEW THE LIST OF DISEASES RELATED TO THE GIVEN SYMPTOMS.\n",
      "2. ANALYZE THE MEDICAL DATA AND DIAGNOSTIC CRITERIA FOR EACH CONDITION.\n",
      "3. IDENTIFY THE THREE MOST PROBABLE DISEASES BASED ON THE RESEARCH.\n",
      "4. ENSURE THAT THE FINAL SELECTION IS OBJECTIVE, DATA-DRIVEN, AND MEDICALLY RELEVANT.]: 2025-03-12 22:42:40.654882\u001b[00m\n",
      "\u001b[1m\u001b[94m \n",
      "[2025-03-12 22:42:40][🤖 AGENT 'EDITOR' STARTED TASK]: 2025-03-12 22:42:40.657880\u001b[00m\n",
      "\u001b[1m\u001b[95m# Agent:\u001b[00m \u001b[1m\u001b[92mEditor\u001b[00m\n",
      "\u001b[95m## Task:\u001b[00m \u001b[92m1. Review the list of diseases related to the given symptoms.\n",
      "2. Analyze the medical data and diagnostic criteria for each condition.\n",
      "3. Identify the three most probable diseases based on the research.\n",
      "4. Ensure that the final selection is objective, data-driven, and medically relevant.\u001b[00m\n",
      "\u001b[1m\u001b[94m \n",
      "[2025-03-12 22:42:40][🤖 LLM CALL STARTED]: 2025-03-12 22:42:40.657880\u001b[00m\n",
      "\u001b[1m\u001b[94m \n",
      "[2025-03-12 22:42:43][✅ LLM CALL COMPLETED]: 2025-03-12 22:42:43.396298\u001b[00m\n",
      "\n",
      "\n",
      "\u001b[1m\u001b[95m# Agent:\u001b[00m \u001b[1m\u001b[92mEditor\u001b[00m\n",
      "\u001b[95m## Final Answer:\u001b[00m \u001b[92m\n",
      "Based on the symptoms provided (fever, cough, headache), the three most probable diseases are Influenza (Flu), Common Cold, and COVID-19. \n",
      "\n",
      "1. **Influenza (Flu)**\n",
      "- **Symptoms:** Fever, cough, headache, muscle aches, fatigue.\n",
      "- **Likelihood:** High during flu season.\n",
      "- **Reference:** Centers for Disease Control and Prevention (CDC).\n",
      "\n",
      "2. **Common Cold**\n",
      "- **Symptoms:** Mild fever, cough, headache, runny or stuffy nose.\n",
      "- **Likelihood:** Common viral infection.\n",
      "- **Reference:** National Institute of Allergy and Infectious Diseases (NIAID).\n",
      "\n",
      "3. **COVID-19**\n",
      "- **Symptoms:** Fever, cough, headache, loss of taste or smell, shortness of breath.\n",
      "- **Likelihood:** Pandemic status, especially during outbreaks.\n",
      "- **Reference:** World Health Organization (WHO).\n",
      "\n",
      "While other conditions on the list may also present with similar symptoms, the prevalence and current global situation make Influenza, Common Cold, and COVID-19 the most likely causes. It is important for individuals experiencing these symptoms to seek medical advice for proper diagnosis and management.\u001b[00m\n",
      "\n",
      "\n",
      "\u001b[1m\u001b[94m \n",
      "[2025-03-12 22:42:43][✅ AGENT 'EDITOR' COMPLETED TASK]: 2025-03-12 22:42:43.396298\u001b[00m\n",
      "\u001b[1m\u001b[94m \n",
      "[2025-03-12 22:42:43][✅ TASK COMPLETED: 1. REVIEW THE LIST OF DISEASES RELATED TO THE GIVEN SYMPTOMS.\n",
      "2. ANALYZE THE MEDICAL DATA AND DIAGNOSTIC CRITERIA FOR EACH CONDITION.\n",
      "3. IDENTIFY THE THREE MOST PROBABLE DISEASES BASED ON THE RESEARCH.\n",
      "4. ENSURE THAT THE FINAL SELECTION IS OBJECTIVE, DATA-DRIVEN, AND MEDICALLY RELEVANT.]: 2025-03-12 22:42:43.396298\u001b[00m\n",
      "\u001b[1m\u001b[94m \n",
      "[2025-03-12 22:42:43][✅ CREW 'CREW' COMPLETED, 56B5316E-0DCE-47D3-A598-AEFA1D39EE28]: 2025-03-12 22:42:43.407203\u001b[00m\n"
     ]
    }
   ],
   "source": [
    "# Iniciar o processo de pesquisa e edição das doenças relacionadas aos sintomas\n",
    "result = crew.kickoff(inputs={\"sintomas\": \"fever, cough, headache\"})"
   ]
  },
  {
   "cell_type": "markdown",
   "metadata": {},
   "source": [
    "VISUALIZAÇÃO DAS POSSÍVEIS DOENÇAS \"FORMATADAS\""
   ]
  },
  {
   "cell_type": "code",
   "execution_count": 21,
   "metadata": {},
   "outputs": [
    {
     "data": {
      "text/markdown": [
       "Based on the symptoms provided (fever, cough, headache), the three most probable diseases are Influenza (Flu), Common Cold, and COVID-19. \n",
       "\n",
       "1. **Influenza (Flu)**\n",
       "- **Symptoms:** Fever, cough, headache, muscle aches, fatigue.\n",
       "- **Likelihood:** High during flu season.\n",
       "- **Reference:** Centers for Disease Control and Prevention (CDC).\n",
       "\n",
       "2. **Common Cold**\n",
       "- **Symptoms:** Mild fever, cough, headache, runny or stuffy nose.\n",
       "- **Likelihood:** Common viral infection.\n",
       "- **Reference:** National Institute of Allergy and Infectious Diseases (NIAID).\n",
       "\n",
       "3. **COVID-19**\n",
       "- **Symptoms:** Fever, cough, headache, loss of taste or smell, shortness of breath.\n",
       "- **Likelihood:** Pandemic status, especially during outbreaks.\n",
       "- **Reference:** World Health Organization (WHO).\n",
       "\n",
       "While other conditions on the list may also present with similar symptoms, the prevalence and current global situation make Influenza, Common Cold, and COVID-19 the most likely causes. It is important for individuals experiencing these symptoms to seek medical advice for proper diagnosis and management."
      ],
      "text/plain": [
       "<IPython.core.display.Markdown object>"
      ]
     },
     "execution_count": 21,
     "metadata": {},
     "output_type": "execute_result"
    }
   ],
   "source": [
    "Markdown(result.raw)"
   ]
  },
  {
   "cell_type": "markdown",
   "metadata": {},
   "source": [
    "OUTRA DEMONSTRAÇÃO COM MAIS SINOTMAS"
   ]
  },
  {
   "cell_type": "code",
   "execution_count": 23,
   "metadata": {},
   "outputs": [
    {
     "name": "stdout",
     "output_type": "stream",
     "text": [
      "\u001b[1m\u001b[94m \n",
      "[2025-03-12 23:05:06][🚀 CREW 'CREW' STARTED, 56B5316E-0DCE-47D3-A598-AEFA1D39EE28]: 2025-03-12 23:05:06.018243\u001b[00m\n",
      "\u001b[1m\u001b[94m \n",
      "[2025-03-12 23:05:06][📋 TASK STARTED: 1. GATHER COMPREHENSIVE INFORMATION ON ALL POSSIBLE DISEASES RELATED TO FEVER, HEADACHE, FATIGUE, NAUSEA, SHORTNESS OF BREATH, DIARRHEA, CONGESTION.\n",
      "2. PRIORITIZE MEDICALLY VERIFIED SOURCES AND ESTABLISHED DIAGNOSTIC CRITERIA.\n",
      "3. ORGANIZE FINDINGS INTO A STRUCTURED LIST, ENSURING CLARITY AND ACCURACY.\n",
      "4. PROVIDE REFERENCES OR SUPPORTING DATA TO SUBSTANTIATE THE RESEARCH.]: 2025-03-12 23:05:06.043264\u001b[00m\n",
      "\u001b[1m\u001b[94m \n",
      "[2025-03-12 23:05:06][🤖 AGENT 'CONTENT SEARCHER' STARTED TASK]: 2025-03-12 23:05:06.047262\u001b[00m\n",
      "\u001b[1m\u001b[95m# Agent:\u001b[00m \u001b[1m\u001b[92mContent Searcher\u001b[00m\n",
      "\u001b[95m## Task:\u001b[00m \u001b[92m1. Gather comprehensive information on all possible diseases related to Fever, Headache, Fatigue, Nausea, Shortness of Breath, Diarrhea, Congestion.\n",
      "2. Prioritize medically verified sources and established diagnostic criteria.\n",
      "3. Organize findings into a structured list, ensuring clarity and accuracy.\n",
      "4. Provide references or supporting data to substantiate the research.\u001b[00m\n",
      "\u001b[1m\u001b[94m \n",
      "[2025-03-12 23:05:06][🤖 LLM CALL STARTED]: 2025-03-12 23:05:06.047262\u001b[00m\n",
      "\u001b[1m\u001b[94m \n",
      "[2025-03-12 23:05:07][✅ LLM CALL COMPLETED]: 2025-03-12 23:05:07.355756\u001b[00m\n",
      "\u001b[1m\u001b[94m \n",
      "[2025-03-12 23:05:07][🤖 LLM CALL STARTED]: 2025-03-12 23:05:07.356756\u001b[00m\n",
      "\u001b[1m\u001b[94m \n",
      "[2025-03-12 23:05:11][✅ LLM CALL COMPLETED]: 2025-03-12 23:05:11.529493\u001b[00m\n",
      "\n",
      "\n",
      "\u001b[1m\u001b[95m# Agent:\u001b[00m \u001b[1m\u001b[92mContent Searcher\u001b[00m\n",
      "\u001b[95m## Final Answer:\u001b[00m \u001b[92m\n",
      "Upon researching the symptoms of Fever, Headache, Fatigue, Nausea, Shortness of Breath, Diarrhea, and Congestion, the following list of possible diseases and conditions have been identified:\n",
      "\n",
      "1. Influenza (flu): Symptoms such as fever, headache, fatigue, nausea, and congestion are common in influenza infections. Shortness of breath can occur, especially in severe cases.\n",
      "   \n",
      "2. COVID-19: This viral infection can present with fever, fatigue, headache, nausea, diarrhea, shortness of breath, and congestion as some of its symptoms.\n",
      "   \n",
      "3. Pneumonia: Both viral and bacterial pneumonia can cause fever, fatigue, headache, shortness of breath, and nausea. Diarrhea can rarely occur as a symptom.\n",
      "   \n",
      "4. Gastroenteritis: This condition, commonly known as stomach flu, can cause fever, nausea, diarrhea, and fatigue.\n",
      "   \n",
      "5. Acute Bronchitis: Symptoms like fever, headache, fatigue, and congestion are typical in acute bronchitis. Cough may also be present.\n",
      "   \n",
      "6. Asthma Exacerbation: Shortness of breath along with symptoms like fever, headache, and fatigue can be associated with an asthma exacerbation.\n",
      "   \n",
      "7. COVID-19 Variants: Emerging evidence suggests that new variants of the COVID-19 virus may present with varying symptoms, including diarrhea and congestion, in addition to the typical symptoms.\n",
      "   \n",
      "8. Sinusitis: Symptoms such as headache, congestion, fatigue, and sometimes fever are common in sinus infections.\n",
      "   \n",
      "9. Acute Respiratory Distress Syndrome (ARDS): ARDS is a severe lung condition that can lead to shortness of breath as a prominent symptom, often accompanied by fever and fatigue.\n",
      "\n",
      "It's crucial to consult healthcare professionals for an accurate diagnosis and appropriate management based on individual medical history and specific symptoms.\n",
      "\n",
      "References:\n",
      "- Centers for Disease Control and Prevention (CDC)\n",
      "- World Health Organization (WHO)\n",
      "- Mayo Clinic\n",
      "- National Institutes of Health (NIH)\n",
      "\n",
      "This information is based on current medical knowledge and may be subject to updates as new research emerges.\u001b[00m\n",
      "\n",
      "\n",
      "\u001b[1m\u001b[94m \n",
      "[2025-03-12 23:05:11][✅ AGENT 'CONTENT SEARCHER' COMPLETED TASK]: 2025-03-12 23:05:11.529493\u001b[00m\n",
      "\u001b[1m\u001b[94m \n",
      "[2025-03-12 23:05:11][✅ TASK COMPLETED: 1. GATHER COMPREHENSIVE INFORMATION ON ALL POSSIBLE DISEASES RELATED TO FEVER, HEADACHE, FATIGUE, NAUSEA, SHORTNESS OF BREATH, DIARRHEA, CONGESTION.\n",
      "2. PRIORITIZE MEDICALLY VERIFIED SOURCES AND ESTABLISHED DIAGNOSTIC CRITERIA.\n",
      "3. ORGANIZE FINDINGS INTO A STRUCTURED LIST, ENSURING CLARITY AND ACCURACY.\n",
      "4. PROVIDE REFERENCES OR SUPPORTING DATA TO SUBSTANTIATE THE RESEARCH.]: 2025-03-12 23:05:11.529493\u001b[00m\n",
      "\u001b[1m\u001b[94m \n",
      "[2025-03-12 23:05:11][📋 TASK STARTED: 1. REVIEW THE LIST OF DISEASES RELATED TO THE GIVEN SYMPTOMS.\n",
      "2. ANALYZE THE MEDICAL DATA AND DIAGNOSTIC CRITERIA FOR EACH CONDITION.\n",
      "3. IDENTIFY THE THREE MOST PROBABLE DISEASES BASED ON THE RESEARCH.\n",
      "4. ENSURE THAT THE FINAL SELECTION IS OBJECTIVE, DATA-DRIVEN, AND MEDICALLY RELEVANT.]: 2025-03-12 23:05:11.538680\u001b[00m\n",
      "\u001b[1m\u001b[94m \n",
      "[2025-03-12 23:05:11][🤖 AGENT 'EDITOR' STARTED TASK]: 2025-03-12 23:05:11.540389\u001b[00m\n",
      "\u001b[1m\u001b[95m# Agent:\u001b[00m \u001b[1m\u001b[92mEditor\u001b[00m\n",
      "\u001b[95m## Task:\u001b[00m \u001b[92m1. Review the list of diseases related to the given symptoms.\n",
      "2. Analyze the medical data and diagnostic criteria for each condition.\n",
      "3. Identify the three most probable diseases based on the research.\n",
      "4. Ensure that the final selection is objective, data-driven, and medically relevant.\u001b[00m\n",
      "\u001b[1m\u001b[94m \n",
      "[2025-03-12 23:05:11][🤖 LLM CALL STARTED]: 2025-03-12 23:05:11.540389\u001b[00m\n",
      "\u001b[1m\u001b[94m \n",
      "[2025-03-12 23:05:14][✅ LLM CALL COMPLETED]: 2025-03-12 23:05:14.132532\u001b[00m\n",
      "\n",
      "\n",
      "\u001b[1m\u001b[95m# Agent:\u001b[00m \u001b[1m\u001b[92mEditor\u001b[00m\n",
      "\u001b[95m## Final Answer:\u001b[00m \u001b[92m\n",
      "Based on the presented symptoms and known medical data, the three most probable diseases for the individual experiencing fever, headache, fatigue, nausea, shortness of breath, diarrhea, and congestion are:\n",
      "\n",
      "1. COVID-19: This viral infection is a significant possibility given its wide range of symptoms that align with those described, including fever, fatigue, headache, nausea, shortness of breath, and congestion. The potential presence of COVID-19 variants further increases the likelihood of this condition.\n",
      "\n",
      "2. Influenza (flu): Influenza is another probable diagnosis as it commonly manifests with symptoms like fever, headache, fatigue, nausea, and congestion, closely matching the symptoms reported. Shortness of breath can also be a symptom in severe cases of influenza.\n",
      "\n",
      "3. Pneumonia: Both viral and bacterial pneumonia can present with symptoms such as fever, fatigue, headache, shortness of breath, and in some cases, nausea. While diarrhea is less common, it can still manifest as a symptom, making pneumonia a plausible explanation for the symptoms at hand.\n",
      "\n",
      "It is crucial to emphasize that a definitive diagnosis can only be made through proper medical evaluation and testing by healthcare professionals. The above analysis is based on the provided symptoms and established medical literature, but individual cases may vary, warranting personalized medical attention for accurate diagnosis and management.\u001b[00m\n",
      "\n",
      "\n",
      "\u001b[1m\u001b[94m \n",
      "[2025-03-12 23:05:14][✅ AGENT 'EDITOR' COMPLETED TASK]: 2025-03-12 23:05:14.133534\u001b[00m\n",
      "\u001b[1m\u001b[94m \n",
      "[2025-03-12 23:05:14][✅ TASK COMPLETED: 1. REVIEW THE LIST OF DISEASES RELATED TO THE GIVEN SYMPTOMS.\n",
      "2. ANALYZE THE MEDICAL DATA AND DIAGNOSTIC CRITERIA FOR EACH CONDITION.\n",
      "3. IDENTIFY THE THREE MOST PROBABLE DISEASES BASED ON THE RESEARCH.\n",
      "4. ENSURE THAT THE FINAL SELECTION IS OBJECTIVE, DATA-DRIVEN, AND MEDICALLY RELEVANT.]: 2025-03-12 23:05:14.133534\u001b[00m\n",
      "\u001b[1m\u001b[94m \n",
      "[2025-03-12 23:05:14][✅ CREW 'CREW' COMPLETED, 56B5316E-0DCE-47D3-A598-AEFA1D39EE28]: 2025-03-12 23:05:14.143070\u001b[00m\n"
     ]
    }
   ],
   "source": [
    "sintomas = \"Fever, Headache, Fatigue, Nausea, Shortness of Breath, Diarrhea, Congestion\"\n",
    "result = crew.kickoff(inputs={\"sintomas\": sintomas})"
   ]
  },
  {
   "cell_type": "code",
   "execution_count": 24,
   "metadata": {},
   "outputs": [
    {
     "data": {
      "text/markdown": [
       "Based on the presented symptoms and known medical data, the three most probable diseases for the individual experiencing fever, headache, fatigue, nausea, shortness of breath, diarrhea, and congestion are:\n",
       "\n",
       "1. COVID-19: This viral infection is a significant possibility given its wide range of symptoms that align with those described, including fever, fatigue, headache, nausea, shortness of breath, and congestion. The potential presence of COVID-19 variants further increases the likelihood of this condition.\n",
       "\n",
       "2. Influenza (flu): Influenza is another probable diagnosis as it commonly manifests with symptoms like fever, headache, fatigue, nausea, and congestion, closely matching the symptoms reported. Shortness of breath can also be a symptom in severe cases of influenza.\n",
       "\n",
       "3. Pneumonia: Both viral and bacterial pneumonia can present with symptoms such as fever, fatigue, headache, shortness of breath, and in some cases, nausea. While diarrhea is less common, it can still manifest as a symptom, making pneumonia a plausible explanation for the symptoms at hand.\n",
       "\n",
       "It is crucial to emphasize that a definitive diagnosis can only be made through proper medical evaluation and testing by healthcare professionals. The above analysis is based on the provided symptoms and established medical literature, but individual cases may vary, warranting personalized medical attention for accurate diagnosis and management."
      ],
      "text/plain": [
       "<IPython.core.display.Markdown object>"
      ]
     },
     "execution_count": 24,
     "metadata": {},
     "output_type": "execute_result"
    }
   ],
   "source": [
    "Markdown(result.raw)"
   ]
  }
 ],
 "metadata": {
  "kernelspec": {
   "display_name": "Python 3",
   "language": "python",
   "name": "python3"
  },
  "language_info": {
   "codemirror_mode": {
    "name": "ipython",
    "version": 3
   },
   "file_extension": ".py",
   "mimetype": "text/x-python",
   "name": "python",
   "nbconvert_exporter": "python",
   "pygments_lexer": "ipython3",
   "version": "3.12.7"
  }
 },
 "nbformat": 4,
 "nbformat_minor": 2
}
