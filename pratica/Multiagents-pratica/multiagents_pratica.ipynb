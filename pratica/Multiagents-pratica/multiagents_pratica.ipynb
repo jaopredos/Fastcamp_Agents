{
 "cells": [
  {
   "cell_type": "markdown",
   "metadata": {},
   "source": [
    "CONTROLE DE AVISOS"
   ]
  },
  {
   "cell_type": "code",
   "execution_count": null,
   "metadata": {},
   "outputs": [],
   "source": [
    "import warnings\n",
    "#Essa linha serve para ignorar os avisos que aparecem no código\n",
    "warnings.filterwarnings(\"ignore\")"
   ]
  },
  {
   "cell_type": "markdown",
   "metadata": {},
   "source": [
    "INSTALAÇÃO DAS BIBLIOTECAS NECESSÁRIAS"
   ]
  },
  {
   "cell_type": "code",
   "execution_count": null,
   "metadata": {},
   "outputs": [],
   "source": [
    "%pip install crewai_tools crewai langchain_openai python-dotenv"
   ]
  },
  {
   "cell_type": "markdown",
   "metadata": {},
   "source": [
    "IMPORTAÇÃO DAS BIBLIOTECAS NECESSÁRIAS"
   ]
  },
  {
   "cell_type": "code",
   "execution_count": 21,
   "metadata": {},
   "outputs": [],
   "source": [
    "from crewai import Agent, Task, Crew\n",
    "from crewai_tools import ScrapeWebsiteTool, WebsiteSearchTool\n",
    "import os"
   ]
  },
  {
   "cell_type": "code",
   "execution_count": 22,
   "metadata": {},
   "outputs": [],
   "source": [
    "#Definindo a chave de API do OpenAI\n",
    "OPENAI_API_KEY = os.getenv('OPENAI_API_KEY')\n",
    "#Definindo o modelo do ChatGPT que será usado\n",
    "os.environ[\"OPENAI_MODEL_NAME\"] = 'gpt-3.5-turbo'"
   ]
  },
  {
   "cell_type": "markdown",
   "metadata": {},
   "source": [
    "DEFINIÇÃO DAS FERRAMENTAS"
   ]
  },
  {
   "cell_type": "code",
   "execution_count": 23,
   "metadata": {},
   "outputs": [],
   "source": [
    "#Definindo uma ferramenta para fazer buscas no Google\n",
    "search_tool = WebsiteSearchTool()\n",
    "#Essa ferramenta é usada para fazer pesquisas em um site\n",
    "#sobre a doença hanseníase\n",
    "docs_scrape_tool = ScrapeWebsiteTool(\n",
    "    website_url=\"https://portal.fiocruz.br/doenca/hanseniase\"\n",
    ")"
   ]
  },
  {
   "cell_type": "markdown",
   "metadata": {},
   "source": [
    "CRIAÇÃO DE AGENTES"
   ]
  },
  {
   "cell_type": "code",
   "execution_count": 24,
   "metadata": {},
   "outputs": [],
   "source": [
    "#Definindo o agente de suporte\n",
    "doctor_agent = Agent(\n",
    "    #Definindo a função do agente\n",
    "    role=\"Doctor specialized in leprosy\",\n",
    "    #Definindo o objetivo do agente\n",
    "    goal=\"Helps to clarify doubts and better understand leprosy.\",\n",
    "    #Aqui é definida a \"identidade\" do agente,\n",
    "    #ou seja, o modo como ele irá agir\n",
    "    backstory=(\n",
    "        \"\"\" \n",
    "        You are now working to support the patient, a highly qualified professional dedicated to combating leprosy.\n",
    "        Your mission is to provide accurate, complete, and evidence-based information to ensure the best possible guidance.\n",
    "        You are a virtual medical specialist in leprosy, trained with guidelines from leading health organizations, \n",
    "        including the World Health Organization (WHO) and national health authorities. Your expertise covers diagnosis, treatment, prevention, and the latest research on the disease.\n",
    "        \"\"\"\n",
    "    ),\n",
    "    #Definindo a ferramenta que poderá usada pelo agente\n",
    "    tools=[docs_scrape_tool],\n",
    "    #Esse agente não podera delegar tarefas para outros\n",
    "    allow_delegation=False,\n",
    "    #Parâmetro que define se as mensagens sobre as \n",
    "    #ações realizadas pelos agentes serão exibidas\n",
    "    verbose=True\n",
    ")"
   ]
  },
  {
   "cell_type": "code",
   "execution_count": 25,
   "metadata": {},
   "outputs": [],
   "source": [
    "#Definindo o agente de qualidade de suporte, esse agente pode delegar tarefas\n",
    "doctor_quality_assurance_agent = Agent(\n",
    "    #Definindo a função do agente\n",
    "    role=\"Doctor Quality Assurance Specialist\",\n",
    "    #Definindo o objetivo do agente\n",
    "    goal=\"Analyze what has been done and always provide the answer closest to the correct one for the patient.\",\n",
    "    #Aqui é definida a \"identidade\" do agente,\n",
    "    #ou seja, o modo como ele irá agir\n",
    "    backstory=(\n",
    "        \"You are a doctor specializing in diseases caused by microorganisms\"\n",
    "        \"such as viruses, bacteria, and fungi. You must ensure the quality\"\n",
    "        \"of the Doctor's response to the patient.\"\n",
    "    ),\n",
    "    tools=[search_tool],\n",
    "    #Parâmetro que define se as mensagens sobre as \n",
    "    #ações realizadas pelos agentes serão exibidas\n",
    "    verbose=True\n",
    ")"
   ]
  },
  {
   "cell_type": "markdown",
   "metadata": {},
   "source": [
    "CRIAÇÃO DAS TASKS"
   ]
  },
  {
   "cell_type": "code",
   "execution_count": 26,
   "metadata": {},
   "outputs": [],
   "source": [
    "question_doctor = Task(\n",
    "     #Aqui é definida a descrição da tarefa, o que esperamos que o agente faça, a tarefa planejada\n",
    "    #Nesse caso, o agente deve responder a uma pergunta de um cliente\n",
    "    description=(\n",
    "        \"The patient asked the following question related to a disease caused by microorganisms:\\n\"\n",
    "        \"{ask}\\n\\n\"\n",
    "        \"You should be calm and kind, as well as formal, as long as the person understands you. Make sure \"\n",
    "        \"to use everything you know to provide the best answer possible.\"\n",
    "        \"You must strive to provide a complete and accurate response to the patient ask.\"\n",
    "    ),\n",
    "    #Aqui é definido o output esperado, o que esperamos que o agente retorne\n",
    "    expected_output=(\n",
    "        \"A detailed and informative response to the patient's question, thoroughly addressing all aspects of their concern.\" \n",
    "        \"The response should provide a clear and precise medical explanation, ensuring that the patient fully understands the\"\n",
    "        \"microorganism responsible for their condition, how it is transmitted, the symptoms it causes, the available diagnostic methods,\"\n",
    "        \"and the appropriate treatment options. Preventive measures should also be discussed, along with any medical\"\n",
    "        \"or lifestyle recommendations that may help manage or prevent complications.\"\n",
    "        \"The response should include references to reliable sources, such as the World Health Organization (WHO),\"\n",
    "        \"the Centers for Disease Control and Prevention (CDC), or peer-reviewed studies, ensuring transparency and scientific accuracy.\"\n",
    "        \"If external data or clinical guidelines are used to support the response, they should be properly cited.\"\n",
    "        \"Throughout the explanation, the tone should remain welcoming and empathetic, ensuring that the patient feels heard, supported, and reassured.\"\n",
    "    ),\n",
    "    #Aqui é definido o agente que irá realizar a tarefa\n",
    "    agent=doctor_agent,\n",
    ")"
   ]
  },
  {
   "cell_type": "code",
   "execution_count": 27,
   "metadata": {},
   "outputs": [],
   "source": [
    "quality_assurance_review = Task(\n",
    "    #Aqui é definida a descrição da tarefa, o que esperamos que o agente faça, a tarefa planejada\n",
    "    #Nesse caso, o agente deve revisar a resposta feita pelo Representante de Suporte Sênior\n",
    "    description=(\n",
    "        \"Review the response drafted by the Doctor Quality Assurance Specialist\"\n",
    "        \"Ensure that the answer is comprehensive, accurate, and adheres to the\"\n",
    "        \"high-quality standards expected for patient answer.\\n\"\n",
    "        \"Verify that all parts of the patient's ask have been addressed \"\n",
    "        \"thoroughly, with a helful and friendly tone.\\n\"\n",
    "        \"Check for references and sources used to find the information,\"\n",
    "        \"ensuring the response is well-supported and leaves no questions unanswered\"\n",
    "        \"You can return the document prepared by the doctor if you don't find it to be of sufficient quality.\"\n",
    "    ),\n",
    "    #Aqui é definido o resultado esperado da tarefa, o que esperamos que o agente entregue\n",
    "    expected_output=(\n",
    "        \"A final, detailed, and informative response ready to be sent to the patient.\\n\"\n",
    "        \"his answer should fully address the patient's question, including all relevant information\"\n",
    "        \" about their health and the care someone with the disease should take.\\n\"\n",
    "        \"Keep it professional and friendly, but not too formal, \"\n",
    "        \"as we're dealing with people with little schooling.\"\n",
    "    ),  \n",
    "    #Aqui é a atribuição da tarefa para o respectivo agente \n",
    "    agent=doctor_quality_assurance_agent,\n",
    ")"
   ]
  },
  {
   "cell_type": "markdown",
   "metadata": {},
   "source": [
    "CRIAÇÃO DO CREW (GRUPO DOS AGENTES QUE TRABALHAM JUNTOS)"
   ]
  },
  {
   "cell_type": "code",
   "execution_count": 28,
   "metadata": {},
   "outputs": [],
   "source": [
    "crew = Crew(\n",
    "    #Adicionando os agentes ao Crew\n",
    "    agents=[doctor_agent, doctor_quality_assurance_agent],\n",
    "    #Adicionando as tarefas ao Crew\n",
    "    tasks=[question_doctor, quality_assurance_review],\n",
    "    #Parâmetro que define se as mensagens sobre as \n",
    "    #ações realizadas pelos agentes serão exibidas\n",
    "    verbose=True,\n",
    "    #Ativa todas as memórias disponíveis no CrewAI\n",
    "    memory=True,\n",
    ")"
   ]
  },
  {
   "cell_type": "markdown",
   "metadata": {},
   "source": [
    "CHAMANDO A FUNÇÃO CREW PARA QUE O SISTEMA SEJA REALIZADO"
   ]
  },
  {
   "cell_type": "code",
   "execution_count": 29,
   "metadata": {},
   "outputs": [
    {
     "data": {
      "text/html": [
       "<pre style=\"white-space:pre;overflow-x:auto;line-height:normal;font-family:Menlo,'DejaVu Sans Mono',consolas,'Courier New',monospace\"><span style=\"color: #008080; text-decoration-color: #008080\">╭──────────────────────────────────────────── Crew Execution Started ─────────────────────────────────────────────╮</span>\n",
       "<span style=\"color: #008080; text-decoration-color: #008080\">│</span>                                                                                                                 <span style=\"color: #008080; text-decoration-color: #008080\">│</span>\n",
       "<span style=\"color: #008080; text-decoration-color: #008080\">│</span>  <span style=\"color: #008080; text-decoration-color: #008080; font-weight: bold\">Crew Execution Started</span>                                                                                         <span style=\"color: #008080; text-decoration-color: #008080\">│</span>\n",
       "<span style=\"color: #008080; text-decoration-color: #008080\">│</span>  <span style=\"color: #c0c0c0; text-decoration-color: #c0c0c0\">Name: </span><span style=\"color: #008080; text-decoration-color: #008080\">crew</span>                                                                                                     <span style=\"color: #008080; text-decoration-color: #008080\">│</span>\n",
       "<span style=\"color: #008080; text-decoration-color: #008080\">│</span>  <span style=\"color: #c0c0c0; text-decoration-color: #c0c0c0\">ID: </span><span style=\"color: #008080; text-decoration-color: #008080\">91a57a7d-ce0b-4f7e-9abc-2fed54ed8b35</span>                                                                       <span style=\"color: #008080; text-decoration-color: #008080\">│</span>\n",
       "<span style=\"color: #008080; text-decoration-color: #008080\">│</span>                                                                                                                 <span style=\"color: #008080; text-decoration-color: #008080\">│</span>\n",
       "<span style=\"color: #008080; text-decoration-color: #008080\">│</span>                                                                                                                 <span style=\"color: #008080; text-decoration-color: #008080\">│</span>\n",
       "<span style=\"color: #008080; text-decoration-color: #008080\">╰─────────────────────────────────────────────────────────────────────────────────────────────────────────────────╯</span>\n",
       "</pre>\n"
      ],
      "text/plain": [
       "\u001b[36m╭─\u001b[0m\u001b[36m───────────────────────────────────────────\u001b[0m\u001b[36m Crew Execution Started \u001b[0m\u001b[36m────────────────────────────────────────────\u001b[0m\u001b[36m─╮\u001b[0m\n",
       "\u001b[36m│\u001b[0m                                                                                                                 \u001b[36m│\u001b[0m\n",
       "\u001b[36m│\u001b[0m  \u001b[1;36mCrew Execution Started\u001b[0m                                                                                         \u001b[36m│\u001b[0m\n",
       "\u001b[36m│\u001b[0m  \u001b[37mName: \u001b[0m\u001b[36mcrew\u001b[0m                                                                                                     \u001b[36m│\u001b[0m\n",
       "\u001b[36m│\u001b[0m  \u001b[37mID: \u001b[0m\u001b[36m91a57a7d-ce0b-4f7e-9abc-2fed54ed8b35\u001b[0m                                                                       \u001b[36m│\u001b[0m\n",
       "\u001b[36m│\u001b[0m                                                                                                                 \u001b[36m│\u001b[0m\n",
       "\u001b[36m│\u001b[0m                                                                                                                 \u001b[36m│\u001b[0m\n",
       "\u001b[36m╰─────────────────────────────────────────────────────────────────────────────────────────────────────────────────╯\u001b[0m\n"
      ]
     },
     "metadata": {},
     "output_type": "display_data"
    },
    {
     "data": {
      "text/html": [
       "<pre style=\"white-space:pre;overflow-x:auto;line-height:normal;font-family:Menlo,'DejaVu Sans Mono',consolas,'Courier New',monospace\">\n",
       "</pre>\n"
      ],
      "text/plain": [
       "\n"
      ]
     },
     "metadata": {},
     "output_type": "display_data"
    },
    {
     "data": {
      "text/html": [
       "<pre style=\"white-space:pre;overflow-x:auto;line-height:normal;font-family:Menlo,'DejaVu Sans Mono',consolas,'Courier New',monospace\"><span style=\"color: #008080; text-decoration-color: #008080; font-weight: bold\">🚀 Crew: crew</span>\n",
       "└── <span style=\"color: #808000; text-decoration-color: #808000; font-weight: bold\">📋 Task: f9d2676e-9e22-4117-ba10-93e967653e93</span>\n",
       "    <span style=\"color: #c0c0c0; text-decoration-color: #c0c0c0\">   Status: </span><span style=\"color: #bfbf7f; text-decoration-color: #bfbf7f\">Executing Task...</span>\n",
       "</pre>\n"
      ],
      "text/plain": [
       "\u001b[1;36m🚀 Crew: \u001b[0m\u001b[1;36mcrew\u001b[0m\n",
       "└── \u001b[1;33m📋 Task: f9d2676e-9e22-4117-ba10-93e967653e93\u001b[0m\n",
       "    \u001b[37m   Status: \u001b[0m\u001b[2;33mExecuting Task...\u001b[0m\n"
      ]
     },
     "metadata": {},
     "output_type": "display_data"
    },
    {
     "data": {
      "text/html": [
       "<pre style=\"white-space:pre;overflow-x:auto;line-height:normal;font-family:Menlo,'DejaVu Sans Mono',consolas,'Courier New',monospace\">\n",
       "</pre>\n"
      ],
      "text/plain": [
       "\n"
      ]
     },
     "metadata": {},
     "output_type": "display_data"
    },
    {
     "data": {
      "text/html": [
       "<pre style=\"white-space:pre;overflow-x:auto;line-height:normal;font-family:Menlo,'DejaVu Sans Mono',consolas,'Courier New',monospace\"><span style=\"color: #008080; text-decoration-color: #008080; font-weight: bold\">🚀 Crew: crew</span>\n",
       "└── <span style=\"color: #808000; text-decoration-color: #808000; font-weight: bold\">📋 Task: f9d2676e-9e22-4117-ba10-93e967653e93</span>\n",
       "    <span style=\"color: #c0c0c0; text-decoration-color: #c0c0c0\">   Status: </span><span style=\"color: #bfbf7f; text-decoration-color: #bfbf7f\">Executing Task...</span>\n",
       "    └── <span style=\"color: #008000; text-decoration-color: #008000; font-weight: bold\">🤖 Agent: </span><span style=\"color: #008000; text-decoration-color: #008000\">Doctor specialized in leprosy</span>\n",
       "        <span style=\"color: #c0c0c0; text-decoration-color: #c0c0c0\">    Status: </span><span style=\"color: #008000; text-decoration-color: #008000; font-weight: bold\">In Progress</span>\n",
       "</pre>\n"
      ],
      "text/plain": [
       "\u001b[1;36m🚀 Crew: \u001b[0m\u001b[1;36mcrew\u001b[0m\n",
       "└── \u001b[1;33m📋 Task: f9d2676e-9e22-4117-ba10-93e967653e93\u001b[0m\n",
       "    \u001b[37m   Status: \u001b[0m\u001b[2;33mExecuting Task...\u001b[0m\n",
       "    └── \u001b[1;32m🤖 Agent: \u001b[0m\u001b[32mDoctor specialized in leprosy\u001b[0m\n",
       "        \u001b[37m    Status: \u001b[0m\u001b[1;32mIn Progress\u001b[0m\n"
      ]
     },
     "metadata": {},
     "output_type": "display_data"
    },
    {
     "data": {
      "text/html": [
       "<pre style=\"white-space:pre;overflow-x:auto;line-height:normal;font-family:Menlo,'DejaVu Sans Mono',consolas,'Courier New',monospace\">\n",
       "</pre>\n"
      ],
      "text/plain": [
       "\n"
      ]
     },
     "metadata": {},
     "output_type": "display_data"
    },
    {
     "name": "stdout",
     "output_type": "stream",
     "text": [
      "\u001b[1m\u001b[95m# Agent:\u001b[00m \u001b[1m\u001b[92mDoctor specialized in leprosy\u001b[00m\n",
      "\u001b[95m## Task:\u001b[00m \u001b[92mThe patient asked the following question related to a disease caused by microorganisms:\n",
      "What is leprosy?\n",
      "\n",
      "You should be calm and kind, as well as formal, as long as the person understands you. Make sure to use everything you know to provide the best answer possible.You must strive to provide a complete and accurate response to the patient ask.\u001b[00m\n"
     ]
    },
    {
     "data": {
      "text/html": [
       "<pre style=\"white-space:pre;overflow-x:auto;line-height:normal;font-family:Menlo,'DejaVu Sans Mono',consolas,'Courier New',monospace\"><span style=\"color: #008080; text-decoration-color: #008080; font-weight: bold\">🚀 Crew: crew</span>\n",
       "└── <span style=\"color: #808000; text-decoration-color: #808000; font-weight: bold\">📋 Task: f9d2676e-9e22-4117-ba10-93e967653e93</span>\n",
       "    <span style=\"color: #c0c0c0; text-decoration-color: #c0c0c0\">   Status: </span><span style=\"color: #bfbf7f; text-decoration-color: #bfbf7f\">Executing Task...</span>\n",
       "    └── <span style=\"color: #008000; text-decoration-color: #008000; font-weight: bold\">🤖 Agent: </span><span style=\"color: #008000; text-decoration-color: #008000\">Doctor specialized in leprosy</span>\n",
       "        <span style=\"color: #c0c0c0; text-decoration-color: #c0c0c0\">    Status: </span><span style=\"color: #008000; text-decoration-color: #008000; font-weight: bold\">In Progress</span>\n",
       "        └── <span style=\"color: #000080; text-decoration-color: #000080; font-weight: bold\">🧠 </span><span style=\"color: #000080; text-decoration-color: #000080\">Thinking...</span>\n",
       "</pre>\n"
      ],
      "text/plain": [
       "\u001b[1;36m🚀 Crew: \u001b[0m\u001b[1;36mcrew\u001b[0m\n",
       "└── \u001b[1;33m📋 Task: f9d2676e-9e22-4117-ba10-93e967653e93\u001b[0m\n",
       "    \u001b[37m   Status: \u001b[0m\u001b[2;33mExecuting Task...\u001b[0m\n",
       "    └── \u001b[1;32m🤖 Agent: \u001b[0m\u001b[32mDoctor specialized in leprosy\u001b[0m\n",
       "        \u001b[37m    Status: \u001b[0m\u001b[1;32mIn Progress\u001b[0m\n",
       "        └── \u001b[1;34m🧠 \u001b[0m\u001b[34mThinking...\u001b[0m\n"
      ]
     },
     "metadata": {},
     "output_type": "display_data"
    },
    {
     "data": {
      "text/html": [
       "<pre style=\"white-space:pre;overflow-x:auto;line-height:normal;font-family:Menlo,'DejaVu Sans Mono',consolas,'Courier New',monospace\">\n",
       "</pre>\n"
      ],
      "text/plain": [
       "\n"
      ]
     },
     "metadata": {},
     "output_type": "display_data"
    },
    {
     "data": {
      "text/html": [
       "<pre style=\"white-space:pre;overflow-x:auto;line-height:normal;font-family:Menlo,'DejaVu Sans Mono',consolas,'Courier New',monospace\"><span style=\"color: #008080; text-decoration-color: #008080; font-weight: bold\">🚀 Crew: crew</span>\n",
       "└── <span style=\"color: #808000; text-decoration-color: #808000; font-weight: bold\">📋 Task: f9d2676e-9e22-4117-ba10-93e967653e93</span>\n",
       "    <span style=\"color: #c0c0c0; text-decoration-color: #c0c0c0\">   Status: </span><span style=\"color: #bfbf7f; text-decoration-color: #bfbf7f\">Executing Task...</span>\n",
       "    └── <span style=\"color: #008000; text-decoration-color: #008000; font-weight: bold\">🤖 Agent: </span><span style=\"color: #008000; text-decoration-color: #008000\">Doctor specialized in leprosy</span>\n",
       "        <span style=\"color: #c0c0c0; text-decoration-color: #c0c0c0\">    Status: </span><span style=\"color: #008000; text-decoration-color: #008000; font-weight: bold\">In Progress</span>\n",
       "</pre>\n"
      ],
      "text/plain": [
       "\u001b[1;36m🚀 Crew: \u001b[0m\u001b[1;36mcrew\u001b[0m\n",
       "└── \u001b[1;33m📋 Task: f9d2676e-9e22-4117-ba10-93e967653e93\u001b[0m\n",
       "    \u001b[37m   Status: \u001b[0m\u001b[2;33mExecuting Task...\u001b[0m\n",
       "    └── \u001b[1;32m🤖 Agent: \u001b[0m\u001b[32mDoctor specialized in leprosy\u001b[0m\n",
       "        \u001b[37m    Status: \u001b[0m\u001b[1;32mIn Progress\u001b[0m\n"
      ]
     },
     "metadata": {},
     "output_type": "display_data"
    },
    {
     "data": {
      "text/html": [
       "<pre style=\"white-space:pre;overflow-x:auto;line-height:normal;font-family:Menlo,'DejaVu Sans Mono',consolas,'Courier New',monospace\">\n",
       "</pre>\n"
      ],
      "text/plain": [
       "\n"
      ]
     },
     "metadata": {},
     "output_type": "display_data"
    },
    {
     "data": {
      "text/html": [
       "<pre style=\"white-space:pre;overflow-x:auto;line-height:normal;font-family:Menlo,'DejaVu Sans Mono',consolas,'Courier New',monospace\"><span style=\"color: #008080; text-decoration-color: #008080; font-weight: bold\">🚀 Crew: crew</span>\n",
       "└── <span style=\"color: #808000; text-decoration-color: #808000; font-weight: bold\">📋 Task: f9d2676e-9e22-4117-ba10-93e967653e93</span>\n",
       "    <span style=\"color: #c0c0c0; text-decoration-color: #c0c0c0\">   Status: </span><span style=\"color: #bfbf7f; text-decoration-color: #bfbf7f\">Executing Task...</span>\n",
       "    └── <span style=\"color: #008000; text-decoration-color: #008000; font-weight: bold\">🤖 Agent: </span><span style=\"color: #008000; text-decoration-color: #008000\">Doctor specialized in leprosy</span>\n",
       "        <span style=\"color: #c0c0c0; text-decoration-color: #c0c0c0\">    Status: </span><span style=\"color: #008000; text-decoration-color: #008000; font-weight: bold\">In Progress</span>\n",
       "        └── <span style=\"color: #808000; text-decoration-color: #808000; font-weight: bold\">🔧 </span><span style=\"color: #808000; text-decoration-color: #808000\">Using [Read website content] (2)</span>\n",
       "</pre>\n"
      ],
      "text/plain": [
       "\u001b[1;36m🚀 Crew: \u001b[0m\u001b[1;36mcrew\u001b[0m\n",
       "└── \u001b[1;33m📋 Task: f9d2676e-9e22-4117-ba10-93e967653e93\u001b[0m\n",
       "    \u001b[37m   Status: \u001b[0m\u001b[2;33mExecuting Task...\u001b[0m\n",
       "    └── \u001b[1;32m🤖 Agent: \u001b[0m\u001b[32mDoctor specialized in leprosy\u001b[0m\n",
       "        \u001b[37m    Status: \u001b[0m\u001b[1;32mIn Progress\u001b[0m\n",
       "        └── \u001b[1;33m🔧 \u001b[0m\u001b[33mUsing [Read website content] (2)\u001b[0m\n"
      ]
     },
     "metadata": {},
     "output_type": "display_data"
    },
    {
     "data": {
      "text/html": [
       "<pre style=\"white-space:pre;overflow-x:auto;line-height:normal;font-family:Menlo,'DejaVu Sans Mono',consolas,'Courier New',monospace\">\n",
       "</pre>\n"
      ],
      "text/plain": [
       "\n"
      ]
     },
     "metadata": {},
     "output_type": "display_data"
    },
    {
     "data": {
      "text/html": [
       "<pre style=\"white-space:pre;overflow-x:auto;line-height:normal;font-family:Menlo,'DejaVu Sans Mono',consolas,'Courier New',monospace\"><span style=\"color: #008080; text-decoration-color: #008080; font-weight: bold\">🚀 Crew: crew</span>\n",
       "└── <span style=\"color: #808000; text-decoration-color: #808000; font-weight: bold\">📋 Task: f9d2676e-9e22-4117-ba10-93e967653e93</span>\n",
       "    <span style=\"color: #c0c0c0; text-decoration-color: #c0c0c0\">   Status: </span><span style=\"color: #bfbf7f; text-decoration-color: #bfbf7f\">Executing Task...</span>\n",
       "    └── <span style=\"color: #008000; text-decoration-color: #008000; font-weight: bold\">🤖 Agent: </span><span style=\"color: #008000; text-decoration-color: #008000\">Doctor specialized in leprosy</span>\n",
       "        <span style=\"color: #c0c0c0; text-decoration-color: #c0c0c0\">    Status: </span><span style=\"color: #008000; text-decoration-color: #008000; font-weight: bold\">In Progress</span>\n",
       "        └── <span style=\"color: #008000; text-decoration-color: #008000; font-weight: bold\">🔧 </span><span style=\"color: #008000; text-decoration-color: #008000\">Used Read website content (1)</span>\n",
       "</pre>\n"
      ],
      "text/plain": [
       "\u001b[1;36m🚀 Crew: \u001b[0m\u001b[1;36mcrew\u001b[0m\n",
       "└── \u001b[1;33m📋 Task: f9d2676e-9e22-4117-ba10-93e967653e93\u001b[0m\n",
       "    \u001b[37m   Status: \u001b[0m\u001b[2;33mExecuting Task...\u001b[0m\n",
       "    └── \u001b[1;32m🤖 Agent: \u001b[0m\u001b[32mDoctor specialized in leprosy\u001b[0m\n",
       "        \u001b[37m    Status: \u001b[0m\u001b[1;32mIn Progress\u001b[0m\n",
       "        └── \u001b[1;32m🔧 \u001b[0m\u001b[32mUsed Read website content (1)\u001b[0m\n"
      ]
     },
     "metadata": {},
     "output_type": "display_data"
    },
    {
     "data": {
      "text/html": [
       "<pre style=\"white-space:pre;overflow-x:auto;line-height:normal;font-family:Menlo,'DejaVu Sans Mono',consolas,'Courier New',monospace\">\n",
       "</pre>\n"
      ],
      "text/plain": [
       "\n"
      ]
     },
     "metadata": {},
     "output_type": "display_data"
    },
    {
     "name": "stdout",
     "output_type": "stream",
     "text": [
      "\n",
      "\n",
      "\u001b[1m\u001b[95m# Agent:\u001b[00m \u001b[1m\u001b[92mDoctor specialized in leprosy\u001b[00m\n",
      "\u001b[95m## Using tool:\u001b[00m \u001b[92m[Read website content]\u001b[00m\n",
      "\u001b[95m## Tool Input:\u001b[00m \u001b[92m\n",
      "\"{}\"\u001b[00m\n",
      "\u001b[95m## Tool Output:\u001b[00m \u001b[92m\n",
      "\n",
      "Hanseníase | Portal Fiocruz\n",
      "Pular para o conteúdo principal\n",
      "Pular para o menu principal\n",
      "Para obter um melhor funcionamento visual o javascript deve estar habilitado!\n",
      "Portal do Governo Brasileiro\n",
      "Atualize sua Barra de Governo\n",
      "Fale conosco Ouvidoria         Intranet Mapa do site Visite a Fiocruz Acessibilidade\n",
      "Português\n",
      "English\n",
      "Español\n",
      "Fiocruz\n",
      "Fundação Oswaldo Cruz uma instituição a serviço da vida\n",
      "Buscar na Fiocruz\n",
      "Palavra-chave\n",
      "Buscar\n",
      "Início do menu principal\n",
      "Início A Fundação Pesquisa e ensino Serviços Produção e inovação Comunicação e informação Acesso à informação\n",
      "Início do conteúdo\n",
      "Você está aqui » Início » Hanseníase\n",
      "Hanseníase\n",
      "Hanseníase\n",
      "A hanseníase é uma doença infecciosa, contagiosa e de evolução crônica, que afeta os nervos e a pele. Também conhecida como lepra ou mal de Lázaro, é causada pelo bacilo Mycobacterium leprae . Associada a desigualdades sociais, afetando principalmente as regiões mais carentes do mundo, a doença é transmitida através das vias aéreas (secreções nasais, gotículas da fala, tosse, espirro) de pacientes com a forma infectante da doença que não receberam tratamento.\n",
      "Saiba mais sobre a Hanseníase\n",
      "Sintomas\n",
      "Os principais sintomas da hanseníase são parestesias (dormências), dor nos nervos dos braços, mãos, pernas e pés; presença de lesões de pele, como caroços e placas pelo corpo, com alteração da sensibilidade; e diminuição da força muscular.\n",
      "Diagnóstico\n",
      "As lesões de pele provocadas pela hanseníase são bem características. O diagnóstico é baseado em critérios clínicos e epidemiológicos. Para confirmação da doença, é feita uma baciloscopia, um exame que identifica as bactérias presentes na região. Também pode ser realizado um exame histopatológico, ou seja, um estudo dos tecidos do organismo ao microscópio do material retirado da lesão.\n",
      "Prevenção\n",
      "A hanseníase não pode ser totalmente prevenida. Para suas formas mais disseminadas, é aplicada a vacina BCG, que é dada aos contatos mais próximos do paciente de forma a evitar que se infectem. Na suspeita da doença, é preciso procurar atendimento em uma unidade de saúde o mais rápido possível. O diagnóstico precoce, o tratamento oportuno e a investigação de contatos é fundamental, pois evita a evolução da enfermidade para as incapacidades e deformidades físicas que dela podem surgir, além da contaminação de mais pessoas.\n",
      "Tratamento\n",
      "Todos os casos de hanseníase têm tratamento e cura. Para tratar o paciente, é feita uma associação de três antibióticos (rifampicina, dapsona e clofazimina), usados de forma padronizada. Existem dois tipos de tratamento: um tem duração de seis meses, e é direcionado a pacientes que estão infectados, mas não contaminam outras pessoas. O outro tem duração de 12 meses e é voltado a pacientes que podem infectar outros indivíduos. As lesões de pele podem desaparecer logo no início, mas isso não quer dizer que o paciente esteja curado, por isso a importância de se respeitar o tempo de tratamento e tomar a medicação corretamente. O paciente pode ser tratado gratuitamente no Sistema Único de Saúde (SUS).\n",
      "Transmissão\n",
      "A transmissão ocorre quando uma pessoa com hanseníase, na forma infectante da doença, sem tratamento, elimina o bacilo para o meio exterior, infectando outras pessoas suscetíveis, ou seja, com maior probabilidade de adoecer. A forma de eliminação do bacilo pelo doente são as vias aéreas superiores (por meio do espirro ou tosse), e não pelos objetos utilizados pelo paciente. Também é necessário um contato próximo e prolongado.\n",
      "O paciente que está sendo tratado deixa de transmitir a doença, cujo período de incubação pode levar de três a cinco anos. A maioria das pessoas que entram em contato com estes bacilos não desenvolve a enfermidade.\n",
      "Atuação da Fiocruz\n",
      "O Laboratório de Hanseníase do Instituto Oswaldo Cruz (IOC/Fiocruz) atua na geração de conhecimentos sobre a hanseníase e outras microbacterioses, promovendo a integração entre as áreas de pesquisa e assistência. O Laboratório está inserido no Programa Nacional de Controle da Hanseníase do Ministério da Saúde e é responsável pelo Ambulatório Souza Araújo, prestando atividades de referência para o Sistema Único de Saúde (SUS).\n",
      "Dedica-se à expansão da pesquisa clínica e epidemiológica em hanseníase, com foco na identificação de fatores de risco de adoecimento, na avaliação dos esquemas terapêuticos e da presença de mutações relacionadas à resistência aos medicamentos utilizados no tratamento. Além disso, atua na investigação clínica das lesões neurológicas nos mecanismos patogênicos da neuropatia periférica da hanseníase.\n",
      "Fonte: Agência Fiocruz de Notícias e Ministério da Saúde. Texto revisado pelos pesquisadores Anna Maria Sales, do Laboratório de Hanseníase do Instituto Oswaldo Cruz (IOC/Fiocruz), \n",
      "José Augusto da Costa Nery, do Ambulatório Souza Araújo do Laboratório de Hanseníase do IOC/Fiocruz e Rita Maria de Oliveira Pereira, assistente social do Laboratório de Hanseníase do IOC/Fiocruz\n",
      "Tipo de doença: Doenças bacterianas; Doenças infecciosas; Doenças negligenciadas Agente causador: Mycobacterium leprae\n",
      "Perguntas e respostas\n",
      "Durante o período do tratamento contra a hanseníase o paciente pode fazer uso de bebida alcoólica? O uso de bebidas alcoólicas não deve ser incentivado durante o uso de qualquer medicamento. Se o paciente beber eventualmente, ele não deve deixar de tomar os remédios.\n",
      "A mulher em tratamento contra a hanseníase pode amamentar? Sim, as medicações utilizadas para o tratamento da hanseníase não causam nenhum problema para o bebê.\n",
      "É possível prevenir a hanseníase? A prevenção da hanseníase pode ser feita com hábitos saudáveis, alimentação adequada e prática de atividade física.\n",
      "A hanseníase tem cura? Sim. O tratamento da hanseníase é feito com antibióticos. O que varia é o tempo de tratamento. Quem tem a forma mais branda da doença deve ser tratado por 6 meses.\n",
      "Por que tratar a hanseníase? É importante realizar o tratamento para diminuir os casos de deformações que podem ser incapacitantes. Além do mais, ao seguir o tratamento recomendado pelo médico, a doença deixa de ser transmitida.\n",
      "Anterior\n",
      "Pause\n",
      "Próximo\n",
      "Serviços\n",
      "Solicitar diagnóstico de referência para hanseníase - Fiocruz IOC/RJ\n",
      "O Laboratório de Referência em Hanseníase (LAHAN) do IOC/Fiocruz realiza o diagn...\n",
      "Realizar consulta especializada em hanseníase - Fiocruz IOC/RJ\n",
      "O Ambulatório Souza Araújo oferece atendimento especializado para diagnóstico e...\n",
      "Ver mais\n",
      "Notícias\n",
      "Janeiro Roxo: conheça as práticas do IdeiaSUS que fortalecem a luta no combate à hanseníase\n",
      "O primeiro mês do ano é dedicado à conscientização e luta no comba...\n",
      "Fiocruz vai liderar primeiro teste clínico de uma vacina para hanseníase no Brasil\n",
      "Uma vacina inédita para hanseníase será testada no Brasil pelo Instituto Oswald...\n",
      "IdeiaSUS Fiocruz e Canal Saúde lançam cinco documentários sobre o SUS\n",
      "A Plataforma IdeiaSUS Fiocruz e o Canal Saúde lançam, em evento virtual transmitido pe...\n",
      "Ambulatório de atendimento à hanseníase da Fiocruz celebra certificado nacional de acreditação\n",
      "O Ambulatório Souza Araújo do Instituto Oswaldo Cruz (IOC/Fiocruz), unidade assistenci...\n",
      "Ambulatório de hanseníase da Fiocruz conquista nova acreditação\n",
      "Na semana em que é celebrado o Dia Estadual de Conscientização, Mobiliza...\n",
      "Ver mais\n",
      "Vídeos\n",
      "COVID-19 e doenças tropicais negligenciadas\n",
      "As doenças tropicais negligenciadas são um grupo de 20 doenças, incluindo dengu...\n",
      "Letícia Lima Oliveira Sousa\n",
      "Aluna: Letícia Lima Oliveira Sousa \n",
      "Colégio: Pedro II - Campus São Cristóvão \n",
      "Orientadora: Ximena Il...\n",
      "Brenda Ficheira Coelho Ribeiro e Rafaela de Souza Andrade\n",
      "Título do trabalho: Purificação de neutrófilos circulantes de sangue periférico de pacientes com han...\n",
      "Chamada Pública Fiocruz: Hanseníase – Bate Papo na Saúde\n",
      "Bate Papo na Saúde – Chamada Pública Fiocruz: Hanseníase: Esta edição do Bate Papo na Saúde vamos ap...\n",
      "Fatos e versões em quatro décadas de trajetória da Pós-graduação em Medicina Tropical do IOC\n",
      "Quarto e último evento da série comemorativa dos 40 anos da Pós-Graduaç...\n",
      "Ver mais\n",
      "Voltar ao topo Voltar\n",
      "Acesso aberto\n",
      "Acesso ao patrimônio genético e ao conhecimento tradicional associado\n",
      "Agenda Jovem Fiocruz\n",
      "Banco de imagens\n",
      "Banco de Leite Humano\n",
      "Canal Saúde\n",
      "Castelo: Patrimônio da ciência\n",
      "Centro de Estudos Estratégicos da Fiocruz Antonio Ivo de Carvalho (CEE-Fiocruz)\n",
      "Centro de Relações Internacionais em Saúde\n",
      "Ciência aberta\n",
      "Coleções biológicas\n",
      "Comitê Pró-Equidade de Gênero e Raça\n",
      "Conselho Superior\n",
      "Controle de qualidade\n",
      "Coordenação de Cooperação Social\n",
      "Coordenação de Equidade, Diversidade, Inclusão e Políticas Afirmativas (Cedipa)\n",
      "Coordenação-Geral de Gestão de Pessoas (Cogepe)\n",
      "Coronavírus\n",
      "Cursos\n",
      "Divulgação científica na Fiocruz\n",
      "Editora Fiocruz\n",
      "Fiocruz Vídeo\n",
      "Galeria de Honra\n",
      "Galeria de presidentes\n",
      "História\n",
      "Lei da Biodiversidade\n",
      "Monitores e observatórios\n",
      "Mulheres e meninas na ciência\n",
      "Museu da Vida Fiocruz\n",
      "Organograma\n",
      "Oswaldo Cruz\n",
      "Ouvidoria\n",
      "PenseSUS\n",
      "Portfólio de inovação\n",
      "Programa Inova Fiocruz\n",
      "Programa Institucional Violência e Saúde\n",
      "Programa Justiça itinerante\n",
      "Publicações\n",
      "Rede de Bibliotecas\n",
      "Repositório institucional - Arca\n",
      "Sergio Arouca\n",
      "Tratamento de dados pessoais\n",
      "Unidades e escritórios\n",
      "Vacinas\n",
      "VideoSaúde Distribuidora\n",
      "Visite a Fiocruz: endereços e contatos\n",
      "Campus Sede: Av. Brasil, 4365 - Manguinhos, Rio de Janeiro - CEP: 21040-900 - Tel: (0xx21) 2598-4242\n",
      "Índice alfabético\n",
      "Expediente\n",
      "Este portal é regido pela Política de Acesso Aberto ao Conhecimento , que busca garantir à sociedade o acesso gratuito, público e aberto ao conteúdo integral de toda obra intelectual produzida pela Fiocruz.\n",
      "O conteúdo deste portal pode ser utilizado para todos os fins não comerciais, respeitados e reservados os direitos morais dos autores.\n",
      "\u001b[00m\n"
     ]
    },
    {
     "data": {
      "text/html": [
       "<pre style=\"white-space:pre;overflow-x:auto;line-height:normal;font-family:Menlo,'DejaVu Sans Mono',consolas,'Courier New',monospace\"><span style=\"color: #008080; text-decoration-color: #008080; font-weight: bold\">🚀 Crew: crew</span>\n",
       "└── <span style=\"color: #808000; text-decoration-color: #808000; font-weight: bold\">📋 Task: f9d2676e-9e22-4117-ba10-93e967653e93</span>\n",
       "    <span style=\"color: #c0c0c0; text-decoration-color: #c0c0c0\">   Status: </span><span style=\"color: #bfbf7f; text-decoration-color: #bfbf7f\">Executing Task...</span>\n",
       "    └── <span style=\"color: #008000; text-decoration-color: #008000; font-weight: bold\">🤖 Agent: </span><span style=\"color: #008000; text-decoration-color: #008000\">Doctor specialized in leprosy</span>\n",
       "        <span style=\"color: #c0c0c0; text-decoration-color: #c0c0c0\">    Status: </span><span style=\"color: #008000; text-decoration-color: #008000; font-weight: bold\">In Progress</span>\n",
       "        ├── <span style=\"color: #008000; text-decoration-color: #008000; font-weight: bold\">🔧 </span><span style=\"color: #008000; text-decoration-color: #008000\">Used Read website content (1)</span>\n",
       "        └── <span style=\"color: #000080; text-decoration-color: #000080; font-weight: bold\">🧠 </span><span style=\"color: #000080; text-decoration-color: #000080\">Thinking...</span>\n",
       "</pre>\n"
      ],
      "text/plain": [
       "\u001b[1;36m🚀 Crew: \u001b[0m\u001b[1;36mcrew\u001b[0m\n",
       "└── \u001b[1;33m📋 Task: f9d2676e-9e22-4117-ba10-93e967653e93\u001b[0m\n",
       "    \u001b[37m   Status: \u001b[0m\u001b[2;33mExecuting Task...\u001b[0m\n",
       "    └── \u001b[1;32m🤖 Agent: \u001b[0m\u001b[32mDoctor specialized in leprosy\u001b[0m\n",
       "        \u001b[37m    Status: \u001b[0m\u001b[1;32mIn Progress\u001b[0m\n",
       "        ├── \u001b[1;32m🔧 \u001b[0m\u001b[32mUsed Read website content (1)\u001b[0m\n",
       "        └── \u001b[1;34m🧠 \u001b[0m\u001b[34mThinking...\u001b[0m\n"
      ]
     },
     "metadata": {},
     "output_type": "display_data"
    },
    {
     "data": {
      "text/html": [
       "<pre style=\"white-space:pre;overflow-x:auto;line-height:normal;font-family:Menlo,'DejaVu Sans Mono',consolas,'Courier New',monospace\">\n",
       "</pre>\n"
      ],
      "text/plain": [
       "\n"
      ]
     },
     "metadata": {},
     "output_type": "display_data"
    },
    {
     "data": {
      "text/html": [
       "<pre style=\"white-space:pre;overflow-x:auto;line-height:normal;font-family:Menlo,'DejaVu Sans Mono',consolas,'Courier New',monospace\"><span style=\"color: #008080; text-decoration-color: #008080; font-weight: bold\">🚀 Crew: crew</span>\n",
       "└── <span style=\"color: #808000; text-decoration-color: #808000; font-weight: bold\">📋 Task: f9d2676e-9e22-4117-ba10-93e967653e93</span>\n",
       "    <span style=\"color: #c0c0c0; text-decoration-color: #c0c0c0\">   Status: </span><span style=\"color: #bfbf7f; text-decoration-color: #bfbf7f\">Executing Task...</span>\n",
       "    └── <span style=\"color: #008000; text-decoration-color: #008000; font-weight: bold\">🤖 Agent: </span><span style=\"color: #008000; text-decoration-color: #008000\">Doctor specialized in leprosy</span>\n",
       "        <span style=\"color: #c0c0c0; text-decoration-color: #c0c0c0\">    Status: </span><span style=\"color: #008000; text-decoration-color: #008000; font-weight: bold\">In Progress</span>\n",
       "        └── <span style=\"color: #008000; text-decoration-color: #008000; font-weight: bold\">🔧 </span><span style=\"color: #008000; text-decoration-color: #008000\">Used Read website content (1)</span>\n",
       "</pre>\n"
      ],
      "text/plain": [
       "\u001b[1;36m🚀 Crew: \u001b[0m\u001b[1;36mcrew\u001b[0m\n",
       "└── \u001b[1;33m📋 Task: f9d2676e-9e22-4117-ba10-93e967653e93\u001b[0m\n",
       "    \u001b[37m   Status: \u001b[0m\u001b[2;33mExecuting Task...\u001b[0m\n",
       "    └── \u001b[1;32m🤖 Agent: \u001b[0m\u001b[32mDoctor specialized in leprosy\u001b[0m\n",
       "        \u001b[37m    Status: \u001b[0m\u001b[1;32mIn Progress\u001b[0m\n",
       "        └── \u001b[1;32m🔧 \u001b[0m\u001b[32mUsed Read website content (1)\u001b[0m\n"
      ]
     },
     "metadata": {},
     "output_type": "display_data"
    },
    {
     "data": {
      "text/html": [
       "<pre style=\"white-space:pre;overflow-x:auto;line-height:normal;font-family:Menlo,'DejaVu Sans Mono',consolas,'Courier New',monospace\">\n",
       "</pre>\n"
      ],
      "text/plain": [
       "\n"
      ]
     },
     "metadata": {},
     "output_type": "display_data"
    },
    {
     "name": "stdout",
     "output_type": "stream",
     "text": [
      "\n",
      "\n",
      "\u001b[1m\u001b[95m# Agent:\u001b[00m \u001b[1m\u001b[92mDoctor specialized in leprosy\u001b[00m\n",
      "\u001b[95m## Final Answer:\u001b[00m \u001b[92m\n",
      "Hanseníase\n",
      "A hanseníase é uma doença infecciosa, contagiosa e de evolução crônica, que afeta os nervos e a pele. Também conhecida como lepra ou mal de Lázaro, é causada pelo bacilo Mycobacterium leprae. Associada a desigualdades sociais, afetando principalmente as regiões mais carentes do mundo, a doença é transmitida através das vias aéreas (secreções nasais, gotículas da fala, tosse, espirro) de pacientes com a forma infectante da doença que não receberam tratamento.\n",
      "\n",
      "Sintomas\n",
      "Os principais sintomas da hanseníase são parestesias (dormências), dor nos nervos dos braços, mãos, pernas e pés; presença de lesões de pele, como caroços e placas pelo corpo, com alteração da sensibilidade; e diminuição da força muscular.\n",
      "\n",
      "Diagnóstico\n",
      "As lesões de pele provocadas pela hanseníase são bem características. O diagnóstico é baseado em critérios clínicos e epidemiológicos. Para confirmação da doença, é feita uma baciloscopia, um exame que identifica as bactérias presentes na região. Também pode ser realizado um exame histopatológico, ou seja, um estudo dos tecidos do organismo ao microscópio do material retirado da lesão.\n",
      "\n",
      "Prevenção\n",
      "A hanseníase não pode ser totalmente prevenida. Para suas formas mais disseminadas, é aplicada a vacina BCG, que é dada aos contatos mais próximos do paciente de forma a evitar que se infectem. Na suspeita da doença, é preciso procurar atendimento em uma unidade de saúde o mais rápido possível. O diagnóstico precoce, o tratamento oportuno e a investigação de contatos é fundamental, pois evita a evolução da enfermidade para as incapacidades e deformidades físicas que dela podem surgir, além da contaminação de mais pessoas.\n",
      "\n",
      "Tratamento\n",
      "Todos os casos de hanseníase têm tratamento e cura. Para tratar o paciente, é feita uma associação de três antibióticos (rifampicina, dapsona e clofazimina), usados de forma padronizada. Existem dois tipos de tratamento: um tem duração de seis meses, e é direcionado a pacientes que estão infectados, mas não contaminam outras pessoas. O outro tem duração de 12 meses e é voltado a pacientes que podem infectar outros indivíduos. As lesões de pele podem desaparecer logo no início, mas isso não quer dizer que o paciente esteja curado, por isso a importância de se respeitar o tempo de tratamento e tomar a medicação corretamente. O paciente pode ser tratado gratuitamente no Sistema Único de Saúde (SUS).\n",
      "\n",
      "Transmissão\n",
      "A transmissão ocorre quando uma pessoa com hanseníase, na forma infectante da doença, sem tratamento, elimina o bacilo para o meio exterior, infectando outras pessoas suscetíveis, ou seja, com maior probabilidade de adoecer. A forma de eliminação do bacilo pelo doente são as vias aéreas superiores (por meio do espirro ou tosse), e não pelos objetos utilizados pelo paciente. Também é necessário um contato próximo e prolongado.\n",
      "\n",
      "O paciente que está sendo tratado deixa de transmitir a doença, cujo período de incubação pode levar de três a cinco anos. A maioria das pessoas que entram em contato com estes bacilos não desenvolve a enfermidade.\u001b[00m\n",
      "\n",
      "\n"
     ]
    },
    {
     "data": {
      "text/html": [
       "<pre style=\"white-space:pre;overflow-x:auto;line-height:normal;font-family:Menlo,'DejaVu Sans Mono',consolas,'Courier New',monospace\"><span style=\"color: #008080; text-decoration-color: #008080; font-weight: bold\">🚀 Crew: crew</span>\n",
       "└── <span style=\"color: #808000; text-decoration-color: #808000; font-weight: bold\">📋 Task: f9d2676e-9e22-4117-ba10-93e967653e93</span>\n",
       "    <span style=\"color: #c0c0c0; text-decoration-color: #c0c0c0\">   Status: </span><span style=\"color: #bfbf7f; text-decoration-color: #bfbf7f\">Executing Task...</span>\n",
       "    └── <span style=\"color: #008000; text-decoration-color: #008000; font-weight: bold\">🤖 Agent: </span><span style=\"color: #008000; text-decoration-color: #008000\">Doctor specialized in leprosy</span>\n",
       "        <span style=\"color: #c0c0c0; text-decoration-color: #c0c0c0\">    Status: </span><span style=\"color: #008000; text-decoration-color: #008000; font-weight: bold\">✅ Completed</span>\n",
       "        └── <span style=\"color: #008000; text-decoration-color: #008000; font-weight: bold\">🔧 </span><span style=\"color: #008000; text-decoration-color: #008000\">Used Read website content (1)</span>\n",
       "</pre>\n"
      ],
      "text/plain": [
       "\u001b[1;36m🚀 Crew: \u001b[0m\u001b[1;36mcrew\u001b[0m\n",
       "└── \u001b[1;33m📋 Task: f9d2676e-9e22-4117-ba10-93e967653e93\u001b[0m\n",
       "    \u001b[37m   Status: \u001b[0m\u001b[2;33mExecuting Task...\u001b[0m\n",
       "    └── \u001b[1;32m🤖 Agent: \u001b[0m\u001b[32mDoctor specialized in leprosy\u001b[0m\n",
       "        \u001b[37m    Status: \u001b[0m\u001b[1;32m✅ Completed\u001b[0m\n",
       "        └── \u001b[1;32m🔧 \u001b[0m\u001b[32mUsed Read website content (1)\u001b[0m\n"
      ]
     },
     "metadata": {},
     "output_type": "display_data"
    },
    {
     "data": {
      "text/html": [
       "<pre style=\"white-space:pre;overflow-x:auto;line-height:normal;font-family:Menlo,'DejaVu Sans Mono',consolas,'Courier New',monospace\">\n",
       "</pre>\n"
      ],
      "text/plain": [
       "\n"
      ]
     },
     "metadata": {},
     "output_type": "display_data"
    },
    {
     "data": {
      "text/html": [
       "<pre style=\"white-space:pre;overflow-x:auto;line-height:normal;font-family:Menlo,'DejaVu Sans Mono',consolas,'Courier New',monospace\"><span style=\"color: #008080; text-decoration-color: #008080; font-weight: bold\">🚀 Crew: crew</span>\n",
       "└── <span style=\"color: #008000; text-decoration-color: #008000; font-weight: bold\">📋 Task: f9d2676e-9e22-4117-ba10-93e967653e93</span>\n",
       "    <span style=\"color: #c0c0c0; text-decoration-color: #c0c0c0\">   Assigned to: </span><span style=\"color: #008000; text-decoration-color: #008000\">Doctor specialized in leprosy</span>\n",
       "    <span style=\"color: #c0c0c0; text-decoration-color: #c0c0c0\">   Status: </span><span style=\"color: #008000; text-decoration-color: #008000; font-weight: bold\">✅ Completed</span>\n",
       "    └── <span style=\"color: #008000; text-decoration-color: #008000; font-weight: bold\">🤖 Agent: </span><span style=\"color: #008000; text-decoration-color: #008000\">Doctor specialized in leprosy</span>\n",
       "        <span style=\"color: #c0c0c0; text-decoration-color: #c0c0c0\">    Status: </span><span style=\"color: #008000; text-decoration-color: #008000; font-weight: bold\">✅ Completed</span>\n",
       "        └── <span style=\"color: #008000; text-decoration-color: #008000; font-weight: bold\">🔧 </span><span style=\"color: #008000; text-decoration-color: #008000\">Used Read website content (1)</span>\n",
       "</pre>\n"
      ],
      "text/plain": [
       "\u001b[1;36m🚀 Crew: \u001b[0m\u001b[1;36mcrew\u001b[0m\n",
       "└── \u001b[1;32m📋 Task: f9d2676e-9e22-4117-ba10-93e967653e93\u001b[0m\n",
       "    \u001b[37m   Assigned to: \u001b[0m\u001b[32mDoctor specialized in leprosy\u001b[0m\n",
       "    \u001b[37m   Status: \u001b[0m\u001b[1;32m✅ Completed\u001b[0m\n",
       "    └── \u001b[1;32m🤖 Agent: \u001b[0m\u001b[32mDoctor specialized in leprosy\u001b[0m\n",
       "        \u001b[37m    Status: \u001b[0m\u001b[1;32m✅ Completed\u001b[0m\n",
       "        └── \u001b[1;32m🔧 \u001b[0m\u001b[32mUsed Read website content (1)\u001b[0m\n"
      ]
     },
     "metadata": {},
     "output_type": "display_data"
    },
    {
     "data": {
      "text/html": [
       "<pre style=\"white-space:pre;overflow-x:auto;line-height:normal;font-family:Menlo,'DejaVu Sans Mono',consolas,'Courier New',monospace\"><span style=\"color: #008000; text-decoration-color: #008000\">╭──────────────────────────────────────────────── Task Completion ────────────────────────────────────────────────╮</span>\n",
       "<span style=\"color: #008000; text-decoration-color: #008000\">│</span>                                                                                                                 <span style=\"color: #008000; text-decoration-color: #008000\">│</span>\n",
       "<span style=\"color: #008000; text-decoration-color: #008000\">│</span>  <span style=\"color: #008000; text-decoration-color: #008000; font-weight: bold\">Task Completed</span>                                                                                                 <span style=\"color: #008000; text-decoration-color: #008000\">│</span>\n",
       "<span style=\"color: #008000; text-decoration-color: #008000\">│</span>  <span style=\"color: #c0c0c0; text-decoration-color: #c0c0c0\">Name: </span><span style=\"color: #008000; text-decoration-color: #008000\">f9d2676e-9e22-4117-ba10-93e967653e93</span>                                                                     <span style=\"color: #008000; text-decoration-color: #008000\">│</span>\n",
       "<span style=\"color: #008000; text-decoration-color: #008000\">│</span>  <span style=\"color: #c0c0c0; text-decoration-color: #c0c0c0\">Agent: </span><span style=\"color: #008000; text-decoration-color: #008000\">Doctor specialized in leprosy</span>                                                                           <span style=\"color: #008000; text-decoration-color: #008000\">│</span>\n",
       "<span style=\"color: #008000; text-decoration-color: #008000\">│</span>                                                                                                                 <span style=\"color: #008000; text-decoration-color: #008000\">│</span>\n",
       "<span style=\"color: #008000; text-decoration-color: #008000\">│</span>                                                                                                                 <span style=\"color: #008000; text-decoration-color: #008000\">│</span>\n",
       "<span style=\"color: #008000; text-decoration-color: #008000\">╰─────────────────────────────────────────────────────────────────────────────────────────────────────────────────╯</span>\n",
       "</pre>\n"
      ],
      "text/plain": [
       "\u001b[32m╭─\u001b[0m\u001b[32m───────────────────────────────────────────────\u001b[0m\u001b[32m Task Completion \u001b[0m\u001b[32m───────────────────────────────────────────────\u001b[0m\u001b[32m─╮\u001b[0m\n",
       "\u001b[32m│\u001b[0m                                                                                                                 \u001b[32m│\u001b[0m\n",
       "\u001b[32m│\u001b[0m  \u001b[1;32mTask Completed\u001b[0m                                                                                                 \u001b[32m│\u001b[0m\n",
       "\u001b[32m│\u001b[0m  \u001b[37mName: \u001b[0m\u001b[32mf9d2676e-9e22-4117-ba10-93e967653e93\u001b[0m                                                                     \u001b[32m│\u001b[0m\n",
       "\u001b[32m│\u001b[0m  \u001b[37mAgent: \u001b[0m\u001b[32mDoctor specialized in leprosy\u001b[0m                                                                           \u001b[32m│\u001b[0m\n",
       "\u001b[32m│\u001b[0m                                                                                                                 \u001b[32m│\u001b[0m\n",
       "\u001b[32m│\u001b[0m                                                                                                                 \u001b[32m│\u001b[0m\n",
       "\u001b[32m╰─────────────────────────────────────────────────────────────────────────────────────────────────────────────────╯\u001b[0m\n"
      ]
     },
     "metadata": {},
     "output_type": "display_data"
    },
    {
     "data": {
      "text/html": [
       "<pre style=\"white-space:pre;overflow-x:auto;line-height:normal;font-family:Menlo,'DejaVu Sans Mono',consolas,'Courier New',monospace\">\n",
       "</pre>\n"
      ],
      "text/plain": [
       "\n"
      ]
     },
     "metadata": {},
     "output_type": "display_data"
    },
    {
     "data": {
      "text/html": [
       "<pre style=\"white-space:pre;overflow-x:auto;line-height:normal;font-family:Menlo,'DejaVu Sans Mono',consolas,'Courier New',monospace\"><span style=\"color: #008080; text-decoration-color: #008080; font-weight: bold\">🚀 Crew: crew</span>\n",
       "├── <span style=\"color: #008000; text-decoration-color: #008000; font-weight: bold\">📋 Task: f9d2676e-9e22-4117-ba10-93e967653e93</span>\n",
       "│   <span style=\"color: #c0c0c0; text-decoration-color: #c0c0c0\">   Assigned to: </span><span style=\"color: #008000; text-decoration-color: #008000\">Doctor specialized in leprosy</span>\n",
       "│   <span style=\"color: #c0c0c0; text-decoration-color: #c0c0c0\">   Status: </span><span style=\"color: #008000; text-decoration-color: #008000; font-weight: bold\">✅ Completed</span>\n",
       "│   └── <span style=\"color: #008000; text-decoration-color: #008000; font-weight: bold\">🤖 Agent: </span><span style=\"color: #008000; text-decoration-color: #008000\">Doctor specialized in leprosy</span>\n",
       "│       <span style=\"color: #c0c0c0; text-decoration-color: #c0c0c0\">    Status: </span><span style=\"color: #008000; text-decoration-color: #008000; font-weight: bold\">✅ Completed</span>\n",
       "│       └── <span style=\"color: #008000; text-decoration-color: #008000; font-weight: bold\">🔧 </span><span style=\"color: #008000; text-decoration-color: #008000\">Used Read website content (1)</span>\n",
       "└── <span style=\"color: #808000; text-decoration-color: #808000; font-weight: bold\">📋 Task: 115e9a35-9974-40f9-93b4-ec657b352b4e</span>\n",
       "    <span style=\"color: #c0c0c0; text-decoration-color: #c0c0c0\">   Status: </span><span style=\"color: #bfbf7f; text-decoration-color: #bfbf7f\">Executing Task...</span>\n",
       "</pre>\n"
      ],
      "text/plain": [
       "\u001b[1;36m🚀 Crew: \u001b[0m\u001b[1;36mcrew\u001b[0m\n",
       "├── \u001b[1;32m📋 Task: f9d2676e-9e22-4117-ba10-93e967653e93\u001b[0m\n",
       "│   \u001b[37m   Assigned to: \u001b[0m\u001b[32mDoctor specialized in leprosy\u001b[0m\n",
       "│   \u001b[37m   Status: \u001b[0m\u001b[1;32m✅ Completed\u001b[0m\n",
       "│   └── \u001b[1;32m🤖 Agent: \u001b[0m\u001b[32mDoctor specialized in leprosy\u001b[0m\n",
       "│       \u001b[37m    Status: \u001b[0m\u001b[1;32m✅ Completed\u001b[0m\n",
       "│       └── \u001b[1;32m🔧 \u001b[0m\u001b[32mUsed Read website content (1)\u001b[0m\n",
       "└── \u001b[1;33m📋 Task: 115e9a35-9974-40f9-93b4-ec657b352b4e\u001b[0m\n",
       "    \u001b[37m   Status: \u001b[0m\u001b[2;33mExecuting Task...\u001b[0m\n"
      ]
     },
     "metadata": {},
     "output_type": "display_data"
    },
    {
     "data": {
      "text/html": [
       "<pre style=\"white-space:pre;overflow-x:auto;line-height:normal;font-family:Menlo,'DejaVu Sans Mono',consolas,'Courier New',monospace\">\n",
       "</pre>\n"
      ],
      "text/plain": [
       "\n"
      ]
     },
     "metadata": {},
     "output_type": "display_data"
    },
    {
     "data": {
      "text/html": [
       "<pre style=\"white-space:pre;overflow-x:auto;line-height:normal;font-family:Menlo,'DejaVu Sans Mono',consolas,'Courier New',monospace\"><span style=\"color: #008080; text-decoration-color: #008080; font-weight: bold\">🚀 Crew: crew</span>\n",
       "├── <span style=\"color: #008000; text-decoration-color: #008000; font-weight: bold\">📋 Task: f9d2676e-9e22-4117-ba10-93e967653e93</span>\n",
       "│   <span style=\"color: #c0c0c0; text-decoration-color: #c0c0c0\">   Assigned to: </span><span style=\"color: #008000; text-decoration-color: #008000\">Doctor specialized in leprosy</span>\n",
       "│   <span style=\"color: #c0c0c0; text-decoration-color: #c0c0c0\">   Status: </span><span style=\"color: #008000; text-decoration-color: #008000; font-weight: bold\">✅ Completed</span>\n",
       "│   └── <span style=\"color: #008000; text-decoration-color: #008000; font-weight: bold\">🤖 Agent: </span><span style=\"color: #008000; text-decoration-color: #008000\">Doctor specialized in leprosy</span>\n",
       "│       <span style=\"color: #c0c0c0; text-decoration-color: #c0c0c0\">    Status: </span><span style=\"color: #008000; text-decoration-color: #008000; font-weight: bold\">✅ Completed</span>\n",
       "│       └── <span style=\"color: #008000; text-decoration-color: #008000; font-weight: bold\">🔧 </span><span style=\"color: #008000; text-decoration-color: #008000\">Used Read website content (1)</span>\n",
       "└── <span style=\"color: #808000; text-decoration-color: #808000; font-weight: bold\">📋 Task: 115e9a35-9974-40f9-93b4-ec657b352b4e</span>\n",
       "    <span style=\"color: #c0c0c0; text-decoration-color: #c0c0c0\">   Status: </span><span style=\"color: #bfbf7f; text-decoration-color: #bfbf7f\">Executing Task...</span>\n",
       "    └── <span style=\"color: #008000; text-decoration-color: #008000; font-weight: bold\">🤖 Agent: </span><span style=\"color: #008000; text-decoration-color: #008000\">Doctor Quality Assurance Specialist</span>\n",
       "        <span style=\"color: #c0c0c0; text-decoration-color: #c0c0c0\">    Status: </span><span style=\"color: #008000; text-decoration-color: #008000; font-weight: bold\">In Progress</span>\n",
       "</pre>\n"
      ],
      "text/plain": [
       "\u001b[1;36m🚀 Crew: \u001b[0m\u001b[1;36mcrew\u001b[0m\n",
       "├── \u001b[1;32m📋 Task: f9d2676e-9e22-4117-ba10-93e967653e93\u001b[0m\n",
       "│   \u001b[37m   Assigned to: \u001b[0m\u001b[32mDoctor specialized in leprosy\u001b[0m\n",
       "│   \u001b[37m   Status: \u001b[0m\u001b[1;32m✅ Completed\u001b[0m\n",
       "│   └── \u001b[1;32m🤖 Agent: \u001b[0m\u001b[32mDoctor specialized in leprosy\u001b[0m\n",
       "│       \u001b[37m    Status: \u001b[0m\u001b[1;32m✅ Completed\u001b[0m\n",
       "│       └── \u001b[1;32m🔧 \u001b[0m\u001b[32mUsed Read website content (1)\u001b[0m\n",
       "└── \u001b[1;33m📋 Task: 115e9a35-9974-40f9-93b4-ec657b352b4e\u001b[0m\n",
       "    \u001b[37m   Status: \u001b[0m\u001b[2;33mExecuting Task...\u001b[0m\n",
       "    └── \u001b[1;32m🤖 Agent: \u001b[0m\u001b[32mDoctor Quality Assurance Specialist\u001b[0m\n",
       "        \u001b[37m    Status: \u001b[0m\u001b[1;32mIn Progress\u001b[0m\n"
      ]
     },
     "metadata": {},
     "output_type": "display_data"
    },
    {
     "data": {
      "text/html": [
       "<pre style=\"white-space:pre;overflow-x:auto;line-height:normal;font-family:Menlo,'DejaVu Sans Mono',consolas,'Courier New',monospace\">\n",
       "</pre>\n"
      ],
      "text/plain": [
       "\n"
      ]
     },
     "metadata": {},
     "output_type": "display_data"
    },
    {
     "name": "stdout",
     "output_type": "stream",
     "text": [
      "\u001b[1m\u001b[95m# Agent:\u001b[00m \u001b[1m\u001b[92mDoctor Quality Assurance Specialist\u001b[00m\n",
      "\u001b[95m## Task:\u001b[00m \u001b[92mReview the response drafted by the Doctor Quality Assurance SpecialistEnsure that the answer is comprehensive, accurate, and adheres to thehigh-quality standards expected for patient answer.\n",
      "Verify that all parts of the patient's ask have been addressed thoroughly, with a helful and friendly tone.\n",
      "Check for references and sources used to find the information,ensuring the response is well-supported and leaves no questions unansweredYou can return the document prepared by the doctor if you don't find it to be of sufficient quality.\u001b[00m\n"
     ]
    },
    {
     "data": {
      "text/html": [
       "<pre style=\"white-space:pre;overflow-x:auto;line-height:normal;font-family:Menlo,'DejaVu Sans Mono',consolas,'Courier New',monospace\"><span style=\"color: #008080; text-decoration-color: #008080; font-weight: bold\">🚀 Crew: crew</span>\n",
       "├── <span style=\"color: #008000; text-decoration-color: #008000; font-weight: bold\">📋 Task: f9d2676e-9e22-4117-ba10-93e967653e93</span>\n",
       "│   <span style=\"color: #c0c0c0; text-decoration-color: #c0c0c0\">   Assigned to: </span><span style=\"color: #008000; text-decoration-color: #008000\">Doctor specialized in leprosy</span>\n",
       "│   <span style=\"color: #c0c0c0; text-decoration-color: #c0c0c0\">   Status: </span><span style=\"color: #008000; text-decoration-color: #008000; font-weight: bold\">✅ Completed</span>\n",
       "│   └── <span style=\"color: #008000; text-decoration-color: #008000; font-weight: bold\">🤖 Agent: </span><span style=\"color: #008000; text-decoration-color: #008000\">Doctor specialized in leprosy</span>\n",
       "│       <span style=\"color: #c0c0c0; text-decoration-color: #c0c0c0\">    Status: </span><span style=\"color: #008000; text-decoration-color: #008000; font-weight: bold\">✅ Completed</span>\n",
       "│       └── <span style=\"color: #008000; text-decoration-color: #008000; font-weight: bold\">🔧 </span><span style=\"color: #008000; text-decoration-color: #008000\">Used Read website content (1)</span>\n",
       "└── <span style=\"color: #808000; text-decoration-color: #808000; font-weight: bold\">📋 Task: 115e9a35-9974-40f9-93b4-ec657b352b4e</span>\n",
       "    <span style=\"color: #c0c0c0; text-decoration-color: #c0c0c0\">   Status: </span><span style=\"color: #bfbf7f; text-decoration-color: #bfbf7f\">Executing Task...</span>\n",
       "    └── <span style=\"color: #008000; text-decoration-color: #008000; font-weight: bold\">🤖 Agent: </span><span style=\"color: #008000; text-decoration-color: #008000\">Doctor Quality Assurance Specialist</span>\n",
       "        <span style=\"color: #c0c0c0; text-decoration-color: #c0c0c0\">    Status: </span><span style=\"color: #008000; text-decoration-color: #008000; font-weight: bold\">In Progress</span>\n",
       "        └── <span style=\"color: #000080; text-decoration-color: #000080; font-weight: bold\">🧠 </span><span style=\"color: #000080; text-decoration-color: #000080\">Thinking...</span>\n",
       "</pre>\n"
      ],
      "text/plain": [
       "\u001b[1;36m🚀 Crew: \u001b[0m\u001b[1;36mcrew\u001b[0m\n",
       "├── \u001b[1;32m📋 Task: f9d2676e-9e22-4117-ba10-93e967653e93\u001b[0m\n",
       "│   \u001b[37m   Assigned to: \u001b[0m\u001b[32mDoctor specialized in leprosy\u001b[0m\n",
       "│   \u001b[37m   Status: \u001b[0m\u001b[1;32m✅ Completed\u001b[0m\n",
       "│   └── \u001b[1;32m🤖 Agent: \u001b[0m\u001b[32mDoctor specialized in leprosy\u001b[0m\n",
       "│       \u001b[37m    Status: \u001b[0m\u001b[1;32m✅ Completed\u001b[0m\n",
       "│       └── \u001b[1;32m🔧 \u001b[0m\u001b[32mUsed Read website content (1)\u001b[0m\n",
       "└── \u001b[1;33m📋 Task: 115e9a35-9974-40f9-93b4-ec657b352b4e\u001b[0m\n",
       "    \u001b[37m   Status: \u001b[0m\u001b[2;33mExecuting Task...\u001b[0m\n",
       "    └── \u001b[1;32m🤖 Agent: \u001b[0m\u001b[32mDoctor Quality Assurance Specialist\u001b[0m\n",
       "        \u001b[37m    Status: \u001b[0m\u001b[1;32mIn Progress\u001b[0m\n",
       "        └── \u001b[1;34m🧠 \u001b[0m\u001b[34mThinking...\u001b[0m\n"
      ]
     },
     "metadata": {},
     "output_type": "display_data"
    },
    {
     "data": {
      "text/html": [
       "<pre style=\"white-space:pre;overflow-x:auto;line-height:normal;font-family:Menlo,'DejaVu Sans Mono',consolas,'Courier New',monospace\">\n",
       "</pre>\n"
      ],
      "text/plain": [
       "\n"
      ]
     },
     "metadata": {},
     "output_type": "display_data"
    },
    {
     "data": {
      "text/html": [
       "<pre style=\"white-space:pre;overflow-x:auto;line-height:normal;font-family:Menlo,'DejaVu Sans Mono',consolas,'Courier New',monospace\"><span style=\"color: #008080; text-decoration-color: #008080; font-weight: bold\">🚀 Crew: crew</span>\n",
       "├── <span style=\"color: #008000; text-decoration-color: #008000; font-weight: bold\">📋 Task: f9d2676e-9e22-4117-ba10-93e967653e93</span>\n",
       "│   <span style=\"color: #c0c0c0; text-decoration-color: #c0c0c0\">   Assigned to: </span><span style=\"color: #008000; text-decoration-color: #008000\">Doctor specialized in leprosy</span>\n",
       "│   <span style=\"color: #c0c0c0; text-decoration-color: #c0c0c0\">   Status: </span><span style=\"color: #008000; text-decoration-color: #008000; font-weight: bold\">✅ Completed</span>\n",
       "│   └── <span style=\"color: #008000; text-decoration-color: #008000; font-weight: bold\">🤖 Agent: </span><span style=\"color: #008000; text-decoration-color: #008000\">Doctor specialized in leprosy</span>\n",
       "│       <span style=\"color: #c0c0c0; text-decoration-color: #c0c0c0\">    Status: </span><span style=\"color: #008000; text-decoration-color: #008000; font-weight: bold\">✅ Completed</span>\n",
       "│       └── <span style=\"color: #008000; text-decoration-color: #008000; font-weight: bold\">🔧 </span><span style=\"color: #008000; text-decoration-color: #008000\">Used Read website content (1)</span>\n",
       "└── <span style=\"color: #808000; text-decoration-color: #808000; font-weight: bold\">📋 Task: 115e9a35-9974-40f9-93b4-ec657b352b4e</span>\n",
       "    <span style=\"color: #c0c0c0; text-decoration-color: #c0c0c0\">   Status: </span><span style=\"color: #bfbf7f; text-decoration-color: #bfbf7f\">Executing Task...</span>\n",
       "    └── <span style=\"color: #008000; text-decoration-color: #008000; font-weight: bold\">🤖 Agent: </span><span style=\"color: #008000; text-decoration-color: #008000\">Doctor Quality Assurance Specialist</span>\n",
       "        <span style=\"color: #c0c0c0; text-decoration-color: #c0c0c0\">    Status: </span><span style=\"color: #008000; text-decoration-color: #008000; font-weight: bold\">In Progress</span>\n",
       "</pre>\n"
      ],
      "text/plain": [
       "\u001b[1;36m🚀 Crew: \u001b[0m\u001b[1;36mcrew\u001b[0m\n",
       "├── \u001b[1;32m📋 Task: f9d2676e-9e22-4117-ba10-93e967653e93\u001b[0m\n",
       "│   \u001b[37m   Assigned to: \u001b[0m\u001b[32mDoctor specialized in leprosy\u001b[0m\n",
       "│   \u001b[37m   Status: \u001b[0m\u001b[1;32m✅ Completed\u001b[0m\n",
       "│   └── \u001b[1;32m🤖 Agent: \u001b[0m\u001b[32mDoctor specialized in leprosy\u001b[0m\n",
       "│       \u001b[37m    Status: \u001b[0m\u001b[1;32m✅ Completed\u001b[0m\n",
       "│       └── \u001b[1;32m🔧 \u001b[0m\u001b[32mUsed Read website content (1)\u001b[0m\n",
       "└── \u001b[1;33m📋 Task: 115e9a35-9974-40f9-93b4-ec657b352b4e\u001b[0m\n",
       "    \u001b[37m   Status: \u001b[0m\u001b[2;33mExecuting Task...\u001b[0m\n",
       "    └── \u001b[1;32m🤖 Agent: \u001b[0m\u001b[32mDoctor Quality Assurance Specialist\u001b[0m\n",
       "        \u001b[37m    Status: \u001b[0m\u001b[1;32mIn Progress\u001b[0m\n"
      ]
     },
     "metadata": {},
     "output_type": "display_data"
    },
    {
     "data": {
      "text/html": [
       "<pre style=\"white-space:pre;overflow-x:auto;line-height:normal;font-family:Menlo,'DejaVu Sans Mono',consolas,'Courier New',monospace\">\n",
       "</pre>\n"
      ],
      "text/plain": [
       "\n"
      ]
     },
     "metadata": {},
     "output_type": "display_data"
    },
    {
     "data": {
      "text/html": [
       "<pre style=\"white-space:pre;overflow-x:auto;line-height:normal;font-family:Menlo,'DejaVu Sans Mono',consolas,'Courier New',monospace\"><span style=\"color: #008080; text-decoration-color: #008080; font-weight: bold\">🚀 Crew: crew</span>\n",
       "├── <span style=\"color: #008000; text-decoration-color: #008000; font-weight: bold\">📋 Task: f9d2676e-9e22-4117-ba10-93e967653e93</span>\n",
       "│   <span style=\"color: #c0c0c0; text-decoration-color: #c0c0c0\">   Assigned to: </span><span style=\"color: #008000; text-decoration-color: #008000\">Doctor specialized in leprosy</span>\n",
       "│   <span style=\"color: #c0c0c0; text-decoration-color: #c0c0c0\">   Status: </span><span style=\"color: #008000; text-decoration-color: #008000; font-weight: bold\">✅ Completed</span>\n",
       "│   └── <span style=\"color: #008000; text-decoration-color: #008000; font-weight: bold\">🤖 Agent: </span><span style=\"color: #008000; text-decoration-color: #008000\">Doctor specialized in leprosy</span>\n",
       "│       <span style=\"color: #c0c0c0; text-decoration-color: #c0c0c0\">    Status: </span><span style=\"color: #008000; text-decoration-color: #008000; font-weight: bold\">✅ Completed</span>\n",
       "│       └── <span style=\"color: #008000; text-decoration-color: #008000; font-weight: bold\">🔧 </span><span style=\"color: #008000; text-decoration-color: #008000\">Used Read website content (1)</span>\n",
       "└── <span style=\"color: #808000; text-decoration-color: #808000; font-weight: bold\">📋 Task: 115e9a35-9974-40f9-93b4-ec657b352b4e</span>\n",
       "    <span style=\"color: #c0c0c0; text-decoration-color: #c0c0c0\">   Status: </span><span style=\"color: #bfbf7f; text-decoration-color: #bfbf7f\">Executing Task...</span>\n",
       "    └── <span style=\"color: #008000; text-decoration-color: #008000; font-weight: bold\">🤖 Agent: </span><span style=\"color: #008000; text-decoration-color: #008000\">Doctor Quality Assurance Specialist</span>\n",
       "        <span style=\"color: #c0c0c0; text-decoration-color: #c0c0c0\">    Status: </span><span style=\"color: #008000; text-decoration-color: #008000; font-weight: bold\">In Progress</span>\n",
       "        └── <span style=\"color: #808000; text-decoration-color: #808000; font-weight: bold\">🔧 </span><span style=\"color: #808000; text-decoration-color: #808000\">Using Search in a specific website (2)</span>\n",
       "</pre>\n"
      ],
      "text/plain": [
       "\u001b[1;36m🚀 Crew: \u001b[0m\u001b[1;36mcrew\u001b[0m\n",
       "├── \u001b[1;32m📋 Task: f9d2676e-9e22-4117-ba10-93e967653e93\u001b[0m\n",
       "│   \u001b[37m   Assigned to: \u001b[0m\u001b[32mDoctor specialized in leprosy\u001b[0m\n",
       "│   \u001b[37m   Status: \u001b[0m\u001b[1;32m✅ Completed\u001b[0m\n",
       "│   └── \u001b[1;32m🤖 Agent: \u001b[0m\u001b[32mDoctor specialized in leprosy\u001b[0m\n",
       "│       \u001b[37m    Status: \u001b[0m\u001b[1;32m✅ Completed\u001b[0m\n",
       "│       └── \u001b[1;32m🔧 \u001b[0m\u001b[32mUsed Read website content (1)\u001b[0m\n",
       "└── \u001b[1;33m📋 Task: 115e9a35-9974-40f9-93b4-ec657b352b4e\u001b[0m\n",
       "    \u001b[37m   Status: \u001b[0m\u001b[2;33mExecuting Task...\u001b[0m\n",
       "    └── \u001b[1;32m🤖 Agent: \u001b[0m\u001b[32mDoctor Quality Assurance Specialist\u001b[0m\n",
       "        \u001b[37m    Status: \u001b[0m\u001b[1;32mIn Progress\u001b[0m\n",
       "        └── \u001b[1;33m🔧 \u001b[0m\u001b[33mUsing Search in a specific website (2)\u001b[0m\n"
      ]
     },
     "metadata": {},
     "output_type": "display_data"
    },
    {
     "data": {
      "text/html": [
       "<pre style=\"white-space:pre;overflow-x:auto;line-height:normal;font-family:Menlo,'DejaVu Sans Mono',consolas,'Courier New',monospace\">\n",
       "</pre>\n"
      ],
      "text/plain": [
       "\n"
      ]
     },
     "metadata": {},
     "output_type": "display_data"
    },
    {
     "name": "stderr",
     "output_type": "stream",
     "text": [
      "2025-03-22 00:44:00,659 - 18648 - local_persistent_hnsw.py-local_persistent_hnsw:423 - WARNING: Number of requested results 3 is greater than number of elements in index 2, updating n_results = 2\n"
     ]
    },
    {
     "data": {
      "text/html": [
       "<pre style=\"white-space:pre;overflow-x:auto;line-height:normal;font-family:Menlo,'DejaVu Sans Mono',consolas,'Courier New',monospace\"><span style=\"color: #008080; text-decoration-color: #008080; font-weight: bold\">🚀 Crew: crew</span>\n",
       "├── <span style=\"color: #008000; text-decoration-color: #008000; font-weight: bold\">📋 Task: f9d2676e-9e22-4117-ba10-93e967653e93</span>\n",
       "│   <span style=\"color: #c0c0c0; text-decoration-color: #c0c0c0\">   Assigned to: </span><span style=\"color: #008000; text-decoration-color: #008000\">Doctor specialized in leprosy</span>\n",
       "│   <span style=\"color: #c0c0c0; text-decoration-color: #c0c0c0\">   Status: </span><span style=\"color: #008000; text-decoration-color: #008000; font-weight: bold\">✅ Completed</span>\n",
       "│   └── <span style=\"color: #008000; text-decoration-color: #008000; font-weight: bold\">🤖 Agent: </span><span style=\"color: #008000; text-decoration-color: #008000\">Doctor specialized in leprosy</span>\n",
       "│       <span style=\"color: #c0c0c0; text-decoration-color: #c0c0c0\">    Status: </span><span style=\"color: #008000; text-decoration-color: #008000; font-weight: bold\">✅ Completed</span>\n",
       "│       └── <span style=\"color: #008000; text-decoration-color: #008000; font-weight: bold\">🔧 </span><span style=\"color: #008000; text-decoration-color: #008000\">Used Read website content (1)</span>\n",
       "└── <span style=\"color: #808000; text-decoration-color: #808000; font-weight: bold\">📋 Task: 115e9a35-9974-40f9-93b4-ec657b352b4e</span>\n",
       "    <span style=\"color: #c0c0c0; text-decoration-color: #c0c0c0\">   Status: </span><span style=\"color: #bfbf7f; text-decoration-color: #bfbf7f\">Executing Task...</span>\n",
       "    └── <span style=\"color: #008000; text-decoration-color: #008000; font-weight: bold\">🤖 Agent: </span><span style=\"color: #008000; text-decoration-color: #008000\">Doctor Quality Assurance Specialist</span>\n",
       "        <span style=\"color: #c0c0c0; text-decoration-color: #c0c0c0\">    Status: </span><span style=\"color: #008000; text-decoration-color: #008000; font-weight: bold\">In Progress</span>\n",
       "        └── <span style=\"color: #008000; text-decoration-color: #008000; font-weight: bold\">🔧 </span><span style=\"color: #008000; text-decoration-color: #008000\">Used Search in a specific website (2)</span>\n",
       "</pre>\n"
      ],
      "text/plain": [
       "\u001b[1;36m🚀 Crew: \u001b[0m\u001b[1;36mcrew\u001b[0m\n",
       "├── \u001b[1;32m📋 Task: f9d2676e-9e22-4117-ba10-93e967653e93\u001b[0m\n",
       "│   \u001b[37m   Assigned to: \u001b[0m\u001b[32mDoctor specialized in leprosy\u001b[0m\n",
       "│   \u001b[37m   Status: \u001b[0m\u001b[1;32m✅ Completed\u001b[0m\n",
       "│   └── \u001b[1;32m🤖 Agent: \u001b[0m\u001b[32mDoctor specialized in leprosy\u001b[0m\n",
       "│       \u001b[37m    Status: \u001b[0m\u001b[1;32m✅ Completed\u001b[0m\n",
       "│       └── \u001b[1;32m🔧 \u001b[0m\u001b[32mUsed Read website content (1)\u001b[0m\n",
       "└── \u001b[1;33m📋 Task: 115e9a35-9974-40f9-93b4-ec657b352b4e\u001b[0m\n",
       "    \u001b[37m   Status: \u001b[0m\u001b[2;33mExecuting Task...\u001b[0m\n",
       "    └── \u001b[1;32m🤖 Agent: \u001b[0m\u001b[32mDoctor Quality Assurance Specialist\u001b[0m\n",
       "        \u001b[37m    Status: \u001b[0m\u001b[1;32mIn Progress\u001b[0m\n",
       "        └── \u001b[1;32m🔧 \u001b[0m\u001b[32mUsed Search in a specific website (2)\u001b[0m\n"
      ]
     },
     "metadata": {},
     "output_type": "display_data"
    },
    {
     "data": {
      "text/html": [
       "<pre style=\"white-space:pre;overflow-x:auto;line-height:normal;font-family:Menlo,'DejaVu Sans Mono',consolas,'Courier New',monospace\">\n",
       "</pre>\n"
      ],
      "text/plain": [
       "\n"
      ]
     },
     "metadata": {},
     "output_type": "display_data"
    },
    {
     "name": "stdout",
     "output_type": "stream",
     "text": [
      "\n",
      "\n",
      "\u001b[1m\u001b[95m# Agent:\u001b[00m \u001b[1m\u001b[92mDoctor Quality Assurance Specialist\u001b[00m\n",
      "\u001b[95m## Using tool:\u001b[00m \u001b[92mSearch in a specific website\u001b[00m\n",
      "\u001b[95m## Tool Input:\u001b[00m \u001b[92m\n",
      "\"{\\\"search_query\\\": \\\"Hansen's disease care and precautions for patients\\\", \\\"website\\\": \\\"https://www.saude.gov.br/saude-de-a-z/hanseniase\\\"}\"\u001b[00m\n",
      "\u001b[95m## Tool Output:\u001b[00m \u001b[92m\n",
      "Relevant Content:\n",
      "Ministério da Saúde Serviços recomendados para você Serviços mais acessados do govbr Serviços em destaque do govbr Serviços recomendados para você Serviços mais acessados do govbr Serviços em destaque do govbr Serviços mais acessados do govbr Serviços em destaque do govbr Serviços recomendados para você Serviços mais acessados do govbr 1 Consultar CPF 2 Assinatura Eletrônica 3 Consultar CNPJ 4 Consultar Meu Imposto de Renda 5 Obter a Carteira de Trabalho 6 Consultar dados do Cadastro Único Serviços em destaque do govbr Para o cidadão Receber o Abono Salarial Imposto de Renda e Malha Fiscal Entregar Meu Imposto de Renda (DIRPF) Proteção Social Denunciar violações aos direitos das mulheres (Ligue 180) Acesso Obter financiamento FIES Permanência Inscrever-se no SISU (Sistema de Seleção Unificada) (SISU) Info VACINA INFLUENZA Ministério da Saúde começa a distribuir 35 milhões de doses da vacina contra a gripe Saiba mais sobre VACINA INFLUENZA HOSPITAL UNIVERSITÁRIO DO CEARÁ Inaugurado por Lula e Padilha, HUC conta com modelo de cuidado integral ginecológico Saiba mais sobre HOSPITAL UNIVERSITÁRIO DO CEARÁ ATENÇÃO PRIMÁRIA Ministério anuncia expansão do Mais Médicos e integração com atendimento especializado Saiba mais sobre ATENÇÃO PRIMÁRIA MAIS ASSISTÊNCIA Governo entrega 789 ambulâncias para renovar e ampliar a frota do SAMU Saiba mais sobre MAIS ASSISTÊNCIA MENOR TEMPO DE ESPERA No Ceará, Governo implanta pacote de ações para reduzir filas MENOR TEMPO DE ESPERA Pasta anuncia mutirão de cirurgias e exames no Rio Grande do Sul MENOR TEMPO DE ESPERA Saúde e Ebserh: parceria para reduzir tempo de espera no SUS COOPERAÇÃO INTERNACIONAL Brasil firma acordo com São Tomé e Príncipe para fortalecer saúde É o primeiro acordo internacional firmado pelo ministro Alexandre Padilha nesta gestão. Memorando também prevê colaboração em recursos técnicos SAÚDE INDÍGENA Unidade Básica de Saúde Indígena é reinaugurada em Altamira (PA) Unidade beneficia cerca de 100 indígenas das aldeias\n",
      "\n",
      "Miratu, Pupekury e outras comunidades. Mais 30 equipamentos de saúde serão reformadas na região MARÇO - MÊS DA MULHER Novo PAC Saúde: mais cuidado e estrutura para as mulheres brasileiras Projetos de infraestrutura visam fortalecer a rede de saúde da mulher garantindo que cada brasileira tenha acesso a um atendimento digno Acesse mais notícias da saúde Acesse notícias para os estados Destaques Acesso Rápido Agenda de Autoridades Ações e Programas Balanço 2024 Boletins Epidemiológicos Campanhas da Saúde Distribuição de Vacina G20 Brasil Saúde Novo PAC Saúde Organograma Quem é Quem Retomada de obras da saúde Sala de Imprensa Saúde com Ciência Saúde sem Racismo Redes Sociais Acesse as Redes Sociais da Saúde 🤷‍♀️ O câncer do colo do útero é um tumor que se desenvolve na região inferior do útero e é causado por uma infecção persistente pelo papilomavírus humano (HPV). Saiba mais! 🧵⤵️ pic.twitter.com/OUGoox8FD5— Ministério da Saúde 🩵 (@minsaude) March 18, 2025 Ver essa foto no Instagram Uma publicação compartilhada por Ministério da Saúde (@minsaude) Secretarias Secretaria Executiva (SE) Atenção Primária (SAPS) Atenção Especializada à Saúde (SAES) Ciência e Tecnologia em Saúde (SECTICS) Saúde Digital (SEIDIGI) Saúde Indígena (SESAI) Vigilância em Saúde e Ambiente (SVSA) Trabalho e Educação na Saúde (SGTES) Ouvidoria Geral do SUS Teleatendente: de segunda-feira a sexta-feira, das 8h às 20h, e aos sábados, das 8h às 18h. Rejeitar Fale Agora Refazer a busca\u001b[00m\n"
     ]
    },
    {
     "data": {
      "text/html": [
       "<pre style=\"white-space:pre;overflow-x:auto;line-height:normal;font-family:Menlo,'DejaVu Sans Mono',consolas,'Courier New',monospace\"><span style=\"color: #008080; text-decoration-color: #008080; font-weight: bold\">🚀 Crew: crew</span>\n",
       "├── <span style=\"color: #008000; text-decoration-color: #008000; font-weight: bold\">📋 Task: f9d2676e-9e22-4117-ba10-93e967653e93</span>\n",
       "│   <span style=\"color: #c0c0c0; text-decoration-color: #c0c0c0\">   Assigned to: </span><span style=\"color: #008000; text-decoration-color: #008000\">Doctor specialized in leprosy</span>\n",
       "│   <span style=\"color: #c0c0c0; text-decoration-color: #c0c0c0\">   Status: </span><span style=\"color: #008000; text-decoration-color: #008000; font-weight: bold\">✅ Completed</span>\n",
       "│   └── <span style=\"color: #008000; text-decoration-color: #008000; font-weight: bold\">🤖 Agent: </span><span style=\"color: #008000; text-decoration-color: #008000\">Doctor specialized in leprosy</span>\n",
       "│       <span style=\"color: #c0c0c0; text-decoration-color: #c0c0c0\">    Status: </span><span style=\"color: #008000; text-decoration-color: #008000; font-weight: bold\">✅ Completed</span>\n",
       "│       └── <span style=\"color: #008000; text-decoration-color: #008000; font-weight: bold\">🔧 </span><span style=\"color: #008000; text-decoration-color: #008000\">Used Read website content (1)</span>\n",
       "└── <span style=\"color: #808000; text-decoration-color: #808000; font-weight: bold\">📋 Task: 115e9a35-9974-40f9-93b4-ec657b352b4e</span>\n",
       "    <span style=\"color: #c0c0c0; text-decoration-color: #c0c0c0\">   Status: </span><span style=\"color: #bfbf7f; text-decoration-color: #bfbf7f\">Executing Task...</span>\n",
       "    └── <span style=\"color: #008000; text-decoration-color: #008000; font-weight: bold\">🤖 Agent: </span><span style=\"color: #008000; text-decoration-color: #008000\">Doctor Quality Assurance Specialist</span>\n",
       "        <span style=\"color: #c0c0c0; text-decoration-color: #c0c0c0\">    Status: </span><span style=\"color: #008000; text-decoration-color: #008000; font-weight: bold\">In Progress</span>\n",
       "        ├── <span style=\"color: #008000; text-decoration-color: #008000; font-weight: bold\">🔧 </span><span style=\"color: #008000; text-decoration-color: #008000\">Used Search in a specific website (2)</span>\n",
       "        └── <span style=\"color: #000080; text-decoration-color: #000080; font-weight: bold\">🧠 </span><span style=\"color: #000080; text-decoration-color: #000080\">Thinking...</span>\n",
       "</pre>\n"
      ],
      "text/plain": [
       "\u001b[1;36m🚀 Crew: \u001b[0m\u001b[1;36mcrew\u001b[0m\n",
       "├── \u001b[1;32m📋 Task: f9d2676e-9e22-4117-ba10-93e967653e93\u001b[0m\n",
       "│   \u001b[37m   Assigned to: \u001b[0m\u001b[32mDoctor specialized in leprosy\u001b[0m\n",
       "│   \u001b[37m   Status: \u001b[0m\u001b[1;32m✅ Completed\u001b[0m\n",
       "│   └── \u001b[1;32m🤖 Agent: \u001b[0m\u001b[32mDoctor specialized in leprosy\u001b[0m\n",
       "│       \u001b[37m    Status: \u001b[0m\u001b[1;32m✅ Completed\u001b[0m\n",
       "│       └── \u001b[1;32m🔧 \u001b[0m\u001b[32mUsed Read website content (1)\u001b[0m\n",
       "└── \u001b[1;33m📋 Task: 115e9a35-9974-40f9-93b4-ec657b352b4e\u001b[0m\n",
       "    \u001b[37m   Status: \u001b[0m\u001b[2;33mExecuting Task...\u001b[0m\n",
       "    └── \u001b[1;32m🤖 Agent: \u001b[0m\u001b[32mDoctor Quality Assurance Specialist\u001b[0m\n",
       "        \u001b[37m    Status: \u001b[0m\u001b[1;32mIn Progress\u001b[0m\n",
       "        ├── \u001b[1;32m🔧 \u001b[0m\u001b[32mUsed Search in a specific website (2)\u001b[0m\n",
       "        └── \u001b[1;34m🧠 \u001b[0m\u001b[34mThinking...\u001b[0m\n"
      ]
     },
     "metadata": {},
     "output_type": "display_data"
    },
    {
     "data": {
      "text/html": [
       "<pre style=\"white-space:pre;overflow-x:auto;line-height:normal;font-family:Menlo,'DejaVu Sans Mono',consolas,'Courier New',monospace\">\n",
       "</pre>\n"
      ],
      "text/plain": [
       "\n"
      ]
     },
     "metadata": {},
     "output_type": "display_data"
    },
    {
     "data": {
      "text/html": [
       "<pre style=\"white-space:pre;overflow-x:auto;line-height:normal;font-family:Menlo,'DejaVu Sans Mono',consolas,'Courier New',monospace\"><span style=\"color: #008080; text-decoration-color: #008080; font-weight: bold\">🚀 Crew: crew</span>\n",
       "├── <span style=\"color: #008000; text-decoration-color: #008000; font-weight: bold\">📋 Task: f9d2676e-9e22-4117-ba10-93e967653e93</span>\n",
       "│   <span style=\"color: #c0c0c0; text-decoration-color: #c0c0c0\">   Assigned to: </span><span style=\"color: #008000; text-decoration-color: #008000\">Doctor specialized in leprosy</span>\n",
       "│   <span style=\"color: #c0c0c0; text-decoration-color: #c0c0c0\">   Status: </span><span style=\"color: #008000; text-decoration-color: #008000; font-weight: bold\">✅ Completed</span>\n",
       "│   └── <span style=\"color: #008000; text-decoration-color: #008000; font-weight: bold\">🤖 Agent: </span><span style=\"color: #008000; text-decoration-color: #008000\">Doctor specialized in leprosy</span>\n",
       "│       <span style=\"color: #c0c0c0; text-decoration-color: #c0c0c0\">    Status: </span><span style=\"color: #008000; text-decoration-color: #008000; font-weight: bold\">✅ Completed</span>\n",
       "│       └── <span style=\"color: #008000; text-decoration-color: #008000; font-weight: bold\">🔧 </span><span style=\"color: #008000; text-decoration-color: #008000\">Used Read website content (1)</span>\n",
       "└── <span style=\"color: #808000; text-decoration-color: #808000; font-weight: bold\">📋 Task: 115e9a35-9974-40f9-93b4-ec657b352b4e</span>\n",
       "    <span style=\"color: #c0c0c0; text-decoration-color: #c0c0c0\">   Status: </span><span style=\"color: #bfbf7f; text-decoration-color: #bfbf7f\">Executing Task...</span>\n",
       "    └── <span style=\"color: #008000; text-decoration-color: #008000; font-weight: bold\">🤖 Agent: </span><span style=\"color: #008000; text-decoration-color: #008000\">Doctor Quality Assurance Specialist</span>\n",
       "        <span style=\"color: #c0c0c0; text-decoration-color: #c0c0c0\">    Status: </span><span style=\"color: #008000; text-decoration-color: #008000; font-weight: bold\">In Progress</span>\n",
       "        └── <span style=\"color: #008000; text-decoration-color: #008000; font-weight: bold\">🔧 </span><span style=\"color: #008000; text-decoration-color: #008000\">Used Search in a specific website (2)</span>\n",
       "</pre>\n"
      ],
      "text/plain": [
       "\u001b[1;36m🚀 Crew: \u001b[0m\u001b[1;36mcrew\u001b[0m\n",
       "├── \u001b[1;32m📋 Task: f9d2676e-9e22-4117-ba10-93e967653e93\u001b[0m\n",
       "│   \u001b[37m   Assigned to: \u001b[0m\u001b[32mDoctor specialized in leprosy\u001b[0m\n",
       "│   \u001b[37m   Status: \u001b[0m\u001b[1;32m✅ Completed\u001b[0m\n",
       "│   └── \u001b[1;32m🤖 Agent: \u001b[0m\u001b[32mDoctor specialized in leprosy\u001b[0m\n",
       "│       \u001b[37m    Status: \u001b[0m\u001b[1;32m✅ Completed\u001b[0m\n",
       "│       └── \u001b[1;32m🔧 \u001b[0m\u001b[32mUsed Read website content (1)\u001b[0m\n",
       "└── \u001b[1;33m📋 Task: 115e9a35-9974-40f9-93b4-ec657b352b4e\u001b[0m\n",
       "    \u001b[37m   Status: \u001b[0m\u001b[2;33mExecuting Task...\u001b[0m\n",
       "    └── \u001b[1;32m🤖 Agent: \u001b[0m\u001b[32mDoctor Quality Assurance Specialist\u001b[0m\n",
       "        \u001b[37m    Status: \u001b[0m\u001b[1;32mIn Progress\u001b[0m\n",
       "        └── \u001b[1;32m🔧 \u001b[0m\u001b[32mUsed Search in a specific website (2)\u001b[0m\n"
      ]
     },
     "metadata": {},
     "output_type": "display_data"
    },
    {
     "data": {
      "text/html": [
       "<pre style=\"white-space:pre;overflow-x:auto;line-height:normal;font-family:Menlo,'DejaVu Sans Mono',consolas,'Courier New',monospace\">\n",
       "</pre>\n"
      ],
      "text/plain": [
       "\n"
      ]
     },
     "metadata": {},
     "output_type": "display_data"
    },
    {
     "name": "stdout",
     "output_type": "stream",
     "text": [
      "\n",
      "\n",
      "\u001b[1m\u001b[95m# Agent:\u001b[00m \u001b[1m\u001b[92mDoctor Quality Assurance Specialist\u001b[00m\n",
      "\u001b[95m## Final Answer:\u001b[00m \u001b[92m\n",
      "Caro paciente,\n",
      "\n",
      "A hanseníase, também conhecida como lepra ou mal de Lázaro, é uma doença infecciosa e contagiosa causada pelo bacilo Mycobacterium leprae, afetando os nervos e a pele. Alguns dos sintomas incluem dormências, dor nos nervos, presença de lesões de pele e diminuição da força muscular.\n",
      "\n",
      "O diagnóstico da hanseníase é baseado em critérios clínicos e epidemiológicos, podendo ser confirmado por exames como baciloscopia e histopatológico. Para prevenção, a vacina BCG é aplicada para evitar infecções em contatos próximos. É fundamental buscar atendimento médico rapidamente ao suspeitar da doença.\n",
      "\n",
      "Felizmente, a hanseníase tem tratamento e cura. O tratamento envolve o uso de três antibióticos por um período específico, podendo durar de seis a doze meses, dependendo do estágio da infecção. É importante respeitar o tempo de tratamento e seguir corretamente a medicação para alcançar a cura. No Brasil, o tratamento é disponibilizado gratuitamente pelo Sistema Único de Saúde (SUS).\n",
      "\n",
      "A transmissão ocorre principalmente através das vias aéreas, de uma pessoa infectante da doença para outra suscetível, por meio do espirro ou tosse. A boa notícia é que o paciente em tratamento deixa de transmitir a doença, e a maioria das pessoas expostas aos bacilos não desenvolve a enfermidade.\n",
      "\n",
      "Para mais informações e cuidados específicos, recomendo acessar o site do Ministério da Saúde no link: [Ministério da Saúde - Hanseníase](https://www.saude.gov.br/saude-de-a-z/hanseniase).\n",
      "\n",
      "Cuide-se bem e, em caso de dúvidas, consulte sempre um profissional de saúde.\n",
      "\n",
      "Melhoras!\n",
      "\n",
      "Atenciosamente,\n",
      "Seu médico\u001b[00m\n",
      "\n",
      "\n"
     ]
    },
    {
     "data": {
      "text/html": [
       "<pre style=\"white-space:pre;overflow-x:auto;line-height:normal;font-family:Menlo,'DejaVu Sans Mono',consolas,'Courier New',monospace\"><span style=\"color: #008080; text-decoration-color: #008080; font-weight: bold\">🚀 Crew: crew</span>\n",
       "├── <span style=\"color: #008000; text-decoration-color: #008000; font-weight: bold\">📋 Task: f9d2676e-9e22-4117-ba10-93e967653e93</span>\n",
       "│   <span style=\"color: #c0c0c0; text-decoration-color: #c0c0c0\">   Assigned to: </span><span style=\"color: #008000; text-decoration-color: #008000\">Doctor specialized in leprosy</span>\n",
       "│   <span style=\"color: #c0c0c0; text-decoration-color: #c0c0c0\">   Status: </span><span style=\"color: #008000; text-decoration-color: #008000; font-weight: bold\">✅ Completed</span>\n",
       "│   └── <span style=\"color: #008000; text-decoration-color: #008000; font-weight: bold\">🤖 Agent: </span><span style=\"color: #008000; text-decoration-color: #008000\">Doctor specialized in leprosy</span>\n",
       "│       <span style=\"color: #c0c0c0; text-decoration-color: #c0c0c0\">    Status: </span><span style=\"color: #008000; text-decoration-color: #008000; font-weight: bold\">✅ Completed</span>\n",
       "│       └── <span style=\"color: #008000; text-decoration-color: #008000; font-weight: bold\">🔧 </span><span style=\"color: #008000; text-decoration-color: #008000\">Used Read website content (1)</span>\n",
       "└── <span style=\"color: #808000; text-decoration-color: #808000; font-weight: bold\">📋 Task: 115e9a35-9974-40f9-93b4-ec657b352b4e</span>\n",
       "    <span style=\"color: #c0c0c0; text-decoration-color: #c0c0c0\">   Status: </span><span style=\"color: #bfbf7f; text-decoration-color: #bfbf7f\">Executing Task...</span>\n",
       "    └── <span style=\"color: #008000; text-decoration-color: #008000; font-weight: bold\">🤖 Agent: </span><span style=\"color: #008000; text-decoration-color: #008000\">Doctor Quality Assurance Specialist</span>\n",
       "        <span style=\"color: #c0c0c0; text-decoration-color: #c0c0c0\">    Status: </span><span style=\"color: #008000; text-decoration-color: #008000; font-weight: bold\">✅ Completed</span>\n",
       "        └── <span style=\"color: #008000; text-decoration-color: #008000; font-weight: bold\">🔧 </span><span style=\"color: #008000; text-decoration-color: #008000\">Used Search in a specific website (2)</span>\n",
       "</pre>\n"
      ],
      "text/plain": [
       "\u001b[1;36m🚀 Crew: \u001b[0m\u001b[1;36mcrew\u001b[0m\n",
       "├── \u001b[1;32m📋 Task: f9d2676e-9e22-4117-ba10-93e967653e93\u001b[0m\n",
       "│   \u001b[37m   Assigned to: \u001b[0m\u001b[32mDoctor specialized in leprosy\u001b[0m\n",
       "│   \u001b[37m   Status: \u001b[0m\u001b[1;32m✅ Completed\u001b[0m\n",
       "│   └── \u001b[1;32m🤖 Agent: \u001b[0m\u001b[32mDoctor specialized in leprosy\u001b[0m\n",
       "│       \u001b[37m    Status: \u001b[0m\u001b[1;32m✅ Completed\u001b[0m\n",
       "│       └── \u001b[1;32m🔧 \u001b[0m\u001b[32mUsed Read website content (1)\u001b[0m\n",
       "└── \u001b[1;33m📋 Task: 115e9a35-9974-40f9-93b4-ec657b352b4e\u001b[0m\n",
       "    \u001b[37m   Status: \u001b[0m\u001b[2;33mExecuting Task...\u001b[0m\n",
       "    └── \u001b[1;32m🤖 Agent: \u001b[0m\u001b[32mDoctor Quality Assurance Specialist\u001b[0m\n",
       "        \u001b[37m    Status: \u001b[0m\u001b[1;32m✅ Completed\u001b[0m\n",
       "        └── \u001b[1;32m🔧 \u001b[0m\u001b[32mUsed Search in a specific website (2)\u001b[0m\n"
      ]
     },
     "metadata": {},
     "output_type": "display_data"
    },
    {
     "data": {
      "text/html": [
       "<pre style=\"white-space:pre;overflow-x:auto;line-height:normal;font-family:Menlo,'DejaVu Sans Mono',consolas,'Courier New',monospace\">\n",
       "</pre>\n"
      ],
      "text/plain": [
       "\n"
      ]
     },
     "metadata": {},
     "output_type": "display_data"
    },
    {
     "data": {
      "text/html": [
       "<pre style=\"white-space:pre;overflow-x:auto;line-height:normal;font-family:Menlo,'DejaVu Sans Mono',consolas,'Courier New',monospace\"><span style=\"color: #008080; text-decoration-color: #008080; font-weight: bold\">🚀 Crew: crew</span>\n",
       "├── <span style=\"color: #008000; text-decoration-color: #008000; font-weight: bold\">📋 Task: f9d2676e-9e22-4117-ba10-93e967653e93</span>\n",
       "│   <span style=\"color: #c0c0c0; text-decoration-color: #c0c0c0\">   Assigned to: </span><span style=\"color: #008000; text-decoration-color: #008000\">Doctor specialized in leprosy</span>\n",
       "│   <span style=\"color: #c0c0c0; text-decoration-color: #c0c0c0\">   Status: </span><span style=\"color: #008000; text-decoration-color: #008000; font-weight: bold\">✅ Completed</span>\n",
       "│   └── <span style=\"color: #008000; text-decoration-color: #008000; font-weight: bold\">🤖 Agent: </span><span style=\"color: #008000; text-decoration-color: #008000\">Doctor specialized in leprosy</span>\n",
       "│       <span style=\"color: #c0c0c0; text-decoration-color: #c0c0c0\">    Status: </span><span style=\"color: #008000; text-decoration-color: #008000; font-weight: bold\">✅ Completed</span>\n",
       "│       └── <span style=\"color: #008000; text-decoration-color: #008000; font-weight: bold\">🔧 </span><span style=\"color: #008000; text-decoration-color: #008000\">Used Read website content (1)</span>\n",
       "└── <span style=\"color: #008000; text-decoration-color: #008000; font-weight: bold\">📋 Task: 115e9a35-9974-40f9-93b4-ec657b352b4e</span>\n",
       "    <span style=\"color: #c0c0c0; text-decoration-color: #c0c0c0\">   Assigned to: </span><span style=\"color: #008000; text-decoration-color: #008000\">Doctor Quality Assurance Specialist</span>\n",
       "    <span style=\"color: #c0c0c0; text-decoration-color: #c0c0c0\">   Status: </span><span style=\"color: #008000; text-decoration-color: #008000; font-weight: bold\">✅ Completed</span>\n",
       "    └── <span style=\"color: #008000; text-decoration-color: #008000; font-weight: bold\">🤖 Agent: </span><span style=\"color: #008000; text-decoration-color: #008000\">Doctor Quality Assurance Specialist</span>\n",
       "        <span style=\"color: #c0c0c0; text-decoration-color: #c0c0c0\">    Status: </span><span style=\"color: #008000; text-decoration-color: #008000; font-weight: bold\">✅ Completed</span>\n",
       "        └── <span style=\"color: #008000; text-decoration-color: #008000; font-weight: bold\">🔧 </span><span style=\"color: #008000; text-decoration-color: #008000\">Used Search in a specific website (2)</span>\n",
       "</pre>\n"
      ],
      "text/plain": [
       "\u001b[1;36m🚀 Crew: \u001b[0m\u001b[1;36mcrew\u001b[0m\n",
       "├── \u001b[1;32m📋 Task: f9d2676e-9e22-4117-ba10-93e967653e93\u001b[0m\n",
       "│   \u001b[37m   Assigned to: \u001b[0m\u001b[32mDoctor specialized in leprosy\u001b[0m\n",
       "│   \u001b[37m   Status: \u001b[0m\u001b[1;32m✅ Completed\u001b[0m\n",
       "│   └── \u001b[1;32m🤖 Agent: \u001b[0m\u001b[32mDoctor specialized in leprosy\u001b[0m\n",
       "│       \u001b[37m    Status: \u001b[0m\u001b[1;32m✅ Completed\u001b[0m\n",
       "│       └── \u001b[1;32m🔧 \u001b[0m\u001b[32mUsed Read website content (1)\u001b[0m\n",
       "└── \u001b[1;32m📋 Task: 115e9a35-9974-40f9-93b4-ec657b352b4e\u001b[0m\n",
       "    \u001b[37m   Assigned to: \u001b[0m\u001b[32mDoctor Quality Assurance Specialist\u001b[0m\n",
       "    \u001b[37m   Status: \u001b[0m\u001b[1;32m✅ Completed\u001b[0m\n",
       "    └── \u001b[1;32m🤖 Agent: \u001b[0m\u001b[32mDoctor Quality Assurance Specialist\u001b[0m\n",
       "        \u001b[37m    Status: \u001b[0m\u001b[1;32m✅ Completed\u001b[0m\n",
       "        └── \u001b[1;32m🔧 \u001b[0m\u001b[32mUsed Search in a specific website (2)\u001b[0m\n"
      ]
     },
     "metadata": {},
     "output_type": "display_data"
    },
    {
     "data": {
      "text/html": [
       "<pre style=\"white-space:pre;overflow-x:auto;line-height:normal;font-family:Menlo,'DejaVu Sans Mono',consolas,'Courier New',monospace\"><span style=\"color: #008000; text-decoration-color: #008000\">╭──────────────────────────────────────────────── Task Completion ────────────────────────────────────────────────╮</span>\n",
       "<span style=\"color: #008000; text-decoration-color: #008000\">│</span>                                                                                                                 <span style=\"color: #008000; text-decoration-color: #008000\">│</span>\n",
       "<span style=\"color: #008000; text-decoration-color: #008000\">│</span>  <span style=\"color: #008000; text-decoration-color: #008000; font-weight: bold\">Task Completed</span>                                                                                                 <span style=\"color: #008000; text-decoration-color: #008000\">│</span>\n",
       "<span style=\"color: #008000; text-decoration-color: #008000\">│</span>  <span style=\"color: #c0c0c0; text-decoration-color: #c0c0c0\">Name: </span><span style=\"color: #008000; text-decoration-color: #008000\">115e9a35-9974-40f9-93b4-ec657b352b4e</span>                                                                     <span style=\"color: #008000; text-decoration-color: #008000\">│</span>\n",
       "<span style=\"color: #008000; text-decoration-color: #008000\">│</span>  <span style=\"color: #c0c0c0; text-decoration-color: #c0c0c0\">Agent: </span><span style=\"color: #008000; text-decoration-color: #008000\">Doctor Quality Assurance Specialist</span>                                                                     <span style=\"color: #008000; text-decoration-color: #008000\">│</span>\n",
       "<span style=\"color: #008000; text-decoration-color: #008000\">│</span>                                                                                                                 <span style=\"color: #008000; text-decoration-color: #008000\">│</span>\n",
       "<span style=\"color: #008000; text-decoration-color: #008000\">│</span>                                                                                                                 <span style=\"color: #008000; text-decoration-color: #008000\">│</span>\n",
       "<span style=\"color: #008000; text-decoration-color: #008000\">╰─────────────────────────────────────────────────────────────────────────────────────────────────────────────────╯</span>\n",
       "</pre>\n"
      ],
      "text/plain": [
       "\u001b[32m╭─\u001b[0m\u001b[32m───────────────────────────────────────────────\u001b[0m\u001b[32m Task Completion \u001b[0m\u001b[32m───────────────────────────────────────────────\u001b[0m\u001b[32m─╮\u001b[0m\n",
       "\u001b[32m│\u001b[0m                                                                                                                 \u001b[32m│\u001b[0m\n",
       "\u001b[32m│\u001b[0m  \u001b[1;32mTask Completed\u001b[0m                                                                                                 \u001b[32m│\u001b[0m\n",
       "\u001b[32m│\u001b[0m  \u001b[37mName: \u001b[0m\u001b[32m115e9a35-9974-40f9-93b4-ec657b352b4e\u001b[0m                                                                     \u001b[32m│\u001b[0m\n",
       "\u001b[32m│\u001b[0m  \u001b[37mAgent: \u001b[0m\u001b[32mDoctor Quality Assurance Specialist\u001b[0m                                                                     \u001b[32m│\u001b[0m\n",
       "\u001b[32m│\u001b[0m                                                                                                                 \u001b[32m│\u001b[0m\n",
       "\u001b[32m│\u001b[0m                                                                                                                 \u001b[32m│\u001b[0m\n",
       "\u001b[32m╰─────────────────────────────────────────────────────────────────────────────────────────────────────────────────╯\u001b[0m\n"
      ]
     },
     "metadata": {},
     "output_type": "display_data"
    },
    {
     "data": {
      "text/html": [
       "<pre style=\"white-space:pre;overflow-x:auto;line-height:normal;font-family:Menlo,'DejaVu Sans Mono',consolas,'Courier New',monospace\">\n",
       "</pre>\n"
      ],
      "text/plain": [
       "\n"
      ]
     },
     "metadata": {},
     "output_type": "display_data"
    },
    {
     "data": {
      "text/html": [
       "<pre style=\"white-space:pre;overflow-x:auto;line-height:normal;font-family:Menlo,'DejaVu Sans Mono',consolas,'Courier New',monospace\"><span style=\"color: #008000; text-decoration-color: #008000\">╭──────────────────────────────────────────────── Crew Completion ────────────────────────────────────────────────╮</span>\n",
       "<span style=\"color: #008000; text-decoration-color: #008000\">│</span>                                                                                                                 <span style=\"color: #008000; text-decoration-color: #008000\">│</span>\n",
       "<span style=\"color: #008000; text-decoration-color: #008000\">│</span>  <span style=\"color: #008000; text-decoration-color: #008000; font-weight: bold\">Crew Execution Completed</span>                                                                                       <span style=\"color: #008000; text-decoration-color: #008000\">│</span>\n",
       "<span style=\"color: #008000; text-decoration-color: #008000\">│</span>  <span style=\"color: #c0c0c0; text-decoration-color: #c0c0c0\">Name: </span><span style=\"color: #008000; text-decoration-color: #008000\">crew</span>                                                                                                     <span style=\"color: #008000; text-decoration-color: #008000\">│</span>\n",
       "<span style=\"color: #008000; text-decoration-color: #008000\">│</span>  <span style=\"color: #c0c0c0; text-decoration-color: #c0c0c0\">ID: </span><span style=\"color: #008000; text-decoration-color: #008000\">91a57a7d-ce0b-4f7e-9abc-2fed54ed8b35</span>                                                                       <span style=\"color: #008000; text-decoration-color: #008000\">│</span>\n",
       "<span style=\"color: #008000; text-decoration-color: #008000\">│</span>                                                                                                                 <span style=\"color: #008000; text-decoration-color: #008000\">│</span>\n",
       "<span style=\"color: #008000; text-decoration-color: #008000\">│</span>                                                                                                                 <span style=\"color: #008000; text-decoration-color: #008000\">│</span>\n",
       "<span style=\"color: #008000; text-decoration-color: #008000\">╰─────────────────────────────────────────────────────────────────────────────────────────────────────────────────╯</span>\n",
       "</pre>\n"
      ],
      "text/plain": [
       "\u001b[32m╭─\u001b[0m\u001b[32m───────────────────────────────────────────────\u001b[0m\u001b[32m Crew Completion \u001b[0m\u001b[32m───────────────────────────────────────────────\u001b[0m\u001b[32m─╮\u001b[0m\n",
       "\u001b[32m│\u001b[0m                                                                                                                 \u001b[32m│\u001b[0m\n",
       "\u001b[32m│\u001b[0m  \u001b[1;32mCrew Execution Completed\u001b[0m                                                                                       \u001b[32m│\u001b[0m\n",
       "\u001b[32m│\u001b[0m  \u001b[37mName: \u001b[0m\u001b[32mcrew\u001b[0m                                                                                                     \u001b[32m│\u001b[0m\n",
       "\u001b[32m│\u001b[0m  \u001b[37mID: \u001b[0m\u001b[32m91a57a7d-ce0b-4f7e-9abc-2fed54ed8b35\u001b[0m                                                                       \u001b[32m│\u001b[0m\n",
       "\u001b[32m│\u001b[0m                                                                                                                 \u001b[32m│\u001b[0m\n",
       "\u001b[32m│\u001b[0m                                                                                                                 \u001b[32m│\u001b[0m\n",
       "\u001b[32m╰─────────────────────────────────────────────────────────────────────────────────────────────────────────────────╯\u001b[0m\n"
      ]
     },
     "metadata": {},
     "output_type": "display_data"
    },
    {
     "data": {
      "text/html": [
       "<pre style=\"white-space:pre;overflow-x:auto;line-height:normal;font-family:Menlo,'DejaVu Sans Mono',consolas,'Courier New',monospace\">\n",
       "</pre>\n"
      ],
      "text/plain": [
       "\n"
      ]
     },
     "metadata": {},
     "output_type": "display_data"
    }
   ],
   "source": [
    "#Definindo os valores de entrada para o Crew, \n",
    "#os valores que preencheram os campos/variáveis dos \"prompts\"\n",
    "inputs = {\n",
    "    \"ask\": \"What is leprosy?\"\n",
    "}\n",
    "#Iniciando o Crew\n",
    "result = crew.kickoff(inputs=inputs)"
   ]
  }
 ],
 "metadata": {
  "kernelspec": {
   "display_name": "venv",
   "language": "python",
   "name": "python3"
  },
  "language_info": {
   "codemirror_mode": {
    "name": "ipython",
    "version": 3
   },
   "file_extension": ".py",
   "mimetype": "text/x-python",
   "name": "python",
   "nbconvert_exporter": "python",
   "pygments_lexer": "ipython3",
   "version": "3.12.7"
  }
 },
 "nbformat": 4,
 "nbformat_minor": 2
}
