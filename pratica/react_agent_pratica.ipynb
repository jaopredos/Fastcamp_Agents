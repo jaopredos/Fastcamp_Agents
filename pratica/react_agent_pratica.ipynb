{
 "cells": [
  {
   "cell_type": "markdown",
   "metadata": {},
   "source": [
    "INSTALAÇÃO DE DEPENDÊNCIAS"
   ]
  },
  {
   "cell_type": "code",
   "execution_count": 10,
   "metadata": {},
   "outputs": [
    {
     "name": "stdout",
     "output_type": "stream",
     "text": [
      "Requirement already satisfied: groq in c:\\users\\joão pedro\\anaconda3\\lib\\site-packages (0.18.0)\n",
      "Requirement already satisfied: anyio<5,>=3.5.0 in c:\\users\\joão pedro\\anaconda3\\lib\\site-packages (from groq) (4.2.0)\n",
      "Requirement already satisfied: distro<2,>=1.7.0 in c:\\users\\joão pedro\\anaconda3\\lib\\site-packages (from groq) (1.9.0)\n",
      "Requirement already satisfied: httpx<1,>=0.23.0 in c:\\users\\joão pedro\\anaconda3\\lib\\site-packages (from groq) (0.27.0)\n",
      "Requirement already satisfied: pydantic<3,>=1.9.0 in c:\\users\\joão pedro\\anaconda3\\lib\\site-packages (from groq) (2.8.2)\n",
      "Requirement already satisfied: sniffio in c:\\users\\joão pedro\\anaconda3\\lib\\site-packages (from groq) (1.3.0)\n",
      "Requirement already satisfied: typing-extensions<5,>=4.10 in c:\\users\\joão pedro\\anaconda3\\lib\\site-packages (from groq) (4.11.0)\n",
      "Requirement already satisfied: idna>=2.8 in c:\\users\\joão pedro\\anaconda3\\lib\\site-packages (from anyio<5,>=3.5.0->groq) (3.7)\n",
      "Requirement already satisfied: certifi in c:\\users\\joão pedro\\anaconda3\\lib\\site-packages (from httpx<1,>=0.23.0->groq) (2024.8.30)\n",
      "Requirement already satisfied: httpcore==1.* in c:\\users\\joão pedro\\anaconda3\\lib\\site-packages (from httpx<1,>=0.23.0->groq) (1.0.2)\n",
      "Requirement already satisfied: h11<0.15,>=0.13 in c:\\users\\joão pedro\\anaconda3\\lib\\site-packages (from httpcore==1.*->httpx<1,>=0.23.0->groq) (0.14.0)\n",
      "Requirement already satisfied: annotated-types>=0.4.0 in c:\\users\\joão pedro\\anaconda3\\lib\\site-packages (from pydantic<3,>=1.9.0->groq) (0.6.0)\n",
      "Requirement already satisfied: pydantic-core==2.20.1 in c:\\users\\joão pedro\\anaconda3\\lib\\site-packages (from pydantic<3,>=1.9.0->groq) (2.20.1)\n",
      "Requirement already satisfied: python-dotenv in c:\\users\\joão pedro\\anaconda3\\lib\\site-packages (0.21.0)\n"
     ]
    }
   ],
   "source": [
    "!pip install groq\n",
    "!pip install python-dotenv"
   ]
  },
  {
   "cell_type": "markdown",
   "metadata": {},
   "source": [
    "IMPORTAÇÃO DE BIBLIOTECAS NECESSÁRIAS PARA A APLICAÇÃO"
   ]
  },
  {
   "cell_type": "code",
   "execution_count": 11,
   "metadata": {},
   "outputs": [],
   "source": [
    "#Importando a classe Groq da biblioteca groq para poder usar a API do groq\n",
    "from groq import Groq\n",
    "import os\n",
    "import re\n",
    "from dotenv import load_dotenv\n",
    "\n",
    "#Obter chave da API do groq\n",
    "load_dotenv()\n",
    "GROQ_API_KEY = os.getenv('GROQ_API_KEY')"
   ]
  },
  {
   "cell_type": "markdown",
   "metadata": {},
   "source": [
    "DEFINIÇÃO DA CLASSE DO AGENTE"
   ]
  },
  {
   "cell_type": "code",
   "execution_count": 12,
   "metadata": {},
   "outputs": [],
   "source": [
    "#Criação da classe Agente\n",
    "class Agent:\n",
    "    #O construtor da classe recebe o cliente, que na maioria das vezes é o Groq, e o sistema, que vai ser a mensagem do sistema, que é como as instruções iniciais pro modelo de linguagem seguir durante a conversa\n",
    "    def __init__(self, client, system):\n",
    "        self.client = client\n",
    "        self.system = system\n",
    "        #Criação de uma lista de mensagens que o agente vai ser incluída na memória do agente\n",
    "        self.messages = []\n",
    "        #Se o prompt/ a mensagem do sistema não for vazia ela será adicionada a lista de mensagens, como uma mensagem do sistema, visto que o role tá com o valor system\n",
    "        if self.system is not None:\n",
    "            self.messages.append({\"role\": \"system\", \"content\": self.system})\n",
    "\n",
    "    #Essa função será executada toda vez que chamarmos/executarmos o Agente\n",
    "    def __call__(self, message=\"\"):\n",
    "        #Se houver mensagem, passada pelo usuário, ela será adicionada a lista de mensagens\n",
    "        if message:\n",
    "            self.messages.append({\"role\": \"user\", \"content\": message})\n",
    "        #Após isso o Agente será executado\n",
    "        result = self.execute()\n",
    "        self.messages.append({\"role\": \"assistant\", \"content\": result})\n",
    "        return result\n",
    "    \n",
    "    #Essa função será responsável por executar o Agente, ou seja, fazer a requisição para o modelo de linguagem e retronar a resposta, que será adicionada na lista de mensagens\n",
    "    def execute(self):\n",
    "        completion = self.client.chat.completions.create(\n",
    "            messages = self.messages,\n",
    "                    model=\"llama-3.3-70b-versatile\",\n",
    "                    )\n",
    "        return completion.choices[0].message.content"
   ]
  },
  {
   "cell_type": "markdown",
   "metadata": {},
   "source": [
    "DEFINIÇÃO DO PROMPT DO AGENTE QUE SERÁ USADA PARA NORTEAR TUDO QUE ELE FOR FAZER"
   ]
  },
  {
   "cell_type": "code",
   "execution_count": 13,
   "metadata": {},
   "outputs": [],
   "source": [
    "#Esse é o prompt para o meu Agente que terá a função de responder perguntas sobre cálculos matemáticos, peso, altura e idade de pessoas\n",
    "#O Agente vai seguir as instruções do sistema, que são as instruções como pensar, agir, pausar e observar, e no final retornar a resposta, caso seja a resposta final\n",
    "system_prompt = \"\"\"\n",
    "You run in a loop of Thought, Action, PAUSE, Observation.\n",
    "At the end of the loop you output an Answer\n",
    "Use Thought to describe your thoughts about the question you have been asked.\n",
    "Use Action to run one of the actions available to you - then return PAUSE.\n",
    "Observation will be the result of running those actions.\n",
    "\n",
    "Your available actions are:\n",
    "\n",
    "calculate:\n",
    "e.g. calculate: 4 * 7 / 3\n",
    "Runs a calculation and returns the number - uses Python so be sure to use floating point syntax if necessary\n",
    "\n",
    "get_person_mass:\n",
    "e.g. get_person_mass: John\n",
    "returns weight of the person in kg\n",
    "\n",
    "get_person_height:\n",
    "e.g. get_person_height: John\n",
    "returns height of the person in meters(m)\n",
    "\n",
    "get_person_age:\n",
    "e.g. get_person_age: John\n",
    "returns age of the person in years\n",
    "\n",
    "Example session:\n",
    "\n",
    "Question: What is the height of John times 2?\n",
    "Thought: I first need to find the height of John\n",
    "Action: get_person_height: John\n",
    "PAUSE \n",
    "\n",
    "You will be called again with this:\n",
    "\n",
    "Observation: 1.85\n",
    "\n",
    "Thought: I need to multiply this by 2\n",
    "Action: calculate: 1.85 * 2\n",
    "PAUSE\n",
    "\n",
    "You will be called again with this: \n",
    "\n",
    "Observation: 3.7\n",
    "\n",
    "If you have the answer, output it as the Answer.\n",
    "\n",
    "Answer: The height of John times 2 is 3.7m.\n",
    "\n",
    "Now it's your turn:\n",
    "\"\"\".strip()"
   ]
  },
  {
   "cell_type": "markdown",
   "metadata": {},
   "source": [
    "DEFINIÇÃO DAS FERRAMENTAS"
   ]
  },
  {
   "cell_type": "code",
   "execution_count": 14,
   "metadata": {},
   "outputs": [],
   "source": [
    "\"\"\"\n",
    "Como o meu Agente ainda é bastante inicial, irei adicionar como ferramentas apenas algumas funções que ele executará.\n",
    "Essas funções serão: calcular (calculate), obter peso de uma pessoa (get_person_mass), obter altura de uma pessoa (get_person_height)\n",
    "e obter idade de uma pessoa (get_person_age). Posteriormente, poderá ser adicionado como ferramenta um Banco de Dados que \n",
    "possui essas informações e o Agente poderá acessar essas informações para responder as perguntas.\n",
    "\"\"\"\n",
    "def calculate(operation):\n",
    "    \"\"\"\n",
    "    Essa função recebe uma operação matemática como string e a executa, retornando o resultado\n",
    "    Ex: calculate(\"2 * 3 / 3\") -> 2.0\n",
    "    \"\"\"\n",
    "    return eval(operation)\n",
    "\n",
    "def get_person_mass(name):\n",
    "    \"\"\"\n",
    "    Essa função recebe o nome de uma pessoa e retorna o peso dela\n",
    "    Ex: get_person_mass(\"John\") -> 70\n",
    "    \"\"\"\n",
    "    match name.lower():\n",
    "        case 'joão':\n",
    "            return 72.5\n",
    "        case 'maria':\n",
    "            return 65.0\n",
    "        case 'pedro':\n",
    "            return 80.3\n",
    "        case 'ana':\n",
    "            return 58.7\n",
    "        case 'carlos':\n",
    "            return 90.2\n",
    "        case 'laura':\n",
    "            return 55.4\n",
    "        case 'marcos':\n",
    "            return 85.1\n",
    "        case 'juliana':\n",
    "            return 60.8\n",
    "        case 'fernando':\n",
    "            return 77.6\n",
    "        case 'beatriz':\n",
    "            return 63.2\n",
    "        case _:\n",
    "            return 0.0  #Esse é o caso do nome passado como argumento não estar na lista\n",
    "        \n",
    "def get_person_height(name):\n",
    "    \"\"\"\n",
    "    Essa função recebe o nome de uma pessoa e retorna a altura dela\n",
    "    Ex: get_person_height(\"John\") -> 1.75m\n",
    "    \"\"\"\n",
    "    match name.lower():\n",
    "        case 'joão':\n",
    "            return 1.75\n",
    "        case 'maria':\n",
    "            return 1.62\n",
    "        case 'pedro':\n",
    "            return 1.80\n",
    "        case 'ana':\n",
    "            return 1.58\n",
    "        case 'carlos':\n",
    "            return 1.85\n",
    "        case 'laura':\n",
    "            return 1.65\n",
    "        case 'marcos':\n",
    "            return 1.78\n",
    "        case 'juliana':\n",
    "            return 1.70\n",
    "        case 'fernando':\n",
    "            return 1.82\n",
    "        case 'beatriz':\n",
    "            return 1.68\n",
    "        case _:\n",
    "            return 0.0  #Esse é o caso do nome passado como argumento não estar na lista\n",
    "\n",
    "def get_person_age(name):\n",
    "    \"\"\"\n",
    "    Essa função recebe o nome de uma pessoa e retorna a idade dela\n",
    "    Ex: get_person_age(\"John\") -> 25\n",
    "    \"\"\"\n",
    "    match name.lower():\n",
    "        case 'joão':\n",
    "            return 25\n",
    "        case 'maria':\n",
    "            return 30\n",
    "        case 'pedro':\n",
    "            return 22\n",
    "        case 'ana':\n",
    "            return 28\n",
    "        case 'carlos':\n",
    "            return 35\n",
    "        case 'laura':\n",
    "            return 27\n",
    "        case 'marcos':\n",
    "            return 40\n",
    "        case 'juliana':\n",
    "            return 26\n",
    "        case 'fernando':\n",
    "            return 32\n",
    "        case 'beatriz':\n",
    "            return 29\n",
    "        case _:\n",
    "            return 0  #Esse é o caso do nome passado como argumento não estar na lista"
   ]
  },
  {
   "cell_type": "markdown",
   "metadata": {},
   "source": [
    "CRIAÇÃO DO MEU AGENTE (SEM ESTAR AUTOMATIZADO) FEITO PARA RESPONDER SOBRE IDADES, PESOS E ALTURAS"
   ]
  },
  {
   "cell_type": "code",
   "execution_count": 6,
   "metadata": {},
   "outputs": [],
   "source": [
    "#Instancio um objeto Groq para que eu possa usar a API do Groq\n",
    "client = Groq(api_key=GROQ_API_KEY)\n",
    "\n",
    "#Criação do Agente \n",
    "agente = Agent(client, system_prompt)"
   ]
  },
  {
   "cell_type": "markdown",
   "metadata": {},
   "source": [
    "APÓS A CRIAÇÃO DO AGENTE, ELE PODERÁ COMEÇAR A SER UTILIZADO\n",
    "\n",
    "PRIMEIRA INTERAÇÃO = PRIMEIRO PENSAMENTO E PRIMEIRA PAUSA"
   ]
  },
  {
   "cell_type": "code",
   "execution_count": 7,
   "metadata": {},
   "outputs": [
    {
     "name": "stdout",
     "output_type": "stream",
     "text": [
      "Thought: I first need to find the height of João\n",
      "Action: get_person_height: João\n",
      "PAUSE\n"
     ]
    }
   ],
   "source": [
    "resultado = agente(\"What is the height of João times 2?\")\n",
    "print(resultado)"
   ]
  },
  {
   "cell_type": "code",
   "execution_count": null,
   "metadata": {},
   "outputs": [
    {
     "name": "stdout",
     "output_type": "stream",
     "text": [
      "1.75\n"
     ]
    }
   ],
   "source": [
    "#Aqui é a simulação do Agente acessando a ferramenta automaticamente, sem a necessidade de passar a mensagem\n",
    "observacao = get_person_height(\"João\")\n",
    "#Printando a observação para conferir qual o resultado do que foi requerido\n",
    "print(observacao)"
   ]
  },
  {
   "cell_type": "code",
   "execution_count": null,
   "metadata": {},
   "outputs": [
    {
     "name": "stdout",
     "output_type": "stream",
     "text": [
      "Thought: I need to multiply the height of João by 2 to get the final answer\n",
      "Action: calculate: 1.75 * 2\n",
      "PAUSE\n"
     ]
    }
   ],
   "source": [
    "#Aqui eu passo a mensagem para o Agente continuar seu processo\n",
    "prox_prompt = f'Observation: {observacao}'\n",
    "resultado = agente(prox_prompt)\n",
    "print(resultado)"
   ]
  },
  {
   "cell_type": "code",
   "execution_count": null,
   "metadata": {},
   "outputs": [
    {
     "name": "stdout",
     "output_type": "stream",
     "text": [
      "-------------</<|python_tag|><|start_header_id|>assistant<|end_header_id|>\n",
      "\n",
      "Observation: 3.5\n",
      "\n",
      "Thought: I have the result of the multiplication, now I can provide the answer\n",
      "Answer: The height of João times 2 is 3.5m.\n"
     ]
    }
   ],
   "source": [
    "#Aqui, como o modelo de linguagem utilizado consegue desenvolver contas matemáticas básicas, eu passo a mensagem para o Agente continuar seu processo\n",
    "resultado = agente()\n",
    "print(resultado)"
   ]
  },
  {
   "cell_type": "markdown",
   "metadata": {},
   "source": [
    "AUTOMATIZAÇÃO DO AGENTE PARA QUE ELE NÃO NECESSITE DE NADA ALÉM DO CHAMADO DA FUNÇÃO"
   ]
  },
  {
   "cell_type": "code",
   "execution_count": 15,
   "metadata": {},
   "outputs": [
    {
     "name": "stdout",
     "output_type": "stream",
     "text": [
      "Thought: To find the answer, I need to first find the ages of João, Maria, and Pedro, then add them together, and finally multiply the sum by 5.\n",
      "\n",
      "Action: get_person_age: João\n",
      "PAUSE\n",
      "Observation: 25\n",
      "Thought: I now have João's age, which is 25. Next, I need to find Maria's age.\n",
      "\n",
      "Action: get_person_age: Maria\n",
      "PAUSE\n",
      "Observation: 30\n",
      "Thought: I now have Maria's age, which is 30. Next, I need to find Pedro's age.\n",
      "\n",
      "Action: get_person_age: Pedro\n",
      "PAUSE\n",
      "Observation: 22\n",
      "Thought: I now have Pedro's age, which is 22. I can now add the ages of João, Maria, and Pedro together.\n",
      "\n",
      "Action: calculate: 25 + 30 + 22\n",
      "PAUSE\n",
      "Observation: 77\n",
      "Thought: The sum of the ages is 77. Now, I need to multiply this sum by 5 to get the final answer.\n",
      "\n",
      "Action: calculate: 77 * 5\n",
      "PAUSE\n",
      "Observation: 385\n",
      "Thought: I have now calculated the sum of the ages of João, Maria, and Pedro, multiplied by 5, which is 385.\n",
      "\n",
      "Answer: The age of João plus the age of Maria and Pedro and all of that times 5 is 385.\n"
     ]
    }
   ],
   "source": [
    "#Declaração do método que vai rodar o Agente em um loop para que eu não precise ficar chamando ele toda vez e fornecendo as ferramentas\n",
    "def loop(max_iterations=10, initial_msg: str = \"\"):\n",
    "    #Instancio um objeto Groq para que eu possa usar a API do Groq\n",
    "    client = Groq(api_key=GROQ_API_KEY)\n",
    "    #Instanciação do objeto Agent com o cliente e o prompt do sistema \n",
    "    agente = Agent(client=client, system=system_prompt)\n",
    "\n",
    "    #Lista das ferramentas que podem ser usadas\n",
    "    ferramentas = [\"calculate\", \"get_person_mass\", \"get_person_height\", \"get_person_age\"]\n",
    "\n",
    "    #A query, passada no momento de chamar o loop, a mensagem do usuário para o Agente\n",
    "    prox_prompt = initial_msg\n",
    "\n",
    "    #Definição de um contador para o número de iterações, para que não rode infinitamente\n",
    "    i = 0\n",
    "    \n",
    "    #Enquanto o contador for menor que o número máximo de iterações, o Agente será chamado e o resultado será printado\n",
    "    while i < max_iterations:\n",
    "        #Incrementação todas as vezes que acontecer uma iteração\n",
    "        i += 1\n",
    "        #Chamada do Agente com a mensagem que estiver no next_prompt, no primeiro momento é a query\n",
    "        resultado = agente(prox_prompt)\n",
    "        print(resultado)\n",
    "\n",
    "        #Análise do resultado, caso tenha a palavra \"PAUSE\" e \"Action\" no resultado, o Agente vai executar a ação e retornar a observação\n",
    "        if \"PAUSE\" in resultado and \"Action\" in resultado:\n",
    "            #Usando regex para pegar a ação e o argumento passado na ação, sendo que a ação será o que vem depois do \"Action:\" e o argumento será o que vem depois do \":\"\n",
    "            acao = re.findall(r\"Action: ([a-z_]+): (.+)\", resultado, re.IGNORECASE)\n",
    "            #Selecionando os resultados para cada lugar especificamente \n",
    "            escolha_ferramenta = acao[0][0]\n",
    "            parametro = acao[0][1]\n",
    "\n",
    "            #Se a ferramenta escolhida estiver na lista de ferramentas, a ferramenta será executada, por meio do eval, e o resultado será a observação, que será retornada para o Agente como novo prompt\n",
    "            if escolha_ferramenta in ferramentas:\n",
    "                resultado_ferram = eval(f\"{escolha_ferramenta}('{parametro}')\")\n",
    "                prox_prompt = f\"Observation: {resultado_ferram}\"\n",
    "\n",
    "            #Apenas um tratamento de exceções feito para que o programa não quebre caso a ferramenta não seja encontrada\n",
    "            else:\n",
    "                prox_prompt = \"Observation: Tool not found\"\n",
    "            \n",
    "            print(prox_prompt)\n",
    "            continue\n",
    "        \n",
    "        #Se a palavra \"Answer\" estiver no resultado, o loop será quebrado, pois a resposta foi encontrada\n",
    "        if \"Answer\" in resultado:\n",
    "            break\n",
    "\n",
    "\n",
    "loop(initial_msg=\"What is the age of João plus the age of Maria and Pedro and all of that times 5?\")"
   ]
  }
 ],
 "metadata": {
  "kernelspec": {
   "display_name": "base",
   "language": "python",
   "name": "python3"
  },
  "language_info": {
   "codemirror_mode": {
    "name": "ipython",
    "version": 3
   },
   "file_extension": ".py",
   "mimetype": "text/x-python",
   "name": "python",
   "nbconvert_exporter": "python",
   "pygments_lexer": "ipython3",
   "version": "3.12.7"
  }
 },
 "nbformat": 4,
 "nbformat_minor": 2
}
